{
 "cells": [
  {
   "cell_type": "markdown",
   "id": "aaf48b0b-a79a-4bc3-9538-44d4fbc64417",
   "metadata": {},
   "source": [
    "# Discrete Probability Functions\n",
    "\n",
    "We have four scenarios which are quite common in probability problem-solving. \n",
    "1. Binomial\n",
    "2. Geometric\n",
    "3. Hypergeometric\n",
    "4. Negative Binomial\n",
    "\n",
    "How do we determine which of the 4 may be appropriate for a given scenario?\n",
    "- Stopping Criteria: finite trials vs. (theoretically) infinite trials.\n",
    "- Probability: fixed vs. variable."
   ]
  },
  {
   "cell_type": "markdown",
   "id": "df3f1f4e-94c7-490c-87d0-86fedfe1019b",
   "metadata": {},
   "source": [
    "## Examples\n",
    "A factory that makes M\\&M's has a collector where different colored candies pour in from the mono-color production lines that make individual colors of M\\&M's. For the next hour, the collector will receive mono-colored batches of red 50\\% of the time, green 30\\% of the time and yellow 20\\% of the time.\n",
    "\n",
    "1. What is the probability that exactly four green or yellow batches occur before the third red batch?\n"
   ]
  },
  {
   "cell_type": "code",
   "execution_count": null,
   "id": "893e8174-4823-489e-9e98-5e734f3ede5a",
   "metadata": {},
   "outputs": [],
   "source": []
  },
  {
   "cell_type": "code",
   "execution_count": null,
   "id": "ca9c895e-6a09-41da-8b8f-19e25dd055be",
   "metadata": {},
   "outputs": [],
   "source": []
  },
  {
   "cell_type": "markdown",
   "id": "3b6ff974-4b54-45f2-b982-4c3fef0cdf29",
   "metadata": {},
   "source": [
    "2. Mandy is selecting 15 M\\&M's with her eyes closed from a thoroughly mixed batch of 30 red and 70 green candies. What is the probability she selects 10 red candies?"
   ]
  },
  {
   "cell_type": "code",
   "execution_count": null,
   "id": "cfa3748e-97a4-410a-8e37-a491f04b1784",
   "metadata": {},
   "outputs": [],
   "source": []
  },
  {
   "cell_type": "code",
   "execution_count": null,
   "id": "60593eb0-7296-40f5-8bb3-25d7fc52fd8a",
   "metadata": {},
   "outputs": [],
   "source": []
  },
  {
   "cell_type": "markdown",
   "id": "9ada317e-d6d1-4b4f-9760-3c447b56f15c",
   "metadata": {},
   "source": [
    "3. What is the probability that 6 of the next 10 batches are green?"
   ]
  },
  {
   "cell_type": "code",
   "execution_count": null,
   "id": "9c398b5f-b579-4e00-81e7-894bdb0100d7",
   "metadata": {},
   "outputs": [],
   "source": []
  },
  {
   "cell_type": "code",
   "execution_count": null,
   "id": "00d2ad26-8238-4570-a56b-befd46050a41",
   "metadata": {},
   "outputs": [],
   "source": []
  },
  {
   "cell_type": "markdown",
   "id": "11942e2e-ca46-409f-9c15-597635b8b4a2",
   "metadata": {},
   "source": [
    "4. What is the probability that the first yellow batch occurs on the tenth batch?"
   ]
  },
  {
   "cell_type": "code",
   "execution_count": null,
   "id": "6eee0505-5d26-410c-9409-3ed8faec12f1",
   "metadata": {},
   "outputs": [],
   "source": []
  },
  {
   "cell_type": "code",
   "execution_count": null,
   "id": "02bffae7-6d7b-4135-8505-4cb96f25a16a",
   "metadata": {},
   "outputs": [],
   "source": []
  },
  {
   "cell_type": "markdown",
   "id": "dbce0076-8bc2-41a6-8d19-e8a84cebf5fa",
   "metadata": {},
   "source": [
    "5. What is the probability that, of the next 15 batches, 3 of them are green?"
   ]
  },
  {
   "cell_type": "code",
   "execution_count": null,
   "id": "15f6ca53-1f5f-4952-970d-1187d396f000",
   "metadata": {},
   "outputs": [],
   "source": []
  },
  {
   "cell_type": "code",
   "execution_count": null,
   "id": "cc59e722-76b6-425a-9c3f-2bbd2a98abab",
   "metadata": {},
   "outputs": [],
   "source": []
  },
  {
   "cell_type": "markdown",
   "id": "6175fc7c-c311-4858-bd0c-4f6e1ed066f1",
   "metadata": {},
   "source": [
    "6. What is the probablilty that 4th red batch occurs on the 9th batch?"
   ]
  },
  {
   "cell_type": "code",
   "execution_count": null,
   "id": "291e1fd7-6129-48ad-bfe5-1169e4518a9e",
   "metadata": {},
   "outputs": [],
   "source": []
  },
  {
   "cell_type": "code",
   "execution_count": null,
   "id": "55a3ffd4-da63-422c-b512-9a85bc10e8eb",
   "metadata": {},
   "outputs": [],
   "source": []
  }
 ],
 "metadata": {
  "kernelspec": {
   "display_name": "R",
   "language": "R",
   "name": "ir"
  },
  "language_info": {
   "codemirror_mode": "r",
   "file_extension": ".r",
   "mimetype": "text/x-r-source",
   "name": "R",
   "pygments_lexer": "r",
   "version": "3.6.1"
  }
 },
 "nbformat": 4,
 "nbformat_minor": 5
}
