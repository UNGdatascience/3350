{
 "cells": [
  {
   "cell_type": "markdown",
   "id": "rubber-turkey",
   "metadata": {},
   "source": [
    "# $t$-tests\n",
    "\n",
    "Conduct the following hypothesis tests both in R and by-hand."
   ]
  },
  {
   "cell_type": "code",
   "execution_count": 1,
   "id": "cross-plastic",
   "metadata": {},
   "outputs": [],
   "source": [
    "p <- read.csv('http://faculty.ung.edu/rsinn/data/personality.csv')\n",
    "births <-  read.csv('http://faculty.ung.edu/rsinn/data/baby.csv')\n",
    "united <- read.csv('http://faculty.ung.edu/rsinn/data/united.csv')\n",
    "airports <- read.csv('http://faculty.ung.edu/rsinn/data/airports.csv')"
   ]
  },
  {
   "cell_type": "markdown",
   "id": "eastern-andrew",
   "metadata": {},
   "source": [
    "## Caffeine\n",
    "\n",
    "The question was asked of UNG students: \"How many 8 oz. servings of caffeine do you consume per day?\" Test the hypothesis that UNG students of that era drank, on average, more than two 8 oz. servings of caffeine per day."
   ]
  },
  {
   "cell_type": "code",
   "execution_count": null,
   "id": "variable-wings",
   "metadata": {},
   "outputs": [],
   "source": []
  },
  {
   "cell_type": "code",
   "execution_count": null,
   "id": "unknown-satin",
   "metadata": {},
   "outputs": [],
   "source": []
  },
  {
   "cell_type": "code",
   "execution_count": null,
   "id": "passing-confidence",
   "metadata": {},
   "outputs": [],
   "source": []
  },
  {
   "cell_type": "code",
   "execution_count": null,
   "id": "chief-pixel",
   "metadata": {},
   "outputs": [],
   "source": []
  },
  {
   "cell_type": "code",
   "execution_count": null,
   "id": "personalized-grocery",
   "metadata": {},
   "outputs": [],
   "source": []
  },
  {
   "cell_type": "markdown",
   "id": "interstate-collectible",
   "metadata": {},
   "source": [
    "# Airports and Delays\n",
    "\n",
    "Are delays at southern airports less than the delays at northern airports where bad weather like snow and ice is more common? Compare the average delays at 2 southerm airports\n",
    "\n",
    "- ATL, Atlanta\n",
    "- DFW, Dallas Fort Worth\n",
    "\n",
    "to the average delays at two northern airports\n",
    "\n",
    "- BWI, Baltimore Washington\n",
    "- ORD, Chicago\n",
    "\n",
    "Determine if there is a difference in average delays."
   ]
  },
  {
   "cell_type": "code",
   "execution_count": null,
   "id": "generic-legislature",
   "metadata": {},
   "outputs": [],
   "source": []
  },
  {
   "cell_type": "code",
   "execution_count": null,
   "id": "competent-asthma",
   "metadata": {},
   "outputs": [],
   "source": []
  },
  {
   "cell_type": "code",
   "execution_count": null,
   "id": "level-personality",
   "metadata": {},
   "outputs": [],
   "source": []
  },
  {
   "cell_type": "code",
   "execution_count": null,
   "id": "regular-handy",
   "metadata": {},
   "outputs": [],
   "source": []
  },
  {
   "cell_type": "code",
   "execution_count": null,
   "id": "opposite-haiti",
   "metadata": {},
   "outputs": [],
   "source": []
  },
  {
   "cell_type": "markdown",
   "id": "gentle-breast",
   "metadata": {},
   "source": [
    "## Pretest vs. Posttest\n",
    "\n",
    "Compare the levels of stress in the second week of classes to the levels during midterms. Does stress for students increase during midterms?"
   ]
  },
  {
   "cell_type": "code",
   "execution_count": null,
   "id": "variable-moore",
   "metadata": {},
   "outputs": [],
   "source": []
  },
  {
   "cell_type": "code",
   "execution_count": null,
   "id": "novel-islam",
   "metadata": {},
   "outputs": [],
   "source": []
  },
  {
   "cell_type": "code",
   "execution_count": null,
   "id": "blank-currency",
   "metadata": {},
   "outputs": [],
   "source": []
  },
  {
   "cell_type": "code",
   "execution_count": null,
   "id": "civil-smoke",
   "metadata": {},
   "outputs": [],
   "source": []
  },
  {
   "cell_type": "code",
   "execution_count": null,
   "id": "diverse-dubai",
   "metadata": {},
   "outputs": [],
   "source": []
  }
 ],
 "metadata": {
  "kernelspec": {
   "display_name": "R",
   "language": "R",
   "name": "ir"
  },
  "language_info": {
   "codemirror_mode": "r",
   "file_extension": ".r",
   "mimetype": "text/x-r-source",
   "name": "R",
   "pygments_lexer": "r",
   "version": "4.0.3"
  }
 },
 "nbformat": 4,
 "nbformat_minor": 5
}
