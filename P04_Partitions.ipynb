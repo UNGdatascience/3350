{
 "cells": [
  {
   "cell_type": "markdown",
   "id": "059afdb5-072c-4eed-801a-848f157a316e",
   "metadata": {},
   "source": [
    "# Partitions\n",
    "\n",
    "Given two disjoint events sets $A$ and $B$ such that $A\\cap B = \\emptyset$, then\n",
    "$$P(A\\cup B)=P(A)+P(B)$$\n",
    "\n",
    "When the intersection of two or more event sets is **non-empty**, probability problem-solving complicates quickly. *Disjoint event sets are extremely helpful*.\n",
    "\n",
    "**Definition**\n",
    "A *partition* is a collection of subsets of the probability space $S$ where the subsets $A_1, A_2, \\dots , A_n$ have the properties:\n",
    "1. They are **non-empty**: $A_i\\neq \\emptyset \\hspace{5mm}\\forall i$.\n",
    "2. They are **pairwise disjoint**: $A_i \\cap A_j = \\emptyset \\hspace{5mm}\\forall i\\neq j$.\n",
    "3. Their union is $S$: $A_1 \\cup A_2 \\cup \\cdots \\cup A_n = S$"
   ]
  },
  {
   "cell_type": "markdown",
   "id": "685bea91-24a7-49f4-b6e5-bded84837360",
   "metadata": {},
   "source": [
    "**Key Idea**: we can use *partitions* as tools to break down complicated events into digestible pieces."
   ]
  },
  {
   "cell_type": "markdown",
   "id": "20ff8939-c8a9-4a00-ad58-4bc8c31c25fd",
   "metadata": {},
   "source": [
    "## Example 1\n",
    "\n",
    "Seven seniors are being added to the homecoming committe, 3 football players and 4 cheerleaders. If 9 football players and 7 cheerleaders are elligible, how many different groups of football players and cheerleaders may be added?\n",
    "\n",
    "We have a partition with 2 subsets:\n",
    "1. $F$ -- Football players where $|F|=9$\n",
    "2. $C$ -- Cheerleaders where $|C|=7$\n",
    "\n",
    "The blue loop in the figure shows all new committee members under consideration. Do these subsets form a partition of these potential new members?\n",
    "\n",
    "![Partitions](Partition.png)\n",
    "\n",
    "We calculate the arrangements within each subset and multiply the results:\n",
    "$$|F\\cup C| = \\binom{9}{3}\\binom{7}{4}$$"
   ]
  },
  {
   "cell_type": "code",
   "execution_count": null,
   "id": "279ec338-cf2e-4516-893b-0b4cdf9c6557",
   "metadata": {},
   "outputs": [],
   "source": []
  },
  {
   "cell_type": "code",
   "execution_count": null,
   "id": "797bea8c-f0a4-4382-8b81-5ef2e94e1cfa",
   "metadata": {},
   "outputs": [],
   "source": []
  },
  {
   "cell_type": "markdown",
   "id": "96b4ee24-272e-46ba-a3e2-7de7ee2f0718",
   "metadata": {},
   "source": [
    "## Example 2\n",
    "\n",
    "**Questions**\n",
    "\n",
    "1. One party in the Senate is attempting to set up a committee to meet with the President. They want 3 senators from East of the Mississippi and 2 from West. If their party has 14 senators from West of the Mississippi and 17 from East, how many different committees could be formed?"
   ]
  },
  {
   "cell_type": "code",
   "execution_count": null,
   "id": "2011145a-6199-4231-8971-c64db1a2b48c",
   "metadata": {},
   "outputs": [],
   "source": []
  },
  {
   "cell_type": "code",
   "execution_count": null,
   "id": "d81c8a06-66ba-418f-a0be-c257ae3cec4a",
   "metadata": {},
   "outputs": [],
   "source": []
  },
  {
   "cell_type": "markdown",
   "id": "cb371485-87e6-4bf8-a770-b951f622629f",
   "metadata": {},
   "source": [
    "2. On a game show, a treasure is hidden inside a balloon. There are 80 red balloons, 55 blue balloons and 15 orange balloons. Contestants have 30 seconds in a windy room to grab 2 of each color. How many different collections of 6 balloons are possible?"
   ]
  },
  {
   "cell_type": "code",
   "execution_count": null,
   "id": "67755403-3dcd-46ee-b16f-3047004c5e47",
   "metadata": {},
   "outputs": [],
   "source": []
  },
  {
   "cell_type": "code",
   "execution_count": null,
   "id": "70b7ed4f-ce36-49dd-9a1b-6684031028b7",
   "metadata": {},
   "outputs": [],
   "source": []
  },
  {
   "cell_type": "markdown",
   "id": "c6669c4c-05e1-4207-a757-1c8a0d2246c7",
   "metadata": {},
   "source": [
    "3. Jody wants a puppy. At the pet store when she arrives, there are 11 labradors, 3 beagles and 5 German shepherds. Jody's favorite puppy is beagle. If her mom -- who's in a terrible hurry -- buys 2 puppies that are different breeds at random, what is the probability that Jody gets a beagle?"
   ]
  },
  {
   "cell_type": "code",
   "execution_count": null,
   "id": "d89b270b-e57f-4b65-8613-1b5dac6a16ef",
   "metadata": {},
   "outputs": [],
   "source": []
  },
  {
   "cell_type": "code",
   "execution_count": null,
   "id": "317a15ae-2463-4f5d-bcde-1f616c4865d4",
   "metadata": {},
   "outputs": [],
   "source": []
  },
  {
   "cell_type": "markdown",
   "id": "55ef1f7c-37c5-49cf-ac3b-6a7059e10578",
   "metadata": {},
   "source": [
    "## Example: Poker Hand Probabilities\n",
    "\n",
    "Find the probability for the following given that a 5-card hand is drawn from standard, well-shuffled deck of playing cards:\n",
    "- 4-of-a-Kind\n",
    "- Flush\n",
    "- Full House\n",
    "- 3-of-a-Kind\n",
    "- 2 Pair\n",
    "- Pair\n",
    "\n",
    "We have straights and straight flushes in the realm of poker hands, but those calculations do not require partitions. The figure below illustrates the **value** partition of the deck of cards. We have 13 value subsets, and each subset contains 4 different cards."
   ]
  },
  {
   "cell_type": "markdown",
   "id": "f1bdabf7-a712-4212-915b-ec1213495cee",
   "metadata": {},
   "source": [
    "![Partitions_Deck_of_Cards](Partition_Cards.png)"
   ]
  },
  {
   "cell_type": "markdown",
   "id": "f7458714-794c-411a-83f5-260bc0be83fa",
   "metadata": {},
   "source": [
    "### Probability of drawing a 4-of-a Kind"
   ]
  },
  {
   "cell_type": "code",
   "execution_count": null,
   "id": "7b624858-3067-494b-864f-c650cf0f5fce",
   "metadata": {},
   "outputs": [],
   "source": []
  },
  {
   "cell_type": "code",
   "execution_count": null,
   "id": "54f4c33e-553a-49de-ab90-2abb9cadaddc",
   "metadata": {},
   "outputs": [],
   "source": []
  },
  {
   "cell_type": "markdown",
   "id": "e3a0804f-bb36-4c42-b20d-69d4fb4118c5",
   "metadata": {},
   "source": [
    "### Probability of drawing a Flush"
   ]
  },
  {
   "cell_type": "code",
   "execution_count": null,
   "id": "7cd143d8-bf75-437a-9d96-e7365cf7f8f1",
   "metadata": {},
   "outputs": [],
   "source": []
  },
  {
   "cell_type": "code",
   "execution_count": null,
   "id": "d7235eda-13d7-4542-8fe2-c68f23062b49",
   "metadata": {},
   "outputs": [],
   "source": []
  },
  {
   "cell_type": "markdown",
   "id": "fa2de949-962b-44a9-aca9-a50624e593da",
   "metadata": {},
   "source": [
    "### Probability of drawing a Full House"
   ]
  },
  {
   "cell_type": "code",
   "execution_count": null,
   "id": "d7b864e6-1c99-4988-8679-e07a4b9ab14f",
   "metadata": {},
   "outputs": [],
   "source": []
  },
  {
   "cell_type": "code",
   "execution_count": null,
   "id": "767991fc-eb9f-4bff-987a-e70172240663",
   "metadata": {},
   "outputs": [],
   "source": []
  },
  {
   "cell_type": "markdown",
   "id": "6fa3e8ee-a63b-4938-a61c-8b4286d2255f",
   "metadata": {},
   "source": [
    "### Probability of drawing a 3-of-a Kind"
   ]
  },
  {
   "cell_type": "code",
   "execution_count": null,
   "id": "7cce17fb-a357-43d6-ab3b-019013f11008",
   "metadata": {},
   "outputs": [],
   "source": []
  },
  {
   "cell_type": "code",
   "execution_count": null,
   "id": "30fe296d-cc4f-4c2e-8018-a2fe228e142d",
   "metadata": {},
   "outputs": [],
   "source": []
  },
  {
   "cell_type": "markdown",
   "id": "bb3e7465-bb3f-436c-bded-fda50de60413",
   "metadata": {},
   "source": [
    "### Probability of drawing 2 Pair"
   ]
  },
  {
   "cell_type": "code",
   "execution_count": null,
   "id": "c6d862c0-4e73-481d-9cd9-0890286f0a2d",
   "metadata": {},
   "outputs": [],
   "source": []
  },
  {
   "cell_type": "code",
   "execution_count": null,
   "id": "0d8a64c8-b997-4a64-ba7f-135bea4cf190",
   "metadata": {},
   "outputs": [],
   "source": []
  },
  {
   "cell_type": "markdown",
   "id": "ef1ade40-bdca-4558-bfc9-d0d95a746966",
   "metadata": {},
   "source": [
    "### Probability of drawing a Pair"
   ]
  },
  {
   "cell_type": "code",
   "execution_count": null,
   "id": "fa9c4a56-33c0-4ce6-b199-2cd4ad1286c5",
   "metadata": {},
   "outputs": [],
   "source": []
  },
  {
   "cell_type": "code",
   "execution_count": null,
   "id": "909cfacf-fd6e-49f2-9d78-57ef3cb39e64",
   "metadata": {},
   "outputs": [],
   "source": []
  }
 ],
 "metadata": {
  "kernelspec": {
   "display_name": "R",
   "language": "R",
   "name": "ir"
  },
  "language_info": {
   "codemirror_mode": "r",
   "file_extension": ".r",
   "mimetype": "text/x-r-source",
   "name": "R",
   "pygments_lexer": "r",
   "version": "3.6.1"
  }
 },
 "nbformat": 4,
 "nbformat_minor": 5
}
