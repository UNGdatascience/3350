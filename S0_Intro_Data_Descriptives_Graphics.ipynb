{
 "cells": [
  {
   "cell_type": "markdown",
   "id": "e729ff07-52bc-429f-a2a8-f813da65df0a",
   "metadata": {},
   "source": [
    "# Introduction to R and Statistics\n",
    "\n",
    "Let's begin by working on how to import and manipulate data frames.\n",
    "\n",
    "We often use the **personality** data set for examples which is stored on [Dr. Sinn's faculty webpage](https://faculty.ung.edu/rsinn/data/) in the data folder. Many other CSV files are located there and will also be used in this course."
   ]
  },
  {
   "cell_type": "markdown",
   "id": "0305b338-cac1-4a6d-807b-c2fc4591dc21",
   "metadata": {},
   "source": [
    "## Data Frames\n",
    "\n",
    "The **read.csv()** function will import the file and convert it into a data frame. Below, we also create a variable named **pers** and in which the data frame will be stored for use in R."
   ]
  },
  {
   "cell_type": "code",
   "execution_count": 1,
   "id": "6d803966-0304-4062-a341-ea9cb1db1f12",
   "metadata": {},
   "outputs": [
    {
     "data": {
      "text/html": [
       "<table>\n",
       "<thead><tr><th scope=col>Age</th><th scope=col>Yr</th><th scope=col>Sex</th><th scope=col>G21</th><th scope=col>Corps</th><th scope=col>Res</th><th scope=col>Greek</th><th scope=col>VarsAth</th><th scope=col>Honor</th><th scope=col>GPA</th><th scope=col>...</th><th scope=col>Perf</th><th scope=col>OCD</th><th scope=col>Play</th><th scope=col>Extro</th><th scope=col>Narc</th><th scope=col>HSAF</th><th scope=col>HSSE</th><th scope=col>HSAG</th><th scope=col>HSSD</th><th scope=col>PHS</th></tr></thead>\n",
       "<tbody>\n",
       "\t<tr><td>21  </td><td>2   </td><td>M   </td><td>Y   </td><td>Y   </td><td>1   </td><td>N   </td><td>N   </td><td>N   </td><td>3.23</td><td>... </td><td>105 </td><td>10  </td><td>142 </td><td> 8  </td><td>11  </td><td>41  </td><td>40  </td><td>26  </td><td>27  </td><td>SE  </td></tr>\n",
       "\t<tr><td>20  </td><td>3   </td><td>F   </td><td>N   </td><td>N   </td><td>2   </td><td>Y   </td><td>N   </td><td>Y   </td><td>3.95</td><td>... </td><td>105 </td><td> 3  </td><td>172 </td><td>16  </td><td>11  </td><td>46  </td><td>52  </td><td>26  </td><td>33  </td><td>SE  </td></tr>\n",
       "\t<tr><td>22  </td><td>3   </td><td>M   </td><td>Y   </td><td>N   </td><td>2   </td><td>N   </td><td>N   </td><td>N   </td><td>3.06</td><td>... </td><td> 73 </td><td> 1  </td><td>134 </td><td>15  </td><td>11  </td><td>48  </td><td>42  </td><td>44  </td><td>29  </td><td>AG  </td></tr>\n",
       "\t<tr><td>27  </td><td>3   </td><td>F   </td><td>Y   </td><td>N   </td><td>3   </td><td>N   </td><td>N   </td><td>N   </td><td>2.84</td><td>... </td><td> 90 </td><td> 9  </td><td>160 </td><td>16  </td><td>10  </td><td>51  </td><td>51  </td><td>23  </td><td>19  </td><td>SE  </td></tr>\n",
       "\t<tr><td>24  </td><td>3   </td><td>M   </td><td>Y   </td><td>N   </td><td>2   </td><td>N   </td><td>N   </td><td>N   </td><td>2.39</td><td>... </td><td> 95 </td><td> 5  </td><td>166 </td><td>14  </td><td>10  </td><td>56  </td><td>46  </td><td>27  </td><td>20  </td><td>AF  </td></tr>\n",
       "</tbody>\n",
       "</table>\n"
      ],
      "text/latex": [
       "\\begin{tabular}{r|llllllllllllllllllllllllllllllllllll}\n",
       " Age & Yr & Sex & G21 & Corps & Res & Greek & VarsAth & Honor & GPA & ... & Perf & OCD & Play & Extro & Narc & HSAF & HSSE & HSAG & HSSD & PHS\\\\\n",
       "\\hline\n",
       "\t 21   & 2    & M    & Y    & Y    & 1    & N    & N    & N    & 3.23 & ...  & 105  & 10   & 142  &  8   & 11   & 41   & 40   & 26   & 27   & SE  \\\\\n",
       "\t 20   & 3    & F    & N    & N    & 2    & Y    & N    & Y    & 3.95 & ...  & 105  &  3   & 172  & 16   & 11   & 46   & 52   & 26   & 33   & SE  \\\\\n",
       "\t 22   & 3    & M    & Y    & N    & 2    & N    & N    & N    & 3.06 & ...  &  73  &  1   & 134  & 15   & 11   & 48   & 42   & 44   & 29   & AG  \\\\\n",
       "\t 27   & 3    & F    & Y    & N    & 3    & N    & N    & N    & 2.84 & ...  &  90  &  9   & 160  & 16   & 10   & 51   & 51   & 23   & 19   & SE  \\\\\n",
       "\t 24   & 3    & M    & Y    & N    & 2    & N    & N    & N    & 2.39 & ...  &  95  &  5   & 166  & 14   & 10   & 56   & 46   & 27   & 20   & AF  \\\\\n",
       "\\end{tabular}\n"
      ],
      "text/markdown": [
       "\n",
       "| Age | Yr | Sex | G21 | Corps | Res | Greek | VarsAth | Honor | GPA | ... | Perf | OCD | Play | Extro | Narc | HSAF | HSSE | HSAG | HSSD | PHS |\n",
       "|---|---|---|---|---|---|---|---|---|---|---|---|---|---|---|---|---|---|---|---|---|\n",
       "| 21   | 2    | M    | Y    | Y    | 1    | N    | N    | N    | 3.23 | ...  | 105  | 10   | 142  |  8   | 11   | 41   | 40   | 26   | 27   | SE   |\n",
       "| 20   | 3    | F    | N    | N    | 2    | Y    | N    | Y    | 3.95 | ...  | 105  |  3   | 172  | 16   | 11   | 46   | 52   | 26   | 33   | SE   |\n",
       "| 22   | 3    | M    | Y    | N    | 2    | N    | N    | N    | 3.06 | ...  |  73  |  1   | 134  | 15   | 11   | 48   | 42   | 44   | 29   | AG   |\n",
       "| 27   | 3    | F    | Y    | N    | 3    | N    | N    | N    | 2.84 | ...  |  90  |  9   | 160  | 16   | 10   | 51   | 51   | 23   | 19   | SE   |\n",
       "| 24   | 3    | M    | Y    | N    | 2    | N    | N    | N    | 2.39 | ...  |  95  |  5   | 166  | 14   | 10   | 56   | 46   | 27   | 20   | AF   |\n",
       "\n"
      ],
      "text/plain": [
       "  Age Yr Sex G21 Corps Res Greek VarsAth Honor GPA  ... Perf OCD Play Extro\n",
       "1 21  2  M   Y   Y     1   N     N       N     3.23 ... 105  10  142   8   \n",
       "2 20  3  F   N   N     2   Y     N       Y     3.95 ... 105   3  172  16   \n",
       "3 22  3  M   Y   N     2   N     N       N     3.06 ...  73   1  134  15   \n",
       "4 27  3  F   Y   N     3   N     N       N     2.84 ...  90   9  160  16   \n",
       "5 24  3  M   Y   N     2   N     N       N     2.39 ...  95   5  166  14   \n",
       "  Narc HSAF HSSE HSAG HSSD PHS\n",
       "1 11   41   40   26   27   SE \n",
       "2 11   46   52   26   33   SE \n",
       "3 11   48   42   44   29   AG \n",
       "4 10   51   51   23   19   SE \n",
       "5 10   56   46   27   20   AF "
      ]
     },
     "metadata": {},
     "output_type": "display_data"
    }
   ],
   "source": [
    "pers <- read.csv('https://faculty.ung.edu/rsinn/data/personality.csv')\n",
    "head(pers,5)"
   ]
  },
  {
   "cell_type": "markdown",
   "id": "0dffb876-cfdf-409b-8ae5-70d873eb34ae",
   "metadata": {},
   "source": [
    "Note the following attributes of a data frame which are demonstrated above:\n",
    "- Rows represent individuals in the research sample.\n",
    "- Columns are variables used in the research.\n",
    "\n",
    "### Extracting a Column from a Data Frame\n",
    "Since each column represents a variable, we often wish to extract a column (or more than one) so that we can work with it. Many R functions do not work with data frames but do in fact work with vectors.\n",
    "\n",
    "#### The Dollar Sign Method\n",
    "\n",
    "Below, let's extract 3 variables:\n",
    "1. **Age** -- age of students in the sample\n",
    "2. **Caff** -- number of 8 oz. servings of caffeine per day\n",
    "3. **Sleep** -- average number of hours of sleep"
   ]
  },
  {
   "cell_type": "markdown",
   "id": "e3a92e4f-dc8f-4c02-8e73-c94350bcb77e",
   "metadata": {},
   "source": [
    "age <- ...\n",
    "\n",
    "caff <- ...\n",
    "\n",
    "s <- ..."
   ]
  },
  {
   "cell_type": "markdown",
   "id": "f736583c-00ce-4ac1-b704-0eade6a93447",
   "metadata": {},
   "source": [
    "#### The Row-Column Method\n",
    "\n",
    "We can do same thing using the row-column attribute of the data frame:"
   ]
  },
  {
   "cell_type": "code",
   "execution_count": 2,
   "id": "49d4f296-f8ea-408f-ab46-46e1c4d858c8",
   "metadata": {},
   "outputs": [
    {
     "ename": "ERROR",
     "evalue": "Error in eval(expr, envir, enclos): '...' used in an incorrect context\n",
     "output_type": "error",
     "traceback": [
      "Error in eval(expr, envir, enclos): '...' used in an incorrect context\nTraceback:\n"
     ]
    }
   ],
   "source": [
    "age <- ...\n",
    "\n",
    "caff <- ...\n",
    "\n",
    "s <- ..."
   ]
  },
  {
   "cell_type": "markdown",
   "id": "9a751b77-393e-421b-bffc-b12b86859772",
   "metadata": {},
   "source": [
    "### Number of Rows and Columns\n",
    "\n",
    "For the data frame **pers**, display the number of rows and number of columns."
   ]
  },
  {
   "cell_type": "code",
   "execution_count": null,
   "id": "c44de36d-d334-4275-8834-a6c4cf349e11",
   "metadata": {},
   "outputs": [],
   "source": []
  },
  {
   "cell_type": "code",
   "execution_count": null,
   "id": "915e4362-9514-46b5-a330-06f084a5faf4",
   "metadata": {},
   "outputs": [],
   "source": []
  },
  {
   "cell_type": "code",
   "execution_count": null,
   "id": "bc236dcb-4c47-4e6b-85d9-3b7f33f7c853",
   "metadata": {},
   "outputs": [],
   "source": []
  },
  {
   "cell_type": "markdown",
   "id": "2f880759-1496-45f5-af57-d5794b0e0fd6",
   "metadata": {},
   "source": [
    "## Descriptive Statistics\n",
    "\n",
    "For the **Sleep** column of the *pers* data frame, calculate:\n",
    "- mean\n",
    "- standard deviation\n",
    "- sample size\n",
    "- 5-number summary"
   ]
  },
  {
   "cell_type": "code",
   "execution_count": null,
   "id": "6a54cebe-c479-4bf8-a11b-a8778708d2eb",
   "metadata": {},
   "outputs": [],
   "source": []
  },
  {
   "cell_type": "code",
   "execution_count": null,
   "id": "d85102e2-9974-4da5-aed6-e531764f27c0",
   "metadata": {},
   "outputs": [],
   "source": []
  },
  {
   "cell_type": "code",
   "execution_count": null,
   "id": "b733992e-4cb0-4db3-9497-1a3e4466a9c1",
   "metadata": {},
   "outputs": [],
   "source": []
  },
  {
   "cell_type": "code",
   "execution_count": null,
   "id": "811a85ef-7120-4e2c-b5fc-32ae9dc473d6",
   "metadata": {},
   "outputs": [],
   "source": []
  },
  {
   "cell_type": "code",
   "execution_count": null,
   "id": "83899242-514f-4f22-91dc-e15522304f89",
   "metadata": {},
   "outputs": [],
   "source": []
  },
  {
   "cell_type": "markdown",
   "id": "44206201-d112-4529-b1a6-357991b83a95",
   "metadata": {},
   "source": [
    "## Data Visualization\n",
    "\n",
    "For the data sets age, caff and sleep, demonstrate how to use the following commands:\n",
    "- hist()\n",
    "- boxplot()\n",
    "- plot() to display a scatter plot\n",
    "- plot() and density() to display a density plot\n",
    "- qqnorm() to display a Normal QQ plot\n",
    "- mosaicplot()"
   ]
  },
  {
   "cell_type": "code",
   "execution_count": null,
   "id": "950f2972-2c3e-44db-8998-b308d818332d",
   "metadata": {},
   "outputs": [],
   "source": []
  },
  {
   "cell_type": "code",
   "execution_count": null,
   "id": "62f4d55a-5e8f-4146-ba7b-c94343921cc7",
   "metadata": {},
   "outputs": [],
   "source": []
  },
  {
   "cell_type": "code",
   "execution_count": null,
   "id": "84b8ed47-42c7-434a-aeee-4f4cabe5ce24",
   "metadata": {},
   "outputs": [],
   "source": []
  },
  {
   "cell_type": "code",
   "execution_count": null,
   "id": "fd3200f6-88a1-4ebd-82b5-683e42f65b4a",
   "metadata": {},
   "outputs": [],
   "source": []
  },
  {
   "cell_type": "code",
   "execution_count": null,
   "id": "624c3ff0-6d02-4128-8740-708eec938233",
   "metadata": {},
   "outputs": [],
   "source": []
  },
  {
   "cell_type": "code",
   "execution_count": null,
   "id": "684c9165-d1b4-4450-84a1-9a943daa5a27",
   "metadata": {},
   "outputs": [],
   "source": []
  },
  {
   "cell_type": "code",
   "execution_count": null,
   "id": "165f5d44-4767-462e-ba1b-9defddf2c3a5",
   "metadata": {},
   "outputs": [],
   "source": []
  },
  {
   "cell_type": "code",
   "execution_count": null,
   "id": "ca656523-298a-4aa6-8afa-027db44fa13b",
   "metadata": {},
   "outputs": [],
   "source": []
  },
  {
   "cell_type": "code",
   "execution_count": null,
   "id": "b526b5be-5604-4d15-bd09-1276edc0b17a",
   "metadata": {},
   "outputs": [],
   "source": []
  },
  {
   "cell_type": "code",
   "execution_count": null,
   "id": "8aa2ada3-93f2-443c-841f-8a71793dec98",
   "metadata": {},
   "outputs": [],
   "source": []
  },
  {
   "cell_type": "code",
   "execution_count": null,
   "id": "c3ae0a94-ddd3-416d-a60e-d7753a882df1",
   "metadata": {},
   "outputs": [],
   "source": []
  }
 ],
 "metadata": {
  "kernelspec": {
   "display_name": "R",
   "language": "R",
   "name": "ir"
  },
  "language_info": {
   "codemirror_mode": "r",
   "file_extension": ".r",
   "mimetype": "text/x-r-source",
   "name": "R",
   "pygments_lexer": "r",
   "version": "3.6.1"
  }
 },
 "nbformat": 4,
 "nbformat_minor": 5
}
