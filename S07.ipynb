{
 "cells": [
  {
   "cell_type": "markdown",
   "id": "familiar-outside",
   "metadata": {},
   "source": [
    "# Normal Curve Calculations and the $z$-Proportion Test\n",
    "\n",
    "Let's begin with some normal distrubutions so that we can work with the properties of standardized scores and percentiles in these distributions."
   ]
  },
  {
   "cell_type": "markdown",
   "id": "external-purchase",
   "metadata": {},
   "source": [
    "The SAT has the distribution:\n",
    "\n",
    "$$N(1000, 200)$$\n",
    "\n",
    "while the ACT has the distribution:\n",
    "\n",
    "$$N(21,5)$$\n",
    "\n",
    "The classic IQ distribution has the distribution:\n",
    "\n",
    "$$N(100,15)$$"
   ]
  },
  {
   "cell_type": "markdown",
   "id": "allied-shoot",
   "metadata": {},
   "source": [
    "## Z-Scores and Percentiles\n",
    "\n",
    "For every z-score we calculate, we can determine the precise percentile. For example, the percentile corresponding to a $z$-score of $z=2$ is given by:"
   ]
  },
  {
   "cell_type": "code",
   "execution_count": 3,
   "id": "subsequent-horse",
   "metadata": {},
   "outputs": [
    {
     "data": {
      "text/html": [
       "0.977249868051821"
      ],
      "text/latex": [
       "0.977249868051821"
      ],
      "text/markdown": [
       "0.977249868051821"
      ],
      "text/plain": [
       "[1] 0.9772499"
      ]
     },
     "metadata": {},
     "output_type": "display_data"
    }
   ],
   "source": [
    "pnorm(2)"
   ]
  },
  {
   "cell_type": "markdown",
   "id": "intended-cutting",
   "metadata": {},
   "source": [
    "Hence, the 97th percentile corresponds to standardized score of 2."
   ]
  },
  {
   "cell_type": "code",
   "execution_count": null,
   "id": "current-treatment",
   "metadata": {},
   "outputs": [],
   "source": []
  },
  {
   "cell_type": "code",
   "execution_count": null,
   "id": "absent-defensive",
   "metadata": {},
   "outputs": [],
   "source": []
  },
  {
   "cell_type": "code",
   "execution_count": null,
   "id": "rapid-production",
   "metadata": {},
   "outputs": [],
   "source": []
  },
  {
   "cell_type": "markdown",
   "id": "stone-bernard",
   "metadata": {},
   "source": [
    "### Example 1\n",
    "\n",
    "Calculate the $z$-score and percentile for someone who scored a 1270 on the SAT.\n",
    "\n",
    "Note that we use the function **pnorm()** to determine the perecentile that correponds to a $z$-score."
   ]
  },
  {
   "cell_type": "code",
   "execution_count": 9,
   "id": "equal-advertiser",
   "metadata": {},
   "outputs": [
    {
     "data": {
      "text/html": [
       "1.35"
      ],
      "text/latex": [
       "1.35"
      ],
      "text/markdown": [
       "1.35"
      ],
      "text/plain": [
       "[1] 1.35"
      ]
     },
     "metadata": {},
     "output_type": "display_data"
    },
    {
     "data": {
      "text/html": [
       "0.911492008562598"
      ],
      "text/latex": [
       "0.911492008562598"
      ],
      "text/markdown": [
       "0.911492008562598"
      ],
      "text/plain": [
       "[1] 0.911492"
      ]
     },
     "metadata": {},
     "output_type": "display_data"
    }
   ],
   "source": [
    "z <- (1270-1000)/200\n",
    "z\n",
    "pnorm(z)"
   ]
  },
  {
   "cell_type": "markdown",
   "id": "magnetic-chinese",
   "metadata": {},
   "source": [
    "Hence, for a SAT score of 1270:\n",
    "- The standardized score is 1.35, and\n",
    "- The correponding percentile is 91st."
   ]
  },
  {
   "cell_type": "code",
   "execution_count": null,
   "id": "right-attitude",
   "metadata": {},
   "outputs": [],
   "source": []
  },
  {
   "cell_type": "code",
   "execution_count": null,
   "id": "intensive-celtic",
   "metadata": {},
   "outputs": [],
   "source": []
  },
  {
   "cell_type": "code",
   "execution_count": null,
   "id": "celtic-tulsa",
   "metadata": {},
   "outputs": [],
   "source": []
  },
  {
   "cell_type": "markdown",
   "id": "artistic-victory",
   "metadata": {},
   "source": [
    "## Example 1b\n",
    "\n",
    "What is the 95th percentile score on the SAT?"
   ]
  },
  {
   "cell_type": "markdown",
   "id": "western-garden",
   "metadata": {},
   "source": [
    "We use the function **qnorm()** to convert percentiles back into $z$-scores:"
   ]
  },
  {
   "cell_type": "code",
   "execution_count": 10,
   "id": "behind-electric",
   "metadata": {},
   "outputs": [
    {
     "data": {
      "text/html": [
       "1.64485362695147"
      ],
      "text/latex": [
       "1.64485362695147"
      ],
      "text/markdown": [
       "1.64485362695147"
      ],
      "text/plain": [
       "[1] 1.644854"
      ]
     },
     "metadata": {},
     "output_type": "display_data"
    }
   ],
   "source": [
    "z = qnorm(0.95)\n",
    "z\n",
    "SAT = 1000 + 200 * z"
   ]
  },
  {
   "cell_type": "code",
   "execution_count": null,
   "id": "essential-account",
   "metadata": {},
   "outputs": [],
   "source": []
  },
  {
   "cell_type": "code",
   "execution_count": null,
   "id": "frequent-lotus",
   "metadata": {},
   "outputs": [],
   "source": []
  },
  {
   "cell_type": "code",
   "execution_count": null,
   "id": "intensive-water",
   "metadata": {},
   "outputs": [],
   "source": []
  },
  {
   "cell_type": "markdown",
   "id": "economic-calvin",
   "metadata": {},
   "source": [
    "## Example 2\n",
    "\n",
    "Sally earned a 31 on the ACT while Joanna earned a 1380 on the SAT. Who did better relative to the test she took?"
   ]
  },
  {
   "cell_type": "code",
   "execution_count": 12,
   "id": "historical-logan",
   "metadata": {},
   "outputs": [
    {
     "data": {
      "text/html": [
       "2"
      ],
      "text/latex": [
       "2"
      ],
      "text/markdown": [
       "2"
      ],
      "text/plain": [
       "[1] 2"
      ]
     },
     "metadata": {},
     "output_type": "display_data"
    },
    {
     "data": {
      "text/html": [
       "0.977249868051821"
      ],
      "text/latex": [
       "0.977249868051821"
      ],
      "text/markdown": [
       "0.977249868051821"
      ],
      "text/plain": [
       "[1] 0.9772499"
      ]
     },
     "metadata": {},
     "output_type": "display_data"
    }
   ],
   "source": [
    "zs = (31 - 21) / 5\n",
    "zs\n",
    "pnorm(zs)"
   ]
  },
  {
   "cell_type": "code",
   "execution_count": 13,
   "id": "expected-exclusive",
   "metadata": {},
   "outputs": [
    {
     "data": {
      "text/html": [
       "1.9"
      ],
      "text/latex": [
       "1.9"
      ],
      "text/markdown": [
       "1.9"
      ],
      "text/plain": [
       "[1] 1.9"
      ]
     },
     "metadata": {},
     "output_type": "display_data"
    },
    {
     "data": {
      "text/html": [
       "0.971283440183998"
      ],
      "text/latex": [
       "0.971283440183998"
      ],
      "text/markdown": [
       "0.971283440183998"
      ],
      "text/plain": [
       "[1] 0.9712834"
      ]
     },
     "metadata": {},
     "output_type": "display_data"
    }
   ],
   "source": [
    "zj = (1380 - 1000) / 200\n",
    "zj\n",
    "pnorm(zj)"
   ]
  },
  {
   "cell_type": "markdown",
   "id": "present-phone",
   "metadata": {},
   "source": [
    "The $z$-score for Sally was $2.0$ compared a $z$-score of $1.9$ for Joanna. Thus, with a larger positive $z$-score, we know that Sally was further above average in units of standard deviations than was Joanna.\n",
    "\n",
    "The percentiles are not very different at all, yet Sally's exactly percentile is approximately $0.97725$ compared to Joanna's which was approximately $0.97128$."
   ]
  },
  {
   "cell_type": "code",
   "execution_count": null,
   "id": "caring-stuart",
   "metadata": {},
   "outputs": [],
   "source": []
  },
  {
   "cell_type": "code",
   "execution_count": null,
   "id": "hawaiian-circuit",
   "metadata": {},
   "outputs": [],
   "source": []
  },
  {
   "cell_type": "code",
   "execution_count": null,
   "id": "pharmaceutical-maximum",
   "metadata": {},
   "outputs": [],
   "source": []
  },
  {
   "cell_type": "markdown",
   "id": "baking-mistress",
   "metadata": {},
   "source": [
    "## Example 3\n",
    "\n",
    "What is the 80th percentile IQ score?"
   ]
  },
  {
   "cell_type": "markdown",
   "id": "upset-virus",
   "metadata": {},
   "source": [
    "Let's use the variable **z8** to refer to the standardized score that corresponds to the 80th percentile."
   ]
  },
  {
   "cell_type": "code",
   "execution_count": 15,
   "id": "devoted-transfer",
   "metadata": {},
   "outputs": [
    {
     "data": {
      "text/html": [
       "0.841621233572914"
      ],
      "text/latex": [
       "0.841621233572914"
      ],
      "text/markdown": [
       "0.841621233572914"
      ],
      "text/plain": [
       "[1] 0.8416212"
      ]
     },
     "metadata": {},
     "output_type": "display_data"
    }
   ],
   "source": [
    "z8 = qnorm(0.8)\n",
    "z8"
   ]
  },
  {
   "cell_type": "code",
   "execution_count": 16,
   "id": "desperate-reunion",
   "metadata": {},
   "outputs": [
    {
     "data": {
      "text/html": [
       "112.6"
      ],
      "text/latex": [
       "112.6"
      ],
      "text/markdown": [
       "112.6"
      ],
      "text/plain": [
       "[1] 112.6"
      ]
     },
     "metadata": {},
     "output_type": "display_data"
    }
   ],
   "source": [
    "IQ = 100 + 15 * 0.84\n",
    "IQ"
   ]
  },
  {
   "cell_type": "markdown",
   "id": "wrong-jackson",
   "metadata": {},
   "source": [
    "Thus, an IQ of about 112 is the 80th percentile for the IQ distribution."
   ]
  },
  {
   "cell_type": "code",
   "execution_count": null,
   "id": "advanced-appliance",
   "metadata": {},
   "outputs": [],
   "source": []
  },
  {
   "cell_type": "code",
   "execution_count": null,
   "id": "characteristic-indication",
   "metadata": {},
   "outputs": [],
   "source": []
  },
  {
   "cell_type": "code",
   "execution_count": null,
   "id": "addressed-composer",
   "metadata": {},
   "outputs": [],
   "source": []
  },
  {
   "cell_type": "code",
   "execution_count": null,
   "id": "crazy-mississippi",
   "metadata": {},
   "outputs": [],
   "source": []
  },
  {
   "cell_type": "code",
   "execution_count": null,
   "id": "julian-orleans",
   "metadata": {},
   "outputs": [],
   "source": []
  },
  {
   "cell_type": "markdown",
   "id": "supreme-margin",
   "metadata": {},
   "source": [
    "## Dolphins and the Proportion Test in R\n",
    "\n",
    "The classic case study from Rossman and Chance tells the story of a group of patients with anxiety who travel to the Carribean for time at a resort where they also received group therapy sessions. The treatment group, along with all the resort living and group therapy, also have a chance to swim with dolphins."
   ]
  },
  {
   "cell_type": "code",
   "execution_count": 25,
   "id": "under-target",
   "metadata": {},
   "outputs": [
    {
     "data": {
      "text/html": [
       "<table>\n",
       "<caption>A data.frame: 30 × 2</caption>\n",
       "<thead>\n",
       "\t<tr><th scope=col>Treatment</th><th scope=col>Result</th></tr>\n",
       "\t<tr><th scope=col>&lt;chr&gt;</th><th scope=col>&lt;chr&gt;</th></tr>\n",
       "</thead>\n",
       "<tbody>\n",
       "\t<tr><td>Dolphins</td><td>Improved</td></tr>\n",
       "\t<tr><td>Dolphins</td><td>Improved</td></tr>\n",
       "\t<tr><td>Dolphins</td><td>Improved</td></tr>\n",
       "\t<tr><td>Dolphins</td><td>Improved</td></tr>\n",
       "\t<tr><td>Dolphins</td><td>Improved</td></tr>\n",
       "\t<tr><td>Dolphins</td><td>Improved</td></tr>\n",
       "\t<tr><td>Dolphins</td><td>Improved</td></tr>\n",
       "\t<tr><td>Dolphins</td><td>Improved</td></tr>\n",
       "\t<tr><td>Dolphins</td><td>Improved</td></tr>\n",
       "\t<tr><td>Dolphins</td><td>Improved</td></tr>\n",
       "\t<tr><td>Dolphins</td><td>Did Not </td></tr>\n",
       "\t<tr><td>Dolphins</td><td>Did Not </td></tr>\n",
       "\t<tr><td>Dolphins</td><td>Did Not </td></tr>\n",
       "\t<tr><td>Dolphins</td><td>Did Not </td></tr>\n",
       "\t<tr><td>Dolphins</td><td>Did Not </td></tr>\n",
       "\t<tr><td>Control </td><td>Improved</td></tr>\n",
       "\t<tr><td>Control </td><td>Improved</td></tr>\n",
       "\t<tr><td>Control </td><td>Improved</td></tr>\n",
       "\t<tr><td>Control </td><td>Did Not </td></tr>\n",
       "\t<tr><td>Control </td><td>Did Not </td></tr>\n",
       "\t<tr><td>Control </td><td>Did Not </td></tr>\n",
       "\t<tr><td>Control </td><td>Did Not </td></tr>\n",
       "\t<tr><td>Control </td><td>Did Not </td></tr>\n",
       "\t<tr><td>Control </td><td>Did Not </td></tr>\n",
       "\t<tr><td>Control </td><td>Did Not </td></tr>\n",
       "\t<tr><td>Control </td><td>Did Not </td></tr>\n",
       "\t<tr><td>Control </td><td>Did Not </td></tr>\n",
       "\t<tr><td>Control </td><td>Did Not </td></tr>\n",
       "\t<tr><td>Control </td><td>Did Not </td></tr>\n",
       "\t<tr><td>Control </td><td>Did Not </td></tr>\n",
       "</tbody>\n",
       "</table>\n"
      ],
      "text/latex": [
       "A data.frame: 30 × 2\n",
       "\\begin{tabular}{ll}\n",
       " Treatment & Result\\\\\n",
       " <chr> & <chr>\\\\\n",
       "\\hline\n",
       "\t Dolphins & Improved\\\\\n",
       "\t Dolphins & Improved\\\\\n",
       "\t Dolphins & Improved\\\\\n",
       "\t Dolphins & Improved\\\\\n",
       "\t Dolphins & Improved\\\\\n",
       "\t Dolphins & Improved\\\\\n",
       "\t Dolphins & Improved\\\\\n",
       "\t Dolphins & Improved\\\\\n",
       "\t Dolphins & Improved\\\\\n",
       "\t Dolphins & Improved\\\\\n",
       "\t Dolphins & Did Not \\\\\n",
       "\t Dolphins & Did Not \\\\\n",
       "\t Dolphins & Did Not \\\\\n",
       "\t Dolphins & Did Not \\\\\n",
       "\t Dolphins & Did Not \\\\\n",
       "\t Control  & Improved\\\\\n",
       "\t Control  & Improved\\\\\n",
       "\t Control  & Improved\\\\\n",
       "\t Control  & Did Not \\\\\n",
       "\t Control  & Did Not \\\\\n",
       "\t Control  & Did Not \\\\\n",
       "\t Control  & Did Not \\\\\n",
       "\t Control  & Did Not \\\\\n",
       "\t Control  & Did Not \\\\\n",
       "\t Control  & Did Not \\\\\n",
       "\t Control  & Did Not \\\\\n",
       "\t Control  & Did Not \\\\\n",
       "\t Control  & Did Not \\\\\n",
       "\t Control  & Did Not \\\\\n",
       "\t Control  & Did Not \\\\\n",
       "\\end{tabular}\n"
      ],
      "text/markdown": [
       "\n",
       "A data.frame: 30 × 2\n",
       "\n",
       "| Treatment &lt;chr&gt; | Result &lt;chr&gt; |\n",
       "|---|---|\n",
       "| Dolphins | Improved |\n",
       "| Dolphins | Improved |\n",
       "| Dolphins | Improved |\n",
       "| Dolphins | Improved |\n",
       "| Dolphins | Improved |\n",
       "| Dolphins | Improved |\n",
       "| Dolphins | Improved |\n",
       "| Dolphins | Improved |\n",
       "| Dolphins | Improved |\n",
       "| Dolphins | Improved |\n",
       "| Dolphins | Did Not  |\n",
       "| Dolphins | Did Not  |\n",
       "| Dolphins | Did Not  |\n",
       "| Dolphins | Did Not  |\n",
       "| Dolphins | Did Not  |\n",
       "| Control  | Improved |\n",
       "| Control  | Improved |\n",
       "| Control  | Improved |\n",
       "| Control  | Did Not  |\n",
       "| Control  | Did Not  |\n",
       "| Control  | Did Not  |\n",
       "| Control  | Did Not  |\n",
       "| Control  | Did Not  |\n",
       "| Control  | Did Not  |\n",
       "| Control  | Did Not  |\n",
       "| Control  | Did Not  |\n",
       "| Control  | Did Not  |\n",
       "| Control  | Did Not  |\n",
       "| Control  | Did Not  |\n",
       "| Control  | Did Not  |\n",
       "\n"
      ],
      "text/plain": [
       "   Treatment Result  \n",
       "1  Dolphins  Improved\n",
       "2  Dolphins  Improved\n",
       "3  Dolphins  Improved\n",
       "4  Dolphins  Improved\n",
       "5  Dolphins  Improved\n",
       "6  Dolphins  Improved\n",
       "7  Dolphins  Improved\n",
       "8  Dolphins  Improved\n",
       "9  Dolphins  Improved\n",
       "10 Dolphins  Improved\n",
       "11 Dolphins  Did Not \n",
       "12 Dolphins  Did Not \n",
       "13 Dolphins  Did Not \n",
       "14 Dolphins  Did Not \n",
       "15 Dolphins  Did Not \n",
       "16 Control   Improved\n",
       "17 Control   Improved\n",
       "18 Control   Improved\n",
       "19 Control   Did Not \n",
       "20 Control   Did Not \n",
       "21 Control   Did Not \n",
       "22 Control   Did Not \n",
       "23 Control   Did Not \n",
       "24 Control   Did Not \n",
       "25 Control   Did Not \n",
       "26 Control   Did Not \n",
       "27 Control   Did Not \n",
       "28 Control   Did Not \n",
       "29 Control   Did Not \n",
       "30 Control   Did Not "
      ]
     },
     "metadata": {},
     "output_type": "display_data"
    }
   ],
   "source": [
    "dolphin <- read.csv('http://faculty.ung.edu/rsinn/data/dolphin.csv')\n",
    "dolphin"
   ]
  },
  {
   "cell_type": "markdown",
   "id": "obvious-argentina",
   "metadata": {},
   "source": [
    "Let's summarize the results with the **xtabs()** function:"
   ]
  },
  {
   "cell_type": "code",
   "execution_count": 27,
   "id": "figured-definition",
   "metadata": {},
   "outputs": [
    {
     "data": {
      "text/plain": [
       "                 dolphin$Result\n",
       "dolphin$Treatment Did Not Improved\n",
       "         Control       12        3\n",
       "         Dolphins       5       10"
      ]
     },
     "metadata": {},
     "output_type": "display_data"
    }
   ],
   "source": [
    "xtabs(~dolphin$Treatment + ~dolphin$Result)"
   ]
  },
  {
   "cell_type": "markdown",
   "id": "swiss-shanghai",
   "metadata": {},
   "source": [
    "From the above 2-way table, we can gather that we have:\n",
    "\n",
    "- 10 successes and 3 failures in the treatment group.\n",
    "- 3 successes and 12 failures in the control group.\n",
    "\n",
    "We need to create two vectors. The first vector we create will include the successes. The second will include the totoals per group."
   ]
  },
  {
   "cell_type": "code",
   "execution_count": 30,
   "id": "focal-monday",
   "metadata": {},
   "outputs": [],
   "source": [
    "# Number of successes\n",
    "\n",
    "x <- c(3,10)\n",
    "\n",
    "# Total participants\n",
    "\n",
    "n <- c(15,15)"
   ]
  },
  {
   "cell_type": "code",
   "execution_count": 31,
   "id": "metric-market",
   "metadata": {},
   "outputs": [
    {
     "data": {
      "text/plain": [
       "\n",
       "\t2-sample test for equality of proportions with continuity correction\n",
       "\n",
       "data:  x out of n\n",
       "X-squared = 4.8869, df = 1, p-value = 0.01353\n",
       "alternative hypothesis: less\n",
       "95 percent confidence interval:\n",
       " -1.0000000 -0.1374333\n",
       "sample estimates:\n",
       "   prop 1    prop 2 \n",
       "0.2000000 0.6666667 \n"
      ]
     },
     "metadata": {},
     "output_type": "display_data"
    }
   ],
   "source": [
    "ztest <- prop.test(x, n, alternative = 'less')\n",
    "ztest"
   ]
  },
  {
   "cell_type": "markdown",
   "id": "dominican-leadership",
   "metadata": {},
   "source": [
    "By default, the **prop.test()** function conducts a $\\chi^2$ test instead of a $z$-test for population proportion. However, the $z$ has been run, and we can find the test statistic from it as follows:"
   ]
  },
  {
   "cell_type": "code",
   "execution_count": 32,
   "id": "sticky-board",
   "metadata": {},
   "outputs": [
    {
     "data": {
      "text/html": [
       "<strong>X-squared:</strong> 4.8868778280543"
      ],
      "text/latex": [
       "\\textbf{X-squared:} 4.8868778280543"
      ],
      "text/markdown": [
       "**X-squared:** 4.8868778280543"
      ],
      "text/plain": [
       "X-squared \n",
       " 4.886878 "
      ]
     },
     "metadata": {},
     "output_type": "display_data"
    }
   ],
   "source": [
    "ztest$statistic"
   ]
  },
  {
   "cell_type": "markdown",
   "id": "simple-worcester",
   "metadata": {},
   "source": [
    "The $z$-statistic in this case is the square root of the $\\chi^2$ statistic:"
   ]
  },
  {
   "cell_type": "code",
   "execution_count": 33,
   "id": "initial-numbers",
   "metadata": {},
   "outputs": [
    {
     "data": {
      "text/html": [
       "2.21062837855084"
      ],
      "text/latex": [
       "2.21062837855084"
      ],
      "text/markdown": [
       "2.21062837855084"
      ],
      "text/plain": [
       "[1] 2.210628"
      ]
     },
     "metadata": {},
     "output_type": "display_data"
    }
   ],
   "source": [
    "z = sqrt(4.8868778280543)\n",
    "z"
   ]
  },
  {
   "cell_type": "code",
   "execution_count": null,
   "id": "blond-serve",
   "metadata": {},
   "outputs": [],
   "source": []
  },
  {
   "cell_type": "code",
   "execution_count": null,
   "id": "detected-alarm",
   "metadata": {},
   "outputs": [],
   "source": []
  },
  {
   "cell_type": "code",
   "execution_count": null,
   "id": "baking-introduction",
   "metadata": {},
   "outputs": [],
   "source": []
  },
  {
   "cell_type": "code",
   "execution_count": null,
   "id": "liable-support",
   "metadata": {},
   "outputs": [],
   "source": []
  },
  {
   "cell_type": "code",
   "execution_count": null,
   "id": "executive-letter",
   "metadata": {},
   "outputs": [],
   "source": []
  },
  {
   "cell_type": "markdown",
   "id": "following-pillow",
   "metadata": {},
   "source": [
    "## Example 4\n",
    "\n",
    "The smoking rate in a town historically has been 21%. Has the rate changed given that, in 2025, a survey of 100 randomly selected residents of the town found that 14 of them were smokers."
   ]
  },
  {
   "cell_type": "code",
   "execution_count": null,
   "id": "looking-stewart",
   "metadata": {},
   "outputs": [],
   "source": []
  },
  {
   "cell_type": "code",
   "execution_count": null,
   "id": "competitive-comfort",
   "metadata": {},
   "outputs": [],
   "source": []
  },
  {
   "cell_type": "code",
   "execution_count": null,
   "id": "elect-affect",
   "metadata": {},
   "outputs": [],
   "source": []
  },
  {
   "cell_type": "code",
   "execution_count": null,
   "id": "fluid-planning",
   "metadata": {},
   "outputs": [],
   "source": []
  },
  {
   "cell_type": "code",
   "execution_count": null,
   "id": "suffering-bristol",
   "metadata": {},
   "outputs": [],
   "source": []
  }
 ],
 "metadata": {
  "kernelspec": {
   "display_name": "R",
   "language": "R",
   "name": "ir"
  },
  "language_info": {
   "codemirror_mode": "r",
   "file_extension": ".r",
   "mimetype": "text/x-r-source",
   "name": "R",
   "pygments_lexer": "r",
   "version": "4.0.3"
  }
 },
 "nbformat": 4,
 "nbformat_minor": 5
}
