{
 "cells": [
  {
   "cell_type": "markdown",
   "id": "cdb3f8dd-6e2e-420d-9518-13368d2e18db",
   "metadata": {},
   "source": [
    "# Expected Value\n",
    "\n",
    "**EV** stands for **expected value**, and <span style=\"color: teal; font-weight:bold\">positive EV</span> is good. In both gambling and investing, there is no guarantee that <span style=\"color: teal; font-weight:bold\">positive EV</span> will lead to a positive outcome. Yet, on average and over time, investing with <span style=\"color: teal\">positive EV</span> will earn money. <span style=\"color: red; font-weight:bold\">positive EV</span> is bad - it's means the play or investment loses money on average."
   ]
  },
  {
   "cell_type": "markdown",
   "id": "3e96a385-44f5-4c95-8a5f-2255330e68b1",
   "metadata": {},
   "source": [
    "## Definitions\n",
    "- The **expected value** of a simple random variable $x\\in X$ is given by:\n",
    "\n",
    "$$E(X)=\\sum x_iP(x_i)$$\n",
    "\n",
    "for all $i$ such that $x_i\\in X$. The expected value is often referred to as the **mean** of $X$ and written as\n",
    "\n",
    "$$\\mu_X=E(X)$$"
   ]
  },
  {
   "cell_type": "markdown",
   "id": "a23555be-f50f-4a81-a293-39b5790f6718",
   "metadata": {},
   "source": [
    "- The **variance** of a simple random variable $x\\in X$ is given by:\n",
    "\n",
    "$$V(X) = E\\left(X^2\\right)-E\\left(X\\right)^2$$\n",
    "\n",
    "Note that, since $\\mu_X=E(X)$, we can write variance as follows:\n",
    "\n",
    "$$V(X) = E\\left(X^2\\right)-\\mu_X^2$$\n",
    "\n",
    "- The **standard deviation** is the square root of the variance:\n",
    "\n",
    "$$\\sigma_X^2=V(X)$$"
   ]
  },
  {
   "cell_type": "markdown",
   "id": "c060af9f-b30e-4690-8d4b-44c8ea9e606a",
   "metadata": {},
   "source": [
    "## Understanding Expectation and Variance\n",
    "\n",
    "### Key Ideas\n",
    "\n",
    "The <span style='color:blue;font-weight:bold'> expected value</span> of a probability experiment is the value that, on average, one would expect to earn if the experiment were repeated many, many times. \\pause Note that expected value can be negative.\n",
    "\n",
    "The <span style='color:blue;font-weight:bold'> variance</span> measures how widely the different outcomes spread apart.\n",
    "\n",
    "### Units and Standard Deviation\n",
    "\n",
    "We generally prefer <span style='color:blue'> standard deviation</span> over the <span style='color:blue'> variance</span> because the standard deviation is measured in the same the units as the original outcomes.\n",
    "\n",
    "### The Allure of Game of Chances\n",
    "\n",
    "The lottery and casinos have games with a small, negative EV and huge variance. Normal folks generally love these games. The cost to play is minimal, yet the potential for a big win leads to excitement."
   ]
  },
  {
   "cell_type": "markdown",
   "id": "52e33be0-b106-44ee-9b50-1ffdf580df8c",
   "metadata": {},
   "source": [
    "## Example 1: Rolling Dice\n",
    "\n",
    "What is the expected value, variance and standard deviation of rolling a standard, fair, 6-sided die?"
   ]
  },
  {
   "cell_type": "code",
   "execution_count": null,
   "id": "ddc4a426-aed2-44ff-9175-e910b08d2eb3",
   "metadata": {},
   "outputs": [],
   "source": []
  },
  {
   "cell_type": "code",
   "execution_count": null,
   "id": "27aa4f99-9c01-42d1-9458-9bd27cdc73ad",
   "metadata": {},
   "outputs": [],
   "source": []
  },
  {
   "cell_type": "code",
   "execution_count": null,
   "id": "82dc0e5c-3e70-4e8b-ba6e-a7b7763e6fc1",
   "metadata": {},
   "outputs": [],
   "source": []
  },
  {
   "cell_type": "code",
   "execution_count": null,
   "id": "8e371ebc-b851-478e-97b5-e613676b7fb4",
   "metadata": {},
   "outputs": [],
   "source": []
  },
  {
   "cell_type": "code",
   "execution_count": null,
   "id": "76954b8a-7588-4d30-ab66-843676699356",
   "metadata": {},
   "outputs": [],
   "source": []
  },
  {
   "cell_type": "markdown",
   "id": "69732ca9-1ce3-4353-b7e1-1b8d40f39dda",
   "metadata": {},
   "source": [
    "## Example 2: Roulette\n",
    "The **traditional American roulette wheel** has red and black slots numbered $1$ to $36$ with two green slots $0$ and $00$. The silver ball is uniformly likely to land in any slot. The green slots provided the winning edge for the casino as they are part of the probabilities yet not part of the payoffs.\n",
    "\n",
    "<span style='color:red;font-weight:bold'>What is the expected value for betting EVEN?</span>"
   ]
  },
  {
   "cell_type": "code",
   "execution_count": null,
   "id": "857539f3-a3df-4ef4-a858-49a24d479abc",
   "metadata": {},
   "outputs": [],
   "source": []
  },
  {
   "cell_type": "code",
   "execution_count": null,
   "id": "6c042180-1477-44e8-9768-3b10800ebc77",
   "metadata": {},
   "outputs": [],
   "source": []
  },
  {
   "cell_type": "code",
   "execution_count": null,
   "id": "5afd4911-519f-4ac3-b032-f71d730d3c8b",
   "metadata": {},
   "outputs": [],
   "source": []
  },
  {
   "cell_type": "markdown",
   "id": "dec4cc0f-2ff3-4336-a5a6-b484923043b3",
   "metadata": {},
   "source": [
    "## Example 3: Card Draw\n",
    "\n",
    "<span style='color:red;font-weight:bold'>Would you pay \\$2 for the chance to play this game?</span>\n",
    "\n",
    "A single card is drawn at random from a standard deck of 52 playing cards. If the card is a Face Card (e.g. Jack, Queen or King), the player wins $\\textbf{\\$5}$. If the card is an Ace, the player wins $\\textbf{\\$10}$."
   ]
  },
  {
   "cell_type": "code",
   "execution_count": null,
   "id": "c078462f-553e-4b3b-a5f6-effee05ab01b",
   "metadata": {},
   "outputs": [],
   "source": []
  },
  {
   "cell_type": "code",
   "execution_count": null,
   "id": "dfbe072e-6d83-428b-983d-86e5479c449a",
   "metadata": {},
   "outputs": [],
   "source": []
  },
  {
   "cell_type": "code",
   "execution_count": null,
   "id": "e2dee4c6-783a-466e-943f-72fd2b3a52c0",
   "metadata": {},
   "outputs": [],
   "source": []
  },
  {
   "cell_type": "code",
   "execution_count": null,
   "id": "8e55eaa2-7f1f-40b1-b727-7211c216cd2c",
   "metadata": {},
   "outputs": [],
   "source": []
  },
  {
   "cell_type": "code",
   "execution_count": null,
   "id": "4ea25b2b-bb6d-47cf-aa6e-74591d76c5a4",
   "metadata": {},
   "outputs": [],
   "source": []
  }
 ],
 "metadata": {
  "kernelspec": {
   "display_name": "R",
   "language": "R",
   "name": "ir"
  },
  "language_info": {
   "codemirror_mode": "r",
   "file_extension": ".r",
   "mimetype": "text/x-r-source",
   "name": "R",
   "pygments_lexer": "r",
   "version": "3.6.1"
  }
 },
 "nbformat": 4,
 "nbformat_minor": 5
}
