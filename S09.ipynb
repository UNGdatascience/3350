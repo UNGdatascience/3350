{
 "cells": [
  {
   "cell_type": "markdown",
   "id": "pressing-genre",
   "metadata": {},
   "source": [
    "# $\\chi^2$ Goodness of Fit\n",
    "\n",
    "While I won't vouch for the grammar involved, this statistical procedure has a name which describes exactly what it does:\n",
    "\n",
    "<br><center><b> <span style=\"color: purple\" >Tests Whether Observed Data Matches a Given Probability Model</span></b></center>"
   ]
  },
  {
   "cell_type": "markdown",
   "id": "fancy-vanilla",
   "metadata": {},
   "source": [
    "## Example 1: Doberman Breeding\n",
    "Dobermans can be bred in 4 colors: black, red, blue and **fawn**, all of which have rust colored highlights. <b> <span style=\"color: purple\" >Fawn-colored Dobermans are the rarest and most prized color.</span></b></center> If a black male Doberman (hetero dominant allele) and a fawn female Doberman (homo recessive allele) were bred, on average half their pups would be black, a quarter blue and the remaining quarter fawn. Over the course of several years, a certain Doberman breeder had a pair of dogs from which 28 pups were born: 11 black, 11 blue and 6 fawn. Test the hypothesis that these dogs have the predicted genetics at the $\\alpha=0.1$ level of significance."
   ]
  },
  {
   "cell_type": "markdown",
   "id": "touched-scanner",
   "metadata": {},
   "source": [
    "### Hypotheses\n",
    "\n",
    "Our hypothesis just tests theoretical probabilities, so the list of probabilities will be our null hypothesis:\n",
    "\n",
    "$$\\begin{align}H_0 : p_\\text{black}&=\\frac{1}{2} \\\\ p_\\text{blue}&=\\frac{1}{4} \\\\ p_\\text{fawn}&=\\frac{1}{4}\\end{align}$$\n",
    "\n",
    "The alternative hypothesis is that at least one of the probabilities is not correct. The Doberman breeder is hoping to fail to reject the null indicating the parent dogs have the hypothesized genetics which, if true, will be valuable."
   ]
  },
  {
   "cell_type": "markdown",
   "id": "viral-dragon",
   "metadata": {},
   "source": [
    "### Data and Expected Cell Couts\n",
    "\n",
    "There are 28 total dogs in the observed data, so the expected cell counts can be calculated by multiplying the 3 probabilities in the null hypothesis by 28. The results are organized below:\n",
    "\n",
    "<table style=\"width:30%\">\n",
    "<tr>\n",
    "  <th></th>\n",
    "  <th style=\"text-align: center;\">Black</th>\n",
    "  <th style=\"text-align: center;\">Blue</th> \n",
    "  <th style=\"text-align: center;\">Fawn</th>\n",
    "</tr>\n",
    "<tr>\n",
    "  <td>Observed</td>\n",
    "  <td style=\"text-align: center;\">11</td>\n",
    "  <td style=\"text-align: center;\">11</td>\n",
    "  <td style=\"text-align: center;\">6</td>\n",
    "</tr>\n",
    "<tr>\n",
    "  <td>Expected</td>\n",
    "  <td style=\"text-align: center;\">14</td>\n",
    "  <td style=\"text-align: center;\">7</td>\n",
    "  <td style=\"text-align: center;\">7</td>\n",
    "</tr>\n",
    "</table>\n",
    "\n",
    "Let's go ahead and create vectors that correspond to the rows in the table above understanding that R has the capability of calculating the exected cell counts based upon the probabilities involved:"
   ]
  },
  {
   "cell_type": "code",
   "execution_count": 39,
   "id": "weird-thursday",
   "metadata": {},
   "outputs": [],
   "source": [
    "observed = c(11, 11, 6)\n",
    "expected = c(0.5, 0.25, 0.25)"
   ]
  },
  {
   "cell_type": "markdown",
   "id": "suited-browser",
   "metadata": {},
   "source": [
    "**Checking the Assumptions.** As with other proportion tests, as long as we ensure the sample size is adequate, our category data will be appropriate for the test. For all $\\chi^2$ procedures, we require that no more than $20\\%$ of Expected cell counts can be less than 5. Since the smallest Expected cell count is 7 which is greater than 5, we have no low Expected cell counts at all (0%) which is clearly less than 20%."
   ]
  },
  {
   "cell_type": "markdown",
   "id": "marine-project",
   "metadata": {},
   "source": [
    "### Conducting the Test\n",
    "\n",
    "We will create an output variable **res** (abbreviation of \"results\"). Having a variable name for the results makes inspecting the values in the expected cells quite easy to accomplish:"
   ]
  },
  {
   "cell_type": "code",
   "execution_count": 40,
   "id": "quarterly-dublin",
   "metadata": {},
   "outputs": [
    {
     "data": {
      "text/plain": [
       "\n",
       "\tChi-squared test for given probabilities\n",
       "\n",
       "data:  observed\n",
       "X-squared = 3.0714, df = 2, p-value = 0.2153\n"
      ]
     },
     "metadata": {},
     "output_type": "display_data"
    },
    {
     "data": {
      "text/html": [
       "<style>\n",
       ".list-inline {list-style: none; margin:0; padding: 0}\n",
       ".list-inline>li {display: inline-block}\n",
       ".list-inline>li:not(:last-child)::after {content: \"\\00b7\"; padding: 0 .5ex}\n",
       "</style>\n",
       "<ol class=list-inline><li>14</li><li>7</li><li>7</li></ol>\n"
      ],
      "text/latex": [
       "\\begin{enumerate*}\n",
       "\\item 14\n",
       "\\item 7\n",
       "\\item 7\n",
       "\\end{enumerate*}\n"
      ],
      "text/markdown": [
       "1. 14\n",
       "2. 7\n",
       "3. 7\n",
       "\n",
       "\n"
      ],
      "text/plain": [
       "[1] 14  7  7"
      ]
     },
     "metadata": {},
     "output_type": "display_data"
    }
   ],
   "source": [
    "res <- chisq.test(observed, p = expected)\n",
    "res\n",
    "res$expected"
   ]
  },
  {
   "cell_type": "code",
   "execution_count": null,
   "id": "current-contents",
   "metadata": {},
   "outputs": [],
   "source": []
  },
  {
   "cell_type": "code",
   "execution_count": null,
   "id": "infrared-webmaster",
   "metadata": {},
   "outputs": [],
   "source": []
  },
  {
   "cell_type": "code",
   "execution_count": null,
   "id": "occasional-invite",
   "metadata": {},
   "outputs": [],
   "source": []
  },
  {
   "cell_type": "code",
   "execution_count": null,
   "id": "alone-colombia",
   "metadata": {},
   "outputs": [],
   "source": []
  },
  {
   "cell_type": "code",
   "execution_count": null,
   "id": "fitted-hartford",
   "metadata": {},
   "outputs": [],
   "source": []
  },
  {
   "cell_type": "markdown",
   "id": "reported-orientation",
   "metadata": {},
   "source": [
    "## Example 2: Mouse Genetics\n",
    "\n",
    "Suppose researchers cross a pure breeding white mouse with a pure breeding brown mouse. All F1 (first filial generation) progeny are brown. The researchers then construct an F2 (second filial generation) cross by breeding pairs from F1 group. If the researchers’ genetics model is correct, the brown-to-white ratio in the F2 group should be 3:1.\n",
    "\n",
    "In total, researchers raise 200 of the F2 offspring and observe 164 brown and and the rest white. Test the hypothesis that the genetics model is correct at the $\\alpha=0.1$ level of significance."
   ]
  },
  {
   "cell_type": "markdown",
   "id": "received-current",
   "metadata": {},
   "source": [
    "### Hypotheses\n",
    "\n",
    "The required list of probabilities in our null hypothesis:\n",
    "\n",
    "$$\\begin{align}H_0 : p_\\text{brown}&=\\frac{3}{4} \\\\ p_\\text{white}&=\\frac{1}{4}\\end{align}$$"
   ]
  },
  {
   "cell_type": "code",
   "execution_count": null,
   "id": "american-blame",
   "metadata": {},
   "outputs": [],
   "source": []
  },
  {
   "cell_type": "code",
   "execution_count": null,
   "id": "involved-chosen",
   "metadata": {},
   "outputs": [],
   "source": []
  },
  {
   "cell_type": "code",
   "execution_count": null,
   "id": "wicked-teddy",
   "metadata": {},
   "outputs": [],
   "source": []
  },
  {
   "cell_type": "code",
   "execution_count": null,
   "id": "martial-broadcasting",
   "metadata": {},
   "outputs": [],
   "source": []
  },
  {
   "cell_type": "code",
   "execution_count": null,
   "id": "worldwide-machinery",
   "metadata": {},
   "outputs": [],
   "source": []
  },
  {
   "cell_type": "code",
   "execution_count": null,
   "id": "judicial-humanitarian",
   "metadata": {},
   "outputs": [],
   "source": []
  },
  {
   "cell_type": "code",
   "execution_count": null,
   "id": "growing-saskatchewan",
   "metadata": {},
   "outputs": [],
   "source": []
  },
  {
   "cell_type": "code",
   "execution_count": null,
   "id": "extended-pontiac",
   "metadata": {},
   "outputs": [],
   "source": []
  },
  {
   "cell_type": "code",
   "execution_count": null,
   "id": "abroad-container",
   "metadata": {},
   "outputs": [],
   "source": []
  },
  {
   "cell_type": "code",
   "execution_count": null,
   "id": "chemical-violence",
   "metadata": {},
   "outputs": [],
   "source": []
  },
  {
   "cell_type": "markdown",
   "id": "artificial-player",
   "metadata": {},
   "source": [
    "## Example 3: Births on Week Days vs. Weekends\n",
    "\n",
    "Are fewer human babies born on weekend days (proportionally) then week days?\n",
    "\n",
    "Note that, naturally, 2 out of 7 babies would be born on weekend days while 5 out of 7 would be born on weekdays. Modern medicine produced a large increase in scheduled births (planned inductions or planned C-sections) in recent years. If parents and doctors work together to schedule a birth, it sure ain’t gonna be at midnight on a Saturday! Consider the following observed data for births in one county in Georgia for 2023.\n",
    "\n",
    "<table style=\"width:35%\">\n",
    "<tr>\n",
    "  <th>Su</th>\n",
    "  <th>M</th>\n",
    "  <th>Tu</th> \n",
    "  <th>W</th>\n",
    "  <th>Tu</th> \n",
    "  <th>F</th>\n",
    "  <th>Sa</th>\n",
    "</tr>\n",
    "<tr>\n",
    "  <td>11</td>\n",
    "  <td>29</td>\n",
    "  <td>16</td>\n",
    "  <td>14</td>\n",
    "  <td>17</td>\n",
    "  <td>23</td>\n",
    "  <td>9</td>\n",
    "</tr>\n",
    "</table>\n",
    "\n",
    "Test if we have evidence at the $\\alpha=0.05$ level that fewer babies (proportionally) are born on weekends?"
   ]
  },
  {
   "cell_type": "markdown",
   "id": "related-residence",
   "metadata": {},
   "source": [
    "### Hypotheses\n",
    "\n",
    "The probabilities for each day will be $\\frac{1}{7}$:\n",
    "\n",
    "$$\\begin{align}H_0 &: p_\\text{Su}=p_\\text{M}=p_\\text{Tu}=p_\\text{W}=p_\\text{Th}=p_\\text{F}=p_\\text{Sa}=\\frac{1}{7} \\\\ H_a &: \\text{The observed data do not match expectations based on the probilities.}\\end{align}$$"
   ]
  },
  {
   "cell_type": "code",
   "execution_count": 41,
   "id": "frequent-auction",
   "metadata": {},
   "outputs": [
    {
     "ename": "ERROR",
     "evalue": "Error in eval(expr, envir, enclos): '...' used in an incorrect context\n",
     "output_type": "error",
     "traceback": [
      "Error in eval(expr, envir, enclos): '...' used in an incorrect context\nTraceback:\n"
     ]
    }
   ],
   "source": [
    "observed = ...\n",
    "expected = ..."
   ]
  },
  {
   "cell_type": "code",
   "execution_count": 42,
   "id": "olive-strike",
   "metadata": {},
   "outputs": [
    {
     "ename": "ERROR",
     "evalue": "Error in eval(expr, envir, enclos): '...' used in an incorrect context\n",
     "output_type": "error",
     "traceback": [
      "Error in eval(expr, envir, enclos): '...' used in an incorrect context\nTraceback:\n"
     ]
    }
   ],
   "source": [
    "chisq.test(...)"
   ]
  },
  {
   "cell_type": "code",
   "execution_count": null,
   "id": "sudden-exercise",
   "metadata": {},
   "outputs": [],
   "source": []
  },
  {
   "cell_type": "code",
   "execution_count": null,
   "id": "social-destination",
   "metadata": {},
   "outputs": [],
   "source": []
  },
  {
   "cell_type": "code",
   "execution_count": null,
   "id": "fluid-parade",
   "metadata": {},
   "outputs": [],
   "source": []
  },
  {
   "cell_type": "code",
   "execution_count": null,
   "id": "running-court",
   "metadata": {},
   "outputs": [],
   "source": []
  },
  {
   "cell_type": "code",
   "execution_count": null,
   "id": "judicial-teacher",
   "metadata": {},
   "outputs": [],
   "source": []
  },
  {
   "cell_type": "code",
   "execution_count": null,
   "id": "fifty-belfast",
   "metadata": {},
   "outputs": [],
   "source": []
  },
  {
   "cell_type": "code",
   "execution_count": null,
   "id": "informative-medicare",
   "metadata": {},
   "outputs": [],
   "source": []
  },
  {
   "cell_type": "code",
   "execution_count": null,
   "id": "swedish-ranch",
   "metadata": {},
   "outputs": [],
   "source": []
  },
  {
   "cell_type": "code",
   "execution_count": null,
   "id": "stunning-musical",
   "metadata": {},
   "outputs": [],
   "source": []
  },
  {
   "cell_type": "markdown",
   "id": "answering-spare",
   "metadata": {},
   "source": [
    "## Example 4: Births on Week Days vs. Weekends\n",
    "\n",
    "Are fewer human babies born on weekend days (proportionally) then week days?\n",
    "\n",
    "Note that, naturally, 1 out of 7 babies would be born on each day of the week regardless of whether it were a weekend or a weekday. Modern medicine has produced a recent increase in scheduled births due to planned inductions or planned C-sections. If parents and doctors work together to schedule a birth, it sure ain’t gonna be at midnight on a Saturday! Consider the following observed data for births in a famous data set from 1978."
   ]
  },
  {
   "cell_type": "code",
   "execution_count": 27,
   "id": "imperial-parts",
   "metadata": {},
   "outputs": [
    {
     "data": {
      "text/html": [
       "<table>\n",
       "<caption>A data.frame: 3 × 9</caption>\n",
       "<thead>\n",
       "\t<tr><th></th><th scope=col>rownames</th><th scope=col>date</th><th scope=col>births</th><th scope=col>wday</th><th scope=col>year</th><th scope=col>month</th><th scope=col>day_of_year</th><th scope=col>day_of_month</th><th scope=col>day_of_week</th></tr>\n",
       "\t<tr><th></th><th scope=col>&lt;int&gt;</th><th scope=col>&lt;chr&gt;</th><th scope=col>&lt;int&gt;</th><th scope=col>&lt;chr&gt;</th><th scope=col>&lt;int&gt;</th><th scope=col>&lt;int&gt;</th><th scope=col>&lt;int&gt;</th><th scope=col>&lt;int&gt;</th><th scope=col>&lt;int&gt;</th></tr>\n",
       "</thead>\n",
       "<tbody>\n",
       "\t<tr><th scope=row>1</th><td>1</td><td>1978-01-01</td><td>7701</td><td>Sun</td><td>1978</td><td>1</td><td>1</td><td>1</td><td>1</td></tr>\n",
       "\t<tr><th scope=row>2</th><td>2</td><td>1978-01-02</td><td>7527</td><td>Mon</td><td>1978</td><td>1</td><td>2</td><td>2</td><td>2</td></tr>\n",
       "\t<tr><th scope=row>3</th><td>3</td><td>1978-01-03</td><td>8825</td><td>Tue</td><td>1978</td><td>1</td><td>3</td><td>3</td><td>3</td></tr>\n",
       "</tbody>\n",
       "</table>\n"
      ],
      "text/latex": [
       "A data.frame: 3 × 9\n",
       "\\begin{tabular}{r|lllllllll}\n",
       "  & rownames & date & births & wday & year & month & day\\_of\\_year & day\\_of\\_month & day\\_of\\_week\\\\\n",
       "  & <int> & <chr> & <int> & <chr> & <int> & <int> & <int> & <int> & <int>\\\\\n",
       "\\hline\n",
       "\t1 & 1 & 1978-01-01 & 7701 & Sun & 1978 & 1 & 1 & 1 & 1\\\\\n",
       "\t2 & 2 & 1978-01-02 & 7527 & Mon & 1978 & 1 & 2 & 2 & 2\\\\\n",
       "\t3 & 3 & 1978-01-03 & 8825 & Tue & 1978 & 1 & 3 & 3 & 3\\\\\n",
       "\\end{tabular}\n"
      ],
      "text/markdown": [
       "\n",
       "A data.frame: 3 × 9\n",
       "\n",
       "| <!--/--> | rownames &lt;int&gt; | date &lt;chr&gt; | births &lt;int&gt; | wday &lt;chr&gt; | year &lt;int&gt; | month &lt;int&gt; | day_of_year &lt;int&gt; | day_of_month &lt;int&gt; | day_of_week &lt;int&gt; |\n",
       "|---|---|---|---|---|---|---|---|---|---|\n",
       "| 1 | 1 | 1978-01-01 | 7701 | Sun | 1978 | 1 | 1 | 1 | 1 |\n",
       "| 2 | 2 | 1978-01-02 | 7527 | Mon | 1978 | 1 | 2 | 2 | 2 |\n",
       "| 3 | 3 | 1978-01-03 | 8825 | Tue | 1978 | 1 | 3 | 3 | 3 |\n",
       "\n"
      ],
      "text/plain": [
       "  rownames date       births wday year month day_of_year day_of_month\n",
       "1 1        1978-01-01 7701   Sun  1978 1     1           1           \n",
       "2 2        1978-01-02 7527   Mon  1978 1     2           2           \n",
       "3 3        1978-01-03 8825   Tue  1978 1     3           3           \n",
       "  day_of_week\n",
       "1 1          \n",
       "2 2          \n",
       "3 3          "
      ]
     },
     "metadata": {},
     "output_type": "display_data"
    }
   ],
   "source": [
    "births = read.csv('https://faculty.ung.edu/rsinn/data/births78.csv')\n",
    "head(births, 3)"
   ]
  },
  {
   "cell_type": "markdown",
   "id": "biblical-trainer",
   "metadata": {},
   "source": [
    "Is there evidence at the $\\alpha=0.05$ level that fewer babies (proportionally) are born on weekends?\n",
    "\n",
    "Our hypotheses:\n",
    "\n",
    "$$\\begin{align}H_0 &: p_{Su} = p_{M} = p_{Tu} = p_{W} = p_{Th} = p_{F} = p_{Sa} = \\frac{1}{7}\\\\H_a &: \\text{Observed Data do not Conform to this Probability Model}\\end{align}$$\n",
    "\n",
    "We can subset our births table into days of the week as follows (example with Sundays):"
   ]
  },
  {
   "cell_type": "code",
   "execution_count": 38,
   "id": "dated-welsh",
   "metadata": {},
   "outputs": [
    {
     "data": {
      "text/html": [
       "421400"
      ],
      "text/latex": [
       "421400"
      ],
      "text/markdown": [
       "421400"
      ],
      "text/plain": [
       "[1] 421400"
      ]
     },
     "metadata": {},
     "output_type": "display_data"
    }
   ],
   "source": [
    "sunday <- subset(births, wday == 'Sun')\n",
    "sum(sunday$births)"
   ]
  },
  {
   "cell_type": "code",
   "execution_count": null,
   "id": "southeast-preparation",
   "metadata": {},
   "outputs": [],
   "source": []
  }
 ],
 "metadata": {
  "kernelspec": {
   "display_name": "R",
   "language": "R",
   "name": "ir"
  },
  "language_info": {
   "codemirror_mode": "r",
   "file_extension": ".r",
   "mimetype": "text/x-r-source",
   "name": "R",
   "pygments_lexer": "r",
   "version": "4.0.3"
  }
 },
 "nbformat": 4,
 "nbformat_minor": 5
}
