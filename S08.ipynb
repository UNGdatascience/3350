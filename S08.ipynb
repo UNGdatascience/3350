{
 "cells": [
  {
   "cell_type": "markdown",
   "id": "crucial-demonstration",
   "metadata": {},
   "source": [
    "# $\\chi^2$ Test of Independence\n",
    "\n",
    "When working with qualitative or category data, we can’t calculate means and standard deviations. Instead, we tally up the counts of each outcome and calculate percentages or proportions.\n",
    "\n",
    "We have two main proportion tests, one based on the $z$ distribution, one based on the $\\chi^2$ distribution. The $z$-proportion test can only be used with one or two samples. We use $\\chi^2$ for category variables with more than two levels. Because $\\chi^2$ is a more robust statistic, we sometimes use it for small sample experiments in the two sample case."
   ]
  },
  {
   "cell_type": "markdown",
   "id": "fundamental-rescue",
   "metadata": {},
   "source": [
    "## Tools for Work\n",
    "\n",
    "To conduct a $\\chi^2$ test of independence by hand, I will need links to the following:\n",
    "\n",
    "- [Statistics Formula Sheet](https://faculty.ung.edu/rsinn/3350/StatsFormulas.pdf)\n",
    "- [$\\chi^2$ Table](https://faculty.ung.edu/rsinn/3350/Table_ChiSquared.pdf)\n",
    "\n",
    "We will also the following data set:"
   ]
  },
  {
   "cell_type": "code",
   "execution_count": 28,
   "id": "champion-fellowship",
   "metadata": {},
   "outputs": [],
   "source": [
    "pers <- read.csv('https://faculty.ung.edu/rsinn/data/personality.csv')"
   ]
  },
  {
   "cell_type": "markdown",
   "id": "imperial-latter",
   "metadata": {},
   "source": [
    "## Example 1: Learning Styles\n",
    "\n",
    "A psychologist questions whether preference of learning method differs by gender. A group survey is conducted the results of which are shown below. Test whether a relationship exists between gender and learning method."
   ]
  },
  {
   "cell_type": "markdown",
   "id": "regulation-danish",
   "metadata": {},
   "source": [
    "<table style=\"width:25%\">\n",
    "  <tr>\n",
    "    <th></th>\n",
    "    <th style=\"text-align: center\">Male</th>\n",
    "    <th style=\"text-align: center\">Female</th> \n",
    "  </tr>\n",
    "  <tr>\n",
    "    <td style=\"text-align: center\"><b>Visual</b></td>\n",
    "    <td style=\"text-align: center\">25</td>\n",
    "    <td style=\"text-align: center\">14</td>\n",
    "  </tr>\n",
    "  <tr>\n",
    "    <td style=\"text-align: center\"><b>Auditory</b></td>\n",
    "    <td style=\"text-align: center\">24</td>\n",
    "    <td style=\"text-align: center\">42</td>\n",
    "  </tr>\n",
    "  <tr>\n",
    "    <td style=\"text-align: center\"><b>Kinethetic</b></td>\n",
    "    <td style=\"text-align: center\">41</td>\n",
    "    <td style=\"text-align: center\">34</td>\n",
    "  </tr>\n",
    "</table>"
   ]
  },
  {
   "cell_type": "code",
   "execution_count": 29,
   "id": "fluid-truth",
   "metadata": {},
   "outputs": [
    {
     "data": {
      "text/html": [
       "<table>\n",
       "<caption>A matrix: 3 × 2 of type dbl</caption>\n",
       "<tbody>\n",
       "\t<tr><td>25</td><td>14</td></tr>\n",
       "\t<tr><td>24</td><td>42</td></tr>\n",
       "\t<tr><td>41</td><td>34</td></tr>\n",
       "</tbody>\n",
       "</table>\n"
      ],
      "text/latex": [
       "A matrix: 3 × 2 of type dbl\n",
       "\\begin{tabular}{ll}\n",
       "\t 25 & 14\\\\\n",
       "\t 24 & 42\\\\\n",
       "\t 41 & 34\\\\\n",
       "\\end{tabular}\n"
      ],
      "text/markdown": [
       "\n",
       "A matrix: 3 × 2 of type dbl\n",
       "\n",
       "| 25 | 14 |\n",
       "| 24 | 42 |\n",
       "| 41 | 34 |\n",
       "\n"
      ],
      "text/plain": [
       "     [,1] [,2]\n",
       "[1,] 25   14  \n",
       "[2,] 24   42  \n",
       "[3,] 41   34  "
      ]
     },
     "metadata": {},
     "output_type": "display_data"
    }
   ],
   "source": [
    "data <- matrix(c(25, 24, 41, 14, 42, 34), nrow = 3)\n",
    "data"
   ]
  },
  {
   "cell_type": "code",
   "execution_count": 30,
   "id": "acoustic-politics",
   "metadata": {},
   "outputs": [
    {
     "data": {
      "text/plain": [
       "\n",
       "\tPearson's Chi-squared test\n",
       "\n",
       "data:  data\n",
       "X-squared = 8.665, df = 2, p-value = 0.01313\n"
      ]
     },
     "metadata": {},
     "output_type": "display_data"
    }
   ],
   "source": [
    "result <- chisq.test(data)\n",
    "result"
   ]
  },
  {
   "cell_type": "code",
   "execution_count": null,
   "id": "arctic-uncle",
   "metadata": {},
   "outputs": [],
   "source": []
  },
  {
   "cell_type": "code",
   "execution_count": null,
   "id": "exposed-bracelet",
   "metadata": {},
   "outputs": [],
   "source": []
  },
  {
   "cell_type": "code",
   "execution_count": null,
   "id": "cloudy-christian",
   "metadata": {},
   "outputs": [],
   "source": []
  },
  {
   "cell_type": "code",
   "execution_count": null,
   "id": "statutory-publicity",
   "metadata": {},
   "outputs": [],
   "source": []
  },
  {
   "cell_type": "code",
   "execution_count": null,
   "id": "further-morgan",
   "metadata": {},
   "outputs": [],
   "source": []
  },
  {
   "cell_type": "code",
   "execution_count": null,
   "id": "recorded-transcription",
   "metadata": {},
   "outputs": [],
   "source": []
  },
  {
   "cell_type": "code",
   "execution_count": null,
   "id": "dirty-obligation",
   "metadata": {},
   "outputs": [],
   "source": []
  },
  {
   "cell_type": "code",
   "execution_count": null,
   "id": "remarkable-martial",
   "metadata": {},
   "outputs": [],
   "source": []
  },
  {
   "cell_type": "code",
   "execution_count": null,
   "id": "caring-shopper",
   "metadata": {},
   "outputs": [],
   "source": []
  },
  {
   "cell_type": "code",
   "execution_count": null,
   "id": "damaged-productivity",
   "metadata": {},
   "outputs": [],
   "source": []
  },
  {
   "cell_type": "markdown",
   "id": "wrapped-granny",
   "metadata": {},
   "source": [
    "## Example 2: Snacks vs. Type of Movie"
   ]
  },
  {
   "cell_type": "markdown",
   "id": "corporate-boxing",
   "metadata": {},
   "source": [
    "<table style=\"width:35%\">\n",
    "  <tr>\n",
    "    <th></th>\n",
    "    <th style=\"text-align: center\">Snacks</th>\n",
    "    <th style=\"text-align: center\">No Snacks</th> \n",
    "  </tr>\n",
    "  <tr>\n",
    "    <td style=\"text-align: center\"><b>Action</b></td>\n",
    "    <td style=\"text-align: center\">55</td>\n",
    "    <td style=\"text-align: center\">75</td>\n",
    "  </tr>\n",
    "  <tr>\n",
    "    <td style=\"text-align: center\"><b>Comedy</b></td>\n",
    "    <td style=\"text-align: center\">135</td>\n",
    "    <td style=\"text-align: center\">155</td>\n",
    "  </tr>\n",
    "  <tr>\n",
    "    <td style=\"text-align: center\"><b>Family</b></td>\n",
    "    <td style=\"text-align: center\">85</td>\n",
    "    <td style=\"text-align: center\">55</td>\n",
    "  </tr>\n",
    "  <tr>\n",
    "    <td style=\"text-align: center\"><b>Horror</b></td>\n",
    "    <td style=\"text-align: center\">45</td>\n",
    "    <td style=\"text-align: center\">15</td>\n",
    "  </tr>\n",
    "</table>"
   ]
  },
  {
   "cell_type": "markdown",
   "id": "enabling-dominant",
   "metadata": {},
   "source": [
    "Conduct a test of indepence upon Type of Movie and the proportion of attendees who purchased snacks to take into the movie."
   ]
  },
  {
   "cell_type": "code",
   "execution_count": null,
   "id": "recent-sussex",
   "metadata": {},
   "outputs": [],
   "source": []
  },
  {
   "cell_type": "code",
   "execution_count": null,
   "id": "armed-virginia",
   "metadata": {},
   "outputs": [],
   "source": []
  },
  {
   "cell_type": "code",
   "execution_count": null,
   "id": "expanded-master",
   "metadata": {},
   "outputs": [],
   "source": []
  },
  {
   "cell_type": "code",
   "execution_count": null,
   "id": "needed-elizabeth",
   "metadata": {},
   "outputs": [],
   "source": []
  },
  {
   "cell_type": "code",
   "execution_count": null,
   "id": "therapeutic-missouri",
   "metadata": {},
   "outputs": [],
   "source": []
  },
  {
   "cell_type": "code",
   "execution_count": null,
   "id": "swiss-hypothetical",
   "metadata": {},
   "outputs": [],
   "source": []
  },
  {
   "cell_type": "code",
   "execution_count": null,
   "id": "outside-huntington",
   "metadata": {},
   "outputs": [],
   "source": []
  },
  {
   "cell_type": "code",
   "execution_count": null,
   "id": "third-directive",
   "metadata": {},
   "outputs": [],
   "source": []
  },
  {
   "cell_type": "code",
   "execution_count": null,
   "id": "straight-feeling",
   "metadata": {},
   "outputs": [],
   "source": []
  },
  {
   "cell_type": "code",
   "execution_count": null,
   "id": "backed-corpus",
   "metadata": {},
   "outputs": [],
   "source": []
  },
  {
   "cell_type": "markdown",
   "id": "resistant-lease",
   "metadata": {},
   "source": [
    "## Example 3: Accept the Date\n",
    "\n",
    "Using the **AccDate** varible in the personality data set, test whether Yes/No responses to the dating question depends upon biological sex."
   ]
  },
  {
   "cell_type": "code",
   "execution_count": 31,
   "id": "peripheral-windsor",
   "metadata": {},
   "outputs": [
    {
     "data": {
      "text/html": [
       "<table>\n",
       "<caption>A data.frame: 4 × 2</caption>\n",
       "<thead>\n",
       "\t<tr><th></th><th scope=col>Sex</th><th scope=col>AccDate</th></tr>\n",
       "\t<tr><th></th><th scope=col>&lt;chr&gt;</th><th scope=col>&lt;chr&gt;</th></tr>\n",
       "</thead>\n",
       "<tbody>\n",
       "\t<tr><th scope=row>1</th><td>M</td><td>N</td></tr>\n",
       "\t<tr><th scope=row>2</th><td>F</td><td>Y</td></tr>\n",
       "\t<tr><th scope=row>3</th><td>M</td><td>Y</td></tr>\n",
       "\t<tr><th scope=row>4</th><td>F</td><td>N</td></tr>\n",
       "</tbody>\n",
       "</table>\n"
      ],
      "text/latex": [
       "A data.frame: 4 × 2\n",
       "\\begin{tabular}{r|ll}\n",
       "  & Sex & AccDate\\\\\n",
       "  & <chr> & <chr>\\\\\n",
       "\\hline\n",
       "\t1 & M & N\\\\\n",
       "\t2 & F & Y\\\\\n",
       "\t3 & M & Y\\\\\n",
       "\t4 & F & N\\\\\n",
       "\\end{tabular}\n"
      ],
      "text/markdown": [
       "\n",
       "A data.frame: 4 × 2\n",
       "\n",
       "| <!--/--> | Sex &lt;chr&gt; | AccDate &lt;chr&gt; |\n",
       "|---|---|---|\n",
       "| 1 | M | N |\n",
       "| 2 | F | Y |\n",
       "| 3 | M | Y |\n",
       "| 4 | F | N |\n",
       "\n"
      ],
      "text/plain": [
       "  Sex AccDate\n",
       "1 M   N      \n",
       "2 F   Y      \n",
       "3 M   Y      \n",
       "4 F   N      "
      ]
     },
     "metadata": {},
     "output_type": "display_data"
    }
   ],
   "source": [
    "date <- pers[c(3,14)]\n",
    "head(date,4)"
   ]
  },
  {
   "cell_type": "code",
   "execution_count": 32,
   "id": "engaging-angel",
   "metadata": {},
   "outputs": [
    {
     "data": {
      "text/plain": [
       "       Sex\n",
       "AccDate  F  M\n",
       "      N 28 28\n",
       "      Y 46 27"
      ]
     },
     "metadata": {},
     "output_type": "display_data"
    }
   ],
   "source": [
    "xtabs(~AccDate + Sex, data = date)"
   ]
  },
  {
   "cell_type": "code",
   "execution_count": null,
   "id": "center-miracle",
   "metadata": {},
   "outputs": [],
   "source": []
  },
  {
   "cell_type": "code",
   "execution_count": null,
   "id": "strange-primary",
   "metadata": {},
   "outputs": [],
   "source": []
  },
  {
   "cell_type": "code",
   "execution_count": null,
   "id": "humanitarian-diploma",
   "metadata": {},
   "outputs": [],
   "source": []
  },
  {
   "cell_type": "code",
   "execution_count": null,
   "id": "compliant-representation",
   "metadata": {},
   "outputs": [],
   "source": []
  },
  {
   "cell_type": "code",
   "execution_count": null,
   "id": "adjacent-brief",
   "metadata": {},
   "outputs": [],
   "source": []
  },
  {
   "cell_type": "code",
   "execution_count": null,
   "id": "numeric-mayor",
   "metadata": {},
   "outputs": [],
   "source": []
  },
  {
   "cell_type": "code",
   "execution_count": null,
   "id": "saved-discovery",
   "metadata": {},
   "outputs": [],
   "source": []
  },
  {
   "cell_type": "code",
   "execution_count": null,
   "id": "suburban-macedonia",
   "metadata": {},
   "outputs": [],
   "source": []
  },
  {
   "cell_type": "code",
   "execution_count": null,
   "id": "accompanied-albania",
   "metadata": {},
   "outputs": [],
   "source": []
  },
  {
   "cell_type": "code",
   "execution_count": null,
   "id": "twenty-hungarian",
   "metadata": {},
   "outputs": [],
   "source": []
  }
 ],
 "metadata": {
  "kernelspec": {
   "display_name": "R",
   "language": "R",
   "name": "ir"
  },
  "language_info": {
   "codemirror_mode": "r",
   "file_extension": ".r",
   "mimetype": "text/x-r-source",
   "name": "R",
   "pygments_lexer": "r",
   "version": "4.0.3"
  }
 },
 "nbformat": 4,
 "nbformat_minor": 5
}
