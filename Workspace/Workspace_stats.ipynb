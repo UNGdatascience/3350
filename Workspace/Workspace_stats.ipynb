{
 "cells": [
  {
   "cell_type": "markdown",
   "id": "mounted-translator",
   "metadata": {},
   "source": [
    "# Workspace for Statistics\n",
    "\n",
    "The idea is to create a blank template in which we can immediately begin working in R on statistics problems. What do we need to accomplish this? Not much other than data sets which can be found here: [Robb's Faculty Webpage: Data Sets](https://faculty.ung.edu/rsinn/data/). We will load several data sets from the jump so that we are ready to begin working immediately.\n",
    "\n",
    "- **pers** -- Personality data set\n",
    "- **births** -- Babies with smoking vs. non-smoking moms data set\n",
    "- **united** -- Airline data set with specific United flights and delays (in minutes)\n",
    "- **airports** -- World airports data set"
   ]
  },
  {
   "cell_type": "code",
   "execution_count": 1,
   "id": "bizarre-dealer",
   "metadata": {},
   "outputs": [],
   "source": [
    "pers <- read.csv('http://faculty.ung.edu/rsinn/data/personality.csv')\n",
    "births <-  read.csv('http://faculty.ung.edu/rsinn/data/baby.csv')\n",
    "united <- read.csv('http://faculty.ung.edu/rsinn/data/united.csv')\n",
    "airports <- read.csv('http://faculty.ung.edu/rsinn/data/airports.csv')"
   ]
  },
  {
   "cell_type": "markdown",
   "id": "laden-andrew",
   "metadata": {},
   "source": [
    "## Begin working the code blocks below"
   ]
  },
  {
   "cell_type": "code",
   "execution_count": 3,
   "id": "incorporated-reference",
   "metadata": {},
   "outputs": [
    {
     "ename": "ERROR",
     "evalue": "Error in library(\"mosaic\"): there is no package called 'mosaic'\n",
     "output_type": "error",
     "traceback": [
      "Error in library(\"mosaic\"): there is no package called 'mosaic'\nTraceback:\n",
      "1. library(\"mosaic\")"
     ]
    }
   ],
   "source": [
    "library('mosaic')"
   ]
  },
  {
   "cell_type": "code",
   "execution_count": null,
   "id": "introductory-prince",
   "metadata": {},
   "outputs": [],
   "source": []
  },
  {
   "cell_type": "code",
   "execution_count": null,
   "id": "charged-netherlands",
   "metadata": {},
   "outputs": [],
   "source": []
  },
  {
   "cell_type": "code",
   "execution_count": null,
   "id": "altered-superior",
   "metadata": {},
   "outputs": [],
   "source": []
  },
  {
   "cell_type": "code",
   "execution_count": null,
   "id": "planned-mistress",
   "metadata": {},
   "outputs": [],
   "source": []
  }
 ],
 "metadata": {
  "kernelspec": {
   "display_name": "R",
   "language": "R",
   "name": "ir"
  },
  "language_info": {
   "codemirror_mode": "r",
   "file_extension": ".r",
   "mimetype": "text/x-r-source",
   "name": "R",
   "pygments_lexer": "r",
   "version": "3.6.1"
  }
 },
 "nbformat": 4,
 "nbformat_minor": 5
}
