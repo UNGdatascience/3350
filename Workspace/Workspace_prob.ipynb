{
 "cells": [
  {
   "cell_type": "markdown",
   "id": "ae18a1d3-a1e9-4549-9da2-f30f9372315b",
   "metadata": {},
   "source": [
    "# Workspace for Probability\n",
    "\n",
    "We have created this blank template in which we can immediately begin working in R on probability problems. We will only need the formulas for the functions that calculate **combinations** and **permutations**. \n",
    "\n",
    "Happily, R has the function **choose()** which will calculate combinations for us. Thus, we only need code for a permutations function:"
   ]
  },
  {
   "cell_type": "code",
   "execution_count": 16,
   "id": "6bce2f0f-82d0-4b7e-9235-8cbe421cef0d",
   "metadata": {},
   "outputs": [],
   "source": [
    "perm <- function(n, k) {\n",
    "    return(choose(n,k) * factorial(k))}"
   ]
  },
  {
   "cell_type": "markdown",
   "id": "b69e6e9d-dea0-4254-bb30-4ec443060ff7",
   "metadata": {},
   "source": [
    "## Begin working in the cells below."
   ]
  },
  {
   "cell_type": "markdown",
   "id": "ba8b8e5d-cfeb-4326-b436-5fa5e9c1afe1",
   "metadata": {},
   "source": [
    "### Example: How many 5-card poker hands are possible?\n",
    "\n",
    "The answer is \"52 choose 5\" or, in mathematics notation: $\\binom{52}{5}$. In R, we calculate the following:"
   ]
  },
  {
   "cell_type": "code",
   "execution_count": 27,
   "id": "7a789098-1096-4be3-ad23-cfad032f1b06",
   "metadata": {},
   "outputs": [
    {
     "data": {
      "text/html": [
       "2598960"
      ],
      "text/latex": [
       "2598960"
      ],
      "text/markdown": [
       "2598960"
      ],
      "text/plain": [
       "[1] 2598960"
      ]
     },
     "metadata": {},
     "output_type": "display_data"
    }
   ],
   "source": [
    "choose(52,5)"
   ]
  },
  {
   "cell_type": "code",
   "execution_count": null,
   "id": "28fcf59b-ec5b-4300-b6f2-be016eb62776",
   "metadata": {},
   "outputs": [],
   "source": []
  },
  {
   "cell_type": "code",
   "execution_count": null,
   "id": "f0eaa6c5-a870-41c1-94ee-16887b014735",
   "metadata": {},
   "outputs": [],
   "source": []
  },
  {
   "cell_type": "code",
   "execution_count": null,
   "id": "681ace2b-e182-438b-94b3-fd21bab38691",
   "metadata": {},
   "outputs": [],
   "source": []
  }
 ],
 "metadata": {
  "kernelspec": {
   "display_name": "R",
   "language": "R",
   "name": "ir"
  },
  "language_info": {
   "codemirror_mode": "r",
   "file_extension": ".r",
   "mimetype": "text/x-r-source",
   "name": "R",
   "pygments_lexer": "r",
   "version": "3.6.1"
  }
 },
 "nbformat": 4,
 "nbformat_minor": 5
}
