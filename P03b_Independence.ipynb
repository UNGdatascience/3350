{
 "cells": [
  {
   "cell_type": "markdown",
   "id": "59599335-2f58-4c2b-a96d-a0e85d675507",
   "metadata": {},
   "source": [
    "# P03b: Independence"
   ]
  },
  {
   "cell_type": "markdown",
   "id": "fd97400a-32d4-4fa2-80a0-9fcf6a5ce10d",
   "metadata": {},
   "source": [
    "To define independence we need the following:\n",
    "$$P(A|B)$$\n",
    "which is read the probability of ``A given B'' which means the probability of $A$ occurring given that $B$ has already occurred.\n",
    "\n",
    "## Definition: Independence\n",
    "Given the event sets $A$ and $B$, they are **independent** provided\n",
    "$$P(A|B) =\\frac{P(A\\cap B)}{P(B)}$$\n",
    "or, equivalently,\n",
    "$$P(B|A) =\\frac{P(B\\cap A)}{P(A)}$$"
   ]
  },
  {
   "cell_type": "markdown",
   "id": "48d4053b-594b-4e71-9fbc-e9cc0bfd463d",
   "metadata": {},
   "source": [
    "## Examples\n",
    "\n",
    "1. Let event $T$ be a coin flip coming up tails and event $F$ be a dice roll coming up 4. Are events $T$ and $F$ independent?"
   ]
  },
  {
   "cell_type": "code",
   "execution_count": null,
   "id": "c9fa9514-60c9-436d-a30a-e4f713749dcc",
   "metadata": {},
   "outputs": [],
   "source": []
  },
  {
   "cell_type": "code",
   "execution_count": null,
   "id": "757401c3-7516-4222-8768-28309b82eb0d",
   "metadata": {},
   "outputs": [],
   "source": []
  },
  {
   "cell_type": "markdown",
   "id": "eb9dd595-dc98-4140-ba67-3b314eed1f7b",
   "metadata": {},
   "source": [
    "2. Given a fair dice roll, let event $W$ be the probability the value shown is divisible by $2$. Let $R$ be the event that the value shown is divisible by $3$. Are events $W$ and $R$ independent?"
   ]
  },
  {
   "cell_type": "code",
   "execution_count": null,
   "id": "ef6add35-929d-43d1-87d4-e73618c47ecc",
   "metadata": {},
   "outputs": [],
   "source": []
  },
  {
   "cell_type": "code",
   "execution_count": null,
   "id": "3225774c-3757-4a74-88c6-cb6e9495a81b",
   "metadata": {},
   "outputs": [],
   "source": []
  },
  {
   "cell_type": "markdown",
   "id": "daca4239-2adc-45fc-978b-5d9f8c9437a8",
   "metadata": {},
   "source": [
    "3. Given the geoboard example shown in the graphic, we have events Blue, Green and Red:\n",
    "- $P(B) =\\frac{20}{100}$\n",
    "- $P(G) =\\frac{40}{100}$\n",
    "- $P(R) =\\frac{12}{100}$\n",
    "\n",
    "The event sets are color-coded to assist with seeing the intersections. Each square in the grid is equal to 1 unit of area.\n",
    "\n",
    "![Geoboard Figure](ProbFig3.png)\n",
    "\n",
    "Are the events $G$ and $R$ independent? What about $B$ and $G$? or $R$ and $B$?"
   ]
  },
  {
   "cell_type": "code",
   "execution_count": null,
   "id": "39d4602e-4a8d-4ec1-98df-7533e1be8440",
   "metadata": {},
   "outputs": [],
   "source": []
  },
  {
   "cell_type": "code",
   "execution_count": null,
   "id": "0fa22a73-3546-4acb-b9e0-0cd3572c2f3c",
   "metadata": {},
   "outputs": [],
   "source": []
  },
  {
   "cell_type": "code",
   "execution_count": null,
   "id": "a56ee711-1b2d-4203-abbc-7b5c8b6e349d",
   "metadata": {},
   "outputs": [],
   "source": []
  },
  {
   "cell_type": "code",
   "execution_count": null,
   "id": "6560d53b-c95a-4c93-bf21-97d9da48324c",
   "metadata": {},
   "outputs": [],
   "source": []
  },
  {
   "cell_type": "code",
   "execution_count": null,
   "id": "96b7c10b-1cb8-41f2-ad6c-d0ba9d614db8",
   "metadata": {},
   "outputs": [],
   "source": []
  },
  {
   "cell_type": "markdown",
   "id": "54156c2d-324c-4a08-a4a9-d2e8f08bcd65",
   "metadata": {},
   "source": [
    "4. The events (H) drawing a Heart and (Q) drawing a Queen."
   ]
  },
  {
   "cell_type": "code",
   "execution_count": null,
   "id": "0790da78-d38a-44f4-b12e-583c3098a83c",
   "metadata": {},
   "outputs": [],
   "source": []
  },
  {
   "cell_type": "code",
   "execution_count": null,
   "id": "22ba2126-f9b8-4c11-9990-f566be58212d",
   "metadata": {},
   "outputs": [],
   "source": []
  },
  {
   "cell_type": "markdown",
   "id": "a1573acf-1de7-4e4d-ba6b-737b7dc3e135",
   "metadata": {},
   "source": [
    "5. The events (S) drawing a Spade, (J) drawing a Jack and (F) drawing a Face Card."
   ]
  },
  {
   "cell_type": "code",
   "execution_count": null,
   "id": "7ba1335c-28a9-4ec2-afad-5573467c1874",
   "metadata": {},
   "outputs": [],
   "source": []
  },
  {
   "cell_type": "markdown",
   "id": "4434b578-7045-48e4-aed7-52bc5492666e",
   "metadata": {},
   "source": [
    "6. The events (R) drawing a Red Card and (F) drawing a Face Card."
   ]
  },
  {
   "cell_type": "code",
   "execution_count": null,
   "id": "52207208-e4bc-4201-b442-c61e7fc235a8",
   "metadata": {},
   "outputs": [],
   "source": []
  },
  {
   "cell_type": "code",
   "execution_count": null,
   "id": "574fe856-7d3e-4810-b1f9-19c79eb7891e",
   "metadata": {},
   "outputs": [],
   "source": []
  }
 ],
 "metadata": {
  "kernelspec": {
   "display_name": "R",
   "language": "R",
   "name": "ir"
  },
  "language_info": {
   "codemirror_mode": "r",
   "file_extension": ".r",
   "mimetype": "text/x-r-source",
   "name": "R",
   "pygments_lexer": "r",
   "version": "3.6.1"
  }
 },
 "nbformat": 4,
 "nbformat_minor": 5
}
