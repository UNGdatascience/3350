{
 "cells": [
  {
   "cell_type": "markdown",
   "id": "multiple-toner",
   "metadata": {},
   "source": [
    "# ANOVA\n",
    "\n",
    "The statistical procedure **Analysis of Variance** is actually an umbrella term used to classify a dozen different procedures. In this course, we will study 1-way ANOVA, the most plain vanilla version of ANOVA.\n",
    "\n",
    "William Sealy Gosset created the $t$-test. While spetacularly successful, the $t$-test can be used at most with 2 samples. What if our statistical comparison involves 3 or more samples? Suppose we are comparing the *perfectionism* levels at a certain college among:\n",
    " \n",
    "- Freshman\n",
    "- Sophomores\n",
    "- Juniors\n",
    "- Seniors\n",
    "\n",
    "The $t$-test by itself will not work, and performing the $\\binom{4}{2} = 10$ $t$-tests needed to perform all the possible 2-way comparisons will drive the Type I error rate for the overall anaysis into the sky.\n",
    "\n",
    "Step up, Ronald Fisher, who extended the $t$-test mathematically so that it could be used with 3 or more groups. The statistic is $F$, but the process came to be called ANOVA."
   ]
  },
  {
   "cell_type": "markdown",
   "id": "verbal-relationship",
   "metadata": {},
   "source": [
    "## Getting Started\n",
    "\n",
    "Let's load some data to be used with our comparisons:"
   ]
  },
  {
   "cell_type": "code",
   "execution_count": 39,
   "id": "limited-conducting",
   "metadata": {},
   "outputs": [
    {
     "data": {
      "text/html": [
       "<table>\n",
       "<caption>A data.frame: 5 × 14</caption>\n",
       "<thead>\n",
       "\t<tr><th></th><th scope=col>title</th><th scope=col>acres</th><th scope=col>area_km_sq</th><th scope=col>visitors</th><th scope=col>state</th><th scope=col>lat</th><th scope=col>long</th><th scope=col>established</th><th scope=col>description</th><th scope=col>image.url</th><th scope=col>link</th><th scope=col>X</th><th scope=col>X.1</th><th scope=col>X.2</th></tr>\n",
       "\t<tr><th></th><th scope=col>&lt;chr&gt;</th><th scope=col>&lt;dbl&gt;</th><th scope=col>&lt;dbl&gt;</th><th scope=col>&lt;int&gt;</th><th scope=col>&lt;chr&gt;</th><th scope=col>&lt;dbl&gt;</th><th scope=col>&lt;dbl&gt;</th><th scope=col>&lt;chr&gt;</th><th scope=col>&lt;chr&gt;</th><th scope=col>&lt;chr&gt;</th><th scope=col>&lt;chr&gt;</th><th scope=col>&lt;lgl&gt;</th><th scope=col>&lt;lgl&gt;</th><th scope=col>&lt;chr&gt;</th></tr>\n",
       "</thead>\n",
       "<tbody>\n",
       "\t<tr><th scope=row>1</th><td>Acadia        </td><td> 49057.36</td><td> 198.5</td><td>3303393</td><td>Maine         </td><td> 44.35</td><td> -68.21</td><td>2/26/1919 </td><td>Covering most of Mount Desert Island and other coastal islands, Acadia features the tallest mountain on the Atlantic coast of the United States, granite peaks, ocean shoreline, woodlands, and lakes. There are freshwater, estuary, forest, and intertidal habitats.                                                                                                                                                                                              </td><td>acadia.jpg        </td><td>https://www.nps.gov/acad/index.htm</td><td>NA</td><td>NA</td><td></td></tr>\n",
       "\t<tr><th scope=row>2</th><td>American Samoa</td><td>  8256.67</td><td>  33.4</td><td>  28892</td><td>American Samoa</td><td>-14.25</td><td>-170.68</td><td>10/31/1988</td><td>The southernmost National Park is on three Samoan islands and protects coral reefs, rainforests, volcanic mountains, and white beaches. The area is also home to flying foxes, brown boobies, sea turtles, and 900 species of fish.                                                                                                                                                                                                                                 </td><td>american-samoa.jpg</td><td>https://www.nps.gov/npsa/index.htm</td><td>NA</td><td>NA</td><td></td></tr>\n",
       "\t<tr><th scope=row>3</th><td>Arches        </td><td> 76678.98</td><td> 310.3</td><td>1585718</td><td>Utah          </td><td> 38.68</td><td>-109.57</td><td>11/12/1971</td><td>This site features more than 2,000 natural sandstone arches, with some of the most popular arches in the park being Delicate Arch, Landscape Arch and Double Arch. Millions of years of erosion have created these structures located in a desert climate where the arid ground has life-sustaining biological soil crusts and potholes that serve as natural water-collecting basins. Other geologic formations include stone pinnacles, fins, and balancing rocks.</td><td>arches.jpg        </td><td>https://www.nps.gov/arch/index.htm</td><td>NA</td><td>NA</td><td></td></tr>\n",
       "\t<tr><th scope=row>4</th><td>Badlands      </td><td>242755.94</td><td> 982.4</td><td> 996263</td><td>South Dakota  </td><td> 43.75</td><td>-102.50</td><td>11/10/1978</td><td>The Badlands are a collection of buttes, pinnacles, spires, and mixed-grass prairies. The White River Badlands contain the largest assemblage of known late Eocene and Oligocene mammal fossils. The wildlife includes bison, bighorn sheep, black-footed ferrets, and prairie dogs.                                                                                                                                                                                </td><td>badlands.jpg      </td><td>https://www.nps.gov/badl/index.htm</td><td>NA</td><td>NA</td><td></td></tr>\n",
       "\t<tr><th scope=row>5</th><td>Big Bend      </td><td>801163.21</td><td>3242.2</td><td> 388290</td><td>Texas         </td><td> 29.25</td><td>-103.25</td><td>6/12/1944 </td><td>Named for the prominent bend in the Rio Grande along the U.S.–Mexico border, this park encompasses a large and remote part of the Chihuahuan Desert. Its main attraction is backcountry recreation in the arid Chisos Mountains and in canyons along the river. A wide variety of Cretaceous and Tertiary fossils as well as cultural artifacts of Native Americans also exist within its borders.                                                                  </td><td>big-bend.jpg      </td><td>https://www.nps.gov/bibe/index.htm</td><td>NA</td><td>NA</td><td></td></tr>\n",
       "</tbody>\n",
       "</table>\n"
      ],
      "text/latex": [
       "A data.frame: 5 × 14\n",
       "\\begin{tabular}{r|llllllllllllll}\n",
       "  & title & acres & area\\_km\\_sq & visitors & state & lat & long & established & description & image.url & link & X & X.1 & X.2\\\\\n",
       "  & <chr> & <dbl> & <dbl> & <int> & <chr> & <dbl> & <dbl> & <chr> & <chr> & <chr> & <chr> & <lgl> & <lgl> & <chr>\\\\\n",
       "\\hline\n",
       "\t1 & Acadia         &  49057.36 &  198.5 & 3303393 & Maine          &  44.35 &  -68.21 & 2/26/1919  & Covering most of Mount Desert Island and other coastal islands, Acadia features the tallest mountain on the Atlantic coast of the United States, granite peaks, ocean shoreline, woodlands, and lakes. There are freshwater, estuary, forest, and intertidal habitats.                                                                                                                                                                                               & acadia.jpg         & https://www.nps.gov/acad/index.htm & NA & NA & \\\\\n",
       "\t2 & American Samoa &   8256.67 &   33.4 &   28892 & American Samoa & -14.25 & -170.68 & 10/31/1988 & The southernmost National Park is on three Samoan islands and protects coral reefs, rainforests, volcanic mountains, and white beaches. The area is also home to flying foxes, brown boobies, sea turtles, and 900 species of fish.                                                                                                                                                                                                                                  & american-samoa.jpg & https://www.nps.gov/npsa/index.htm & NA & NA & \\\\\n",
       "\t3 & Arches         &  76678.98 &  310.3 & 1585718 & Utah           &  38.68 & -109.57 & 11/12/1971 & This site features more than 2,000 natural sandstone arches, with some of the most popular arches in the park being Delicate Arch, Landscape Arch and Double Arch. Millions of years of erosion have created these structures located in a desert climate where the arid ground has life-sustaining biological soil crusts and potholes that serve as natural water-collecting basins. Other geologic formations include stone pinnacles, fins, and balancing rocks. & arches.jpg         & https://www.nps.gov/arch/index.htm & NA & NA & \\\\\n",
       "\t4 & Badlands       & 242755.94 &  982.4 &  996263 & South Dakota   &  43.75 & -102.50 & 11/10/1978 & The Badlands are a collection of buttes, pinnacles, spires, and mixed-grass prairies. The White River Badlands contain the largest assemblage of known late Eocene and Oligocene mammal fossils. The wildlife includes bison, bighorn sheep, black-footed ferrets, and prairie dogs.                                                                                                                                                                                 & badlands.jpg       & https://www.nps.gov/badl/index.htm & NA & NA & \\\\\n",
       "\t5 & Big Bend       & 801163.21 & 3242.2 &  388290 & Texas          &  29.25 & -103.25 & 6/12/1944  & Named for the prominent bend in the Rio Grande along the U.S.–Mexico border, this park encompasses a large and remote part of the Chihuahuan Desert. Its main attraction is backcountry recreation in the arid Chisos Mountains and in canyons along the river. A wide variety of Cretaceous and Tertiary fossils as well as cultural artifacts of Native Americans also exist within its borders.                                                                   & big-bend.jpg       & https://www.nps.gov/bibe/index.htm & NA & NA & \\\\\n",
       "\\end{tabular}\n"
      ],
      "text/markdown": [
       "\n",
       "A data.frame: 5 × 14\n",
       "\n",
       "| <!--/--> | title &lt;chr&gt; | acres &lt;dbl&gt; | area_km_sq &lt;dbl&gt; | visitors &lt;int&gt; | state &lt;chr&gt; | lat &lt;dbl&gt; | long &lt;dbl&gt; | established &lt;chr&gt; | description &lt;chr&gt; | image.url &lt;chr&gt; | link &lt;chr&gt; | X &lt;lgl&gt; | X.1 &lt;lgl&gt; | X.2 &lt;chr&gt; |\n",
       "|---|---|---|---|---|---|---|---|---|---|---|---|---|---|---|\n",
       "| 1 | Acadia         |  49057.36 |  198.5 | 3303393 | Maine          |  44.35 |  -68.21 | 2/26/1919  | Covering most of Mount Desert Island and other coastal islands, Acadia features the tallest mountain on the Atlantic coast of the United States, granite peaks, ocean shoreline, woodlands, and lakes. There are freshwater, estuary, forest, and intertidal habitats.                                                                                                                                                                                               | acadia.jpg         | https://www.nps.gov/acad/index.htm | NA | NA | <!----> |\n",
       "| 2 | American Samoa |   8256.67 |   33.4 |   28892 | American Samoa | -14.25 | -170.68 | 10/31/1988 | The southernmost National Park is on three Samoan islands and protects coral reefs, rainforests, volcanic mountains, and white beaches. The area is also home to flying foxes, brown boobies, sea turtles, and 900 species of fish.                                                                                                                                                                                                                                  | american-samoa.jpg | https://www.nps.gov/npsa/index.htm | NA | NA | <!----> |\n",
       "| 3 | Arches         |  76678.98 |  310.3 | 1585718 | Utah           |  38.68 | -109.57 | 11/12/1971 | This site features more than 2,000 natural sandstone arches, with some of the most popular arches in the park being Delicate Arch, Landscape Arch and Double Arch. Millions of years of erosion have created these structures located in a desert climate where the arid ground has life-sustaining biological soil crusts and potholes that serve as natural water-collecting basins. Other geologic formations include stone pinnacles, fins, and balancing rocks. | arches.jpg         | https://www.nps.gov/arch/index.htm | NA | NA | <!----> |\n",
       "| 4 | Badlands       | 242755.94 |  982.4 |  996263 | South Dakota   |  43.75 | -102.50 | 11/10/1978 | The Badlands are a collection of buttes, pinnacles, spires, and mixed-grass prairies. The White River Badlands contain the largest assemblage of known late Eocene and Oligocene mammal fossils. The wildlife includes bison, bighorn sheep, black-footed ferrets, and prairie dogs.                                                                                                                                                                                 | badlands.jpg       | https://www.nps.gov/badl/index.htm | NA | NA | <!----> |\n",
       "| 5 | Big Bend       | 801163.21 | 3242.2 |  388290 | Texas          |  29.25 | -103.25 | 6/12/1944  | Named for the prominent bend in the Rio Grande along the U.S.–Mexico border, this park encompasses a large and remote part of the Chihuahuan Desert. Its main attraction is backcountry recreation in the arid Chisos Mountains and in canyons along the river. A wide variety of Cretaceous and Tertiary fossils as well as cultural artifacts of Native Americans also exist within its borders.                                                                   | big-bend.jpg       | https://www.nps.gov/bibe/index.htm | NA | NA | <!----> |\n",
       "\n"
      ],
      "text/plain": [
       "  title          acres     area_km_sq visitors state          lat    long   \n",
       "1 Acadia          49057.36  198.5     3303393  Maine           44.35  -68.21\n",
       "2 American Samoa   8256.67   33.4       28892  American Samoa -14.25 -170.68\n",
       "3 Arches          76678.98  310.3     1585718  Utah            38.68 -109.57\n",
       "4 Badlands       242755.94  982.4      996263  South Dakota    43.75 -102.50\n",
       "5 Big Bend       801163.21 3242.2      388290  Texas           29.25 -103.25\n",
       "  established\n",
       "1 2/26/1919  \n",
       "2 10/31/1988 \n",
       "3 11/12/1971 \n",
       "4 11/10/1978 \n",
       "5 6/12/1944  \n",
       "  description                                                                                                                                                                                                                                                                                                                                                                                                                                                         \n",
       "1 Covering most of Mount Desert Island and other coastal islands, Acadia features the tallest mountain on the Atlantic coast of the United States, granite peaks, ocean shoreline, woodlands, and lakes. There are freshwater, estuary, forest, and intertidal habitats.                                                                                                                                                                                              \n",
       "2 The southernmost National Park is on three Samoan islands and protects coral reefs, rainforests, volcanic mountains, and white beaches. The area is also home to flying foxes, brown boobies, sea turtles, and 900 species of fish.                                                                                                                                                                                                                                 \n",
       "3 This site features more than 2,000 natural sandstone arches, with some of the most popular arches in the park being Delicate Arch, Landscape Arch and Double Arch. Millions of years of erosion have created these structures located in a desert climate where the arid ground has life-sustaining biological soil crusts and potholes that serve as natural water-collecting basins. Other geologic formations include stone pinnacles, fins, and balancing rocks.\n",
       "4 The Badlands are a collection of buttes, pinnacles, spires, and mixed-grass prairies. The White River Badlands contain the largest assemblage of known late Eocene and Oligocene mammal fossils. The wildlife includes bison, bighorn sheep, black-footed ferrets, and prairie dogs.                                                                                                                                                                                \n",
       "5 Named for the prominent bend in the Rio Grande along the U.S.–Mexico border, this park encompasses a large and remote part of the Chihuahuan Desert. Its main attraction is backcountry recreation in the arid Chisos Mountains and in canyons along the river. A wide variety of Cretaceous and Tertiary fossils as well as cultural artifacts of Native Americans also exist within its borders.                                                                  \n",
       "  image.url          link                               X  X.1 X.2\n",
       "1 acadia.jpg         https://www.nps.gov/acad/index.htm NA NA     \n",
       "2 american-samoa.jpg https://www.nps.gov/npsa/index.htm NA NA     \n",
       "3 arches.jpg         https://www.nps.gov/arch/index.htm NA NA     \n",
       "4 badlands.jpg       https://www.nps.gov/badl/index.htm NA NA     \n",
       "5 big-bend.jpg       https://www.nps.gov/bibe/index.htm NA NA     "
      ]
     },
     "metadata": {},
     "output_type": "display_data"
    }
   ],
   "source": [
    "pers <- read.csv('https://faculty.ung.edu/rsinn/data/personality.csv')\n",
    "parks = read.csv('https://faculty.ung.edu/rsinn/data/nationalparks.csv')\n",
    "head(parks,5)"
   ]
  },
  {
   "cell_type": "markdown",
   "id": "governing-stroke",
   "metadata": {},
   "source": [
    "## Example 1: National Parks\n",
    "\n",
    "**Which Region of the U.S. has National Parks with Largest Number of Annual Visitors?**\n",
    "\n",
    "Let's use some creative subsetting for the **parks** data. We want three regions:\n",
    "\n",
    "1. East -- east of the Mississippi River ( -89.5 deg longitude)\n",
    "2. Northwest -- west of the Mississippi River and north of Denver (40 deg latitude)\n",
    "3. Southwest -- west of the Mississippi River and south of Denver (40 deg latitude)\n",
    "\n",
    "We show below the subsettig for the **Southwest** parks. Note that column 1 has the titles of the parks while column 5 lists the average annual visitors to that park.\n",
    "\n"
   ]
  },
  {
   "cell_type": "code",
   "execution_count": 41,
   "id": "substantial-assurance",
   "metadata": {},
   "outputs": [
    {
     "data": {
      "text/html": [
       "22"
      ],
      "text/latex": [
       "22"
      ],
      "text/markdown": [
       "22"
      ],
      "text/plain": [
       "[1] 22"
      ]
     },
     "metadata": {},
     "output_type": "display_data"
    },
    {
     "data": {
      "text/html": [
       "<style>\n",
       ".list-inline {list-style: none; margin:0; padding: 0}\n",
       ".list-inline>li {display: inline-block}\n",
       ".list-inline>li:not(:last-child)::after {content: \"\\00b7\"; padding: 0 .5ex}\n",
       "</style>\n",
       "<ol class=list-inline><li>'Badlands'</li><li>'Crater Lake'</li><li>'Denali'</li><li>'Gates of the Arctic'</li><li>'Glacier'</li><li>'Glacier Bay'</li><li>'Grand Teton'</li><li>'Katmai'</li><li>'Kenai Fjords'</li><li>'Kobuk Valley'</li><li>'Lake Clark'</li><li>'Lassen Volcanic'</li><li>'Mount Rainier'</li><li>'North Cascades'</li><li>'Olympic'</li><li>'Redwood'</li><li>'Rocky Mountain'</li><li>'Theodore Roosevelt'</li><li>'Voyageurs'</li><li>'Wind Cave'</li><li>'Wrangell–St. Elias'</li><li>'Yellowstone'</li></ol>\n"
      ],
      "text/latex": [
       "\\begin{enumerate*}\n",
       "\\item 'Badlands'\n",
       "\\item 'Crater Lake'\n",
       "\\item 'Denali'\n",
       "\\item 'Gates of the Arctic'\n",
       "\\item 'Glacier'\n",
       "\\item 'Glacier Bay'\n",
       "\\item 'Grand Teton'\n",
       "\\item 'Katmai'\n",
       "\\item 'Kenai Fjords'\n",
       "\\item 'Kobuk Valley'\n",
       "\\item 'Lake Clark'\n",
       "\\item 'Lassen Volcanic'\n",
       "\\item 'Mount Rainier'\n",
       "\\item 'North Cascades'\n",
       "\\item 'Olympic'\n",
       "\\item 'Redwood'\n",
       "\\item 'Rocky Mountain'\n",
       "\\item 'Theodore Roosevelt'\n",
       "\\item 'Voyageurs'\n",
       "\\item 'Wind Cave'\n",
       "\\item 'Wrangell–St. Elias'\n",
       "\\item 'Yellowstone'\n",
       "\\end{enumerate*}\n"
      ],
      "text/markdown": [
       "1. 'Badlands'\n",
       "2. 'Crater Lake'\n",
       "3. 'Denali'\n",
       "4. 'Gates of the Arctic'\n",
       "5. 'Glacier'\n",
       "6. 'Glacier Bay'\n",
       "7. 'Grand Teton'\n",
       "8. 'Katmai'\n",
       "9. 'Kenai Fjords'\n",
       "10. 'Kobuk Valley'\n",
       "11. 'Lake Clark'\n",
       "12. 'Lassen Volcanic'\n",
       "13. 'Mount Rainier'\n",
       "14. 'North Cascades'\n",
       "15. 'Olympic'\n",
       "16. 'Redwood'\n",
       "17. 'Rocky Mountain'\n",
       "18. 'Theodore Roosevelt'\n",
       "19. 'Voyageurs'\n",
       "20. 'Wind Cave'\n",
       "21. 'Wrangell–St. Elias'\n",
       "22. 'Yellowstone'\n",
       "\n",
       "\n"
      ],
      "text/plain": [
       " [1] \"Badlands\"            \"Crater Lake\"         \"Denali\"             \n",
       " [4] \"Gates of the Arctic\" \"Glacier\"             \"Glacier Bay\"        \n",
       " [7] \"Grand Teton\"         \"Katmai\"              \"Kenai Fjords\"       \n",
       "[10] \"Kobuk Valley\"        \"Lake Clark\"          \"Lassen Volcanic\"    \n",
       "[13] \"Mount Rainier\"       \"North Cascades\"      \"Olympic\"            \n",
       "[16] \"Redwood\"             \"Rocky Mountain\"      \"Theodore Roosevelt\" \n",
       "[19] \"Voyageurs\"           \"Wind Cave\"           \"Wrangell–St. Elias\" \n",
       "[22] \"Yellowstone\"        "
      ]
     },
     "metadata": {},
     "output_type": "display_data"
    },
    {
     "data": {
      "text/html": [
       "<style>\n",
       ".list-inline {list-style: none; margin:0; padding: 0}\n",
       ".list-inline>li {display: inline-block}\n",
       ".list-inline>li:not(:last-child)::after {content: \"\\00b7\"; padding: 0 .5ex}\n",
       "</style>\n",
       "<ol class=list-inline><li>996263</li><li>756344</li><li>587412</li><li>10047</li><li>2946681</li><li>520171</li><li>3270076</li><li>37818</li><li>346534</li><li>15500</li><li>21102</li><li>536068</li><li>1356913</li><li>28646</li><li>3390221</li><li>536297</li><li>4517585</li><li>753880</li><li>241912</li><li>617377</li><li>79047</li><li>4257177</li></ol>\n"
      ],
      "text/latex": [
       "\\begin{enumerate*}\n",
       "\\item 996263\n",
       "\\item 756344\n",
       "\\item 587412\n",
       "\\item 10047\n",
       "\\item 2946681\n",
       "\\item 520171\n",
       "\\item 3270076\n",
       "\\item 37818\n",
       "\\item 346534\n",
       "\\item 15500\n",
       "\\item 21102\n",
       "\\item 536068\n",
       "\\item 1356913\n",
       "\\item 28646\n",
       "\\item 3390221\n",
       "\\item 536297\n",
       "\\item 4517585\n",
       "\\item 753880\n",
       "\\item 241912\n",
       "\\item 617377\n",
       "\\item 79047\n",
       "\\item 4257177\n",
       "\\end{enumerate*}\n"
      ],
      "text/markdown": [
       "1. 996263\n",
       "2. 756344\n",
       "3. 587412\n",
       "4. 10047\n",
       "5. 2946681\n",
       "6. 520171\n",
       "7. 3270076\n",
       "8. 37818\n",
       "9. 346534\n",
       "10. 15500\n",
       "11. 21102\n",
       "12. 536068\n",
       "13. 1356913\n",
       "14. 28646\n",
       "15. 3390221\n",
       "16. 536297\n",
       "17. 4517585\n",
       "18. 753880\n",
       "19. 241912\n",
       "20. 617377\n",
       "21. 79047\n",
       "22. 4257177\n",
       "\n",
       "\n"
      ],
      "text/plain": [
       " [1]  996263  756344  587412   10047 2946681  520171 3270076   37818  346534\n",
       "[10]   15500   21102  536068 1356913   28646 3390221  536297 4517585  753880\n",
       "[19]  241912  617377   79047 4257177"
      ]
     },
     "metadata": {},
     "output_type": "display_data"
    }
   ],
   "source": [
    "southwest <- subset(parks, long <= -89.5 & lat > 40)\n",
    "length(southwest[,1])\n",
    "southwest[,1]\n",
    "sw <- southwest[,4]\n",
    "sw"
   ]
  },
  {
   "cell_type": "code",
   "execution_count": null,
   "id": "beautiful-globe",
   "metadata": {},
   "outputs": [],
   "source": []
  },
  {
   "cell_type": "code",
   "execution_count": null,
   "id": "sixth-manufacturer",
   "metadata": {},
   "outputs": [],
   "source": []
  },
  {
   "cell_type": "code",
   "execution_count": null,
   "id": "suitable-wilson",
   "metadata": {},
   "outputs": [],
   "source": []
  },
  {
   "cell_type": "code",
   "execution_count": null,
   "id": "emotional-catalyst",
   "metadata": {},
   "outputs": [],
   "source": []
  },
  {
   "cell_type": "code",
   "execution_count": null,
   "id": "stupid-chess",
   "metadata": {},
   "outputs": [],
   "source": []
  },
  {
   "cell_type": "code",
   "execution_count": null,
   "id": "successful-lambda",
   "metadata": {},
   "outputs": [],
   "source": []
  },
  {
   "cell_type": "code",
   "execution_count": null,
   "id": "extraordinary-persian",
   "metadata": {},
   "outputs": [],
   "source": []
  },
  {
   "cell_type": "code",
   "execution_count": null,
   "id": "posted-notification",
   "metadata": {},
   "outputs": [],
   "source": []
  },
  {
   "cell_type": "code",
   "execution_count": null,
   "id": "complex-private",
   "metadata": {},
   "outputs": [],
   "source": []
  },
  {
   "cell_type": "code",
   "execution_count": null,
   "id": "surprising-frame",
   "metadata": {},
   "outputs": [],
   "source": []
  },
  {
   "cell_type": "markdown",
   "id": "limiting-attention",
   "metadata": {},
   "source": [
    "## Example 2: Primary Humor Style\n",
    "\n",
    "**Does Humor Style have an Impact upon Self-Esteem?**\n",
    "\n",
    "In the personality data set, the grouping variable **PHS** provides the *Primary Humor Style* for that participant. The numeric variable **SE** gives us a measure of self-esteem for each participant."
   ]
  },
  {
   "cell_type": "code",
   "execution_count": null,
   "id": "fleet-consent",
   "metadata": {},
   "outputs": [],
   "source": []
  },
  {
   "cell_type": "code",
   "execution_count": null,
   "id": "dominican-marking",
   "metadata": {},
   "outputs": [],
   "source": []
  },
  {
   "cell_type": "code",
   "execution_count": null,
   "id": "every-stream",
   "metadata": {},
   "outputs": [],
   "source": []
  },
  {
   "cell_type": "code",
   "execution_count": null,
   "id": "improving-extraction",
   "metadata": {},
   "outputs": [],
   "source": []
  }
 ],
 "metadata": {
  "kernelspec": {
   "display_name": "R",
   "language": "R",
   "name": "ir"
  },
  "language_info": {
   "codemirror_mode": "r",
   "file_extension": ".r",
   "mimetype": "text/x-r-source",
   "name": "R",
   "pygments_lexer": "r",
   "version": "4.0.3"
  }
 },
 "nbformat": 4,
 "nbformat_minor": 5
}
