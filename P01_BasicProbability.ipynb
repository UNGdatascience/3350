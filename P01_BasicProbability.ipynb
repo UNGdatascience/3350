{
 "cells": [
  {
   "cell_type": "markdown",
   "id": "governmental-canyon",
   "metadata": {},
   "source": [
    "# Probability Basics and R\n",
    "\n",
    "Most the content herein will be review of basic probability facts learned in courses in high school and earlier in college. However, we will focus upon the **set theory** formulations of probability problem-solving which may be quite new to some students taking this course.\n",
    "\n",
    "## Link to Course Notes\n",
    "\n",
    "Additional content and explanations are available in our course notes:\n",
    "- [Basic Probability](https://straightdraw.github.io/probstat/P1.html)\n",
    "- [R Calculations and Factorials](https://straightdraw.github.io/probstat/P2a.html)\n",
    "\n",
    "## Probability Experiments\n",
    "A probability experiment is any event whose outcomes are perfectly \\textbf{random} and exactly predicted by probabilities. The probability space (or sample space) is the collection of all possible outcomes of the experiment. A simple random sample (SRS) is a collection of outcomes drawn at random from the probability space."
   ]
  },
  {
   "cell_type": "markdown",
   "id": "hourly-detective",
   "metadata": {},
   "source": [
    "### Events\n",
    "An event is a set of outcomes. If an event $A$ is a subset of event $S$, we write:\n",
    "$$A \\subset S$$\n",
    "\n",
    "Determining probabilities is all about counting the number of outcomes in event $A$ and in event $S$. To simplify our work, we will use absolute value notation to indicate the \\textbf{cardinality operator}. Thus, we write $|A|$ to indicate \"the number of elements (outcomes) in set (event) $A$.\" This leads us to the main formula in discrete probability theory:\n",
    "$$P(A)=\\frac{|A|}{|S|}$$"
   ]
  },
  {
   "cell_type": "markdown",
   "id": "aerial-medicine",
   "metadata": {},
   "source": [
    "### Set Complements\n",
    "\n",
    "It is often far easier to count the outcomes in the complement of event $A$. We write $P\\left(\\overline A\\right)$ to indicate the probability that event A **does not occur**. The probability of the set complement occuring is calculated as follows: \n",
    "\n",
    "$$P(\\overline A)=\\frac{|\\overline A|}{|S|}=\\frac{|S|-|A|}{|S|}=1-\\frac{|A|}{|S|}=1-P(A)$$"
   ]
  },
  {
   "cell_type": "markdown",
   "id": "welsh-genealogy",
   "metadata": {},
   "source": [
    "## Features of Probability Experiments\n",
    "\n",
    "1. **Repeated Draws and Repeated Trials.** Often we repeat a probability experiment multiple times. If so, we can have:\n",
    "- **Draws with replacement.** The sample space is unchanged from draw to draw as when a roulette wheel is spun multiple times.\n",
    "- **Draws without replacement.** The sample space changes from draw to draw as when drawing a five card poker hand.\n",
    "</br>\n",
    "2. **Repeated trials.** We rerun the same \\textbf{exact} experiment several times, for example, like when we flip a coin five times and ask, \"How many heads occurred out of the five coin flips?\""
   ]
  },
  {
   "cell_type": "markdown",
   "id": "ceramic-fiction",
   "metadata": {},
   "source": [
    "## Using R for Scientific Calculations\n",
    "\n",
    "We have a section of our textbook dedicated to this topic for easy reference: [R Calculations and Factorials](https://straightdraw.github.io/probstat/P2a.html). Please note that first function below is in native R but that we have to write functions to calculate the second two:\n",
    "\n",
    "1. Factorials\n",
    "2. Combinations \n",
    "3. Permutations"
   ]
  },
  {
   "cell_type": "code",
   "execution_count": 16,
   "id": "express-parish",
   "metadata": {},
   "outputs": [
    {
     "data": {
      "text/html": [
       "5040"
      ],
      "text/latex": [
       "5040"
      ],
      "text/markdown": [
       "5040"
      ],
      "text/plain": [
       "[1] 5040"
      ]
     },
     "metadata": {},
     "output_type": "display_data"
    }
   ],
   "source": [
    "factorial(7)"
   ]
  },
  {
   "cell_type": "markdown",
   "id": "international-precipitation",
   "metadata": {},
   "source": [
    "### Code to Create Functions: Combinations and Permutations\n",
    "\n",
    "Note that the **choose()** function calculates combinations, see we need a formula for permutations:"
   ]
  },
  {
   "cell_type": "code",
   "execution_count": 1,
   "id": "strategic-patent",
   "metadata": {},
   "outputs": [],
   "source": [
    "perm <- function(n, k) {\n",
    "    return(choose(n,k) * factorial(k))}"
   ]
  },
  {
   "cell_type": "markdown",
   "id": "educational-tracy",
   "metadata": {},
   "source": [
    "### Testing our Functions"
   ]
  },
  {
   "cell_type": "code",
   "execution_count": 3,
   "id": "obvious-wrestling",
   "metadata": {},
   "outputs": [
    {
     "data": {
      "text/html": [
       "35"
      ],
      "text/latex": [
       "35"
      ],
      "text/markdown": [
       "35"
      ],
      "text/plain": [
       "[1] 35"
      ]
     },
     "metadata": {},
     "output_type": "display_data"
    },
    {
     "data": {
      "text/html": [
       "210"
      ],
      "text/latex": [
       "210"
      ],
      "text/markdown": [
       "210"
      ],
      "text/plain": [
       "[1] 210"
      ]
     },
     "metadata": {},
     "output_type": "display_data"
    }
   ],
   "source": [
    "choose(7,3)\n",
    "\n",
    "perm(7,3)"
   ]
  },
  {
   "cell_type": "markdown",
   "id": "existing-romantic",
   "metadata": {},
   "source": [
    "## Efficient Counting\n",
    "What operations are in the probability formula?\n",
    "\n",
    "$$P(A) = \\frac{|A|}{|S|}$$\n",
    "\n",
    "The focus is on set cardinalities. We are just counting things! Some examples of **efficient counting** techniques we will utilize:\n",
    "1. **Powers.** If we flip a coin 3 times, how many possible outcomes are in the probability space? \n",
    "\n",
    "2. **Permutations.** If we arrange 8 books on a shelf, how many possibilities (outcomes) are in the probability space? \n",
    "3. **Combinations.** Choose a five card poker hand at random from a standard deck of $52$ playing cards. How many different poker hands are there?"
   ]
  },
  {
   "cell_type": "markdown",
   "id": "animal-india",
   "metadata": {},
   "source": [
    "### Powers\n",
    "Flipping a fair coin 3 times, how many total outcomes are possible?\n",
    "$$2^3=8$$"
   ]
  },
  {
   "cell_type": "code",
   "execution_count": null,
   "id": "corresponding-ocean",
   "metadata": {},
   "outputs": [],
   "source": []
  },
  {
   "cell_type": "markdown",
   "id": "harmful-development",
   "metadata": {},
   "source": [
    "### Permutations\n",
    "How many arrangements are possible for 8 books on a shelf?\n",
    "$$8!=8\\times7\\times6\\times\\dots\\times 2\\times1=40320$$"
   ]
  },
  {
   "cell_type": "code",
   "execution_count": null,
   "id": "presidential-lancaster",
   "metadata": {},
   "outputs": [],
   "source": []
  },
  {
   "cell_type": "markdown",
   "id": "composite-gilbert",
   "metadata": {},
   "source": [
    "### Combinations\n",
    "How many different poker hands are there?\n",
    "$$\\binom{52}{5}$$"
   ]
  },
  {
   "cell_type": "code",
   "execution_count": null,
   "id": "received-convergence",
   "metadata": {},
   "outputs": [],
   "source": []
  },
  {
   "cell_type": "markdown",
   "id": "insured-strengthening",
   "metadata": {},
   "source": [
    "## Practice Problems\n",
    "\n",
    "Please take a moment to try these probability questions. They demonstrate various points we've raised so far.\n",
    "\n",
    "1. How many distinct arrangements of the letters CAT are possible?"
   ]
  },
  {
   "cell_type": "code",
   "execution_count": null,
   "id": "induced-anniversary",
   "metadata": {},
   "outputs": [],
   "source": []
  },
  {
   "cell_type": "code",
   "execution_count": null,
   "id": "recent-desperate",
   "metadata": {},
   "outputs": [],
   "source": []
  },
  {
   "cell_type": "markdown",
   "id": "afraid-efficiency",
   "metadata": {},
   "source": [
    "2. If a coin is flipped twice, what is the probability of getting two tails in a row?"
   ]
  },
  {
   "cell_type": "code",
   "execution_count": null,
   "id": "atomic-amazon",
   "metadata": {},
   "outputs": [],
   "source": []
  },
  {
   "cell_type": "code",
   "execution_count": null,
   "id": "solar-beverage",
   "metadata": {},
   "outputs": [],
   "source": []
  },
  {
   "cell_type": "markdown",
   "id": "certified-contamination",
   "metadata": {},
   "source": [
    "3. If we roll two standard dice, what is the probability of rolling a five? A five or less?"
   ]
  },
  {
   "cell_type": "code",
   "execution_count": null,
   "id": "lonely-melissa",
   "metadata": {},
   "outputs": [],
   "source": []
  },
  {
   "cell_type": "code",
   "execution_count": null,
   "id": "confused-doctor",
   "metadata": {},
   "outputs": [],
   "source": []
  },
  {
   "cell_type": "markdown",
   "id": "stuck-circus",
   "metadata": {},
   "source": [
    "4. If we draw a card at random from a standard deck of cards, what is the probability that we choose a heart?"
   ]
  },
  {
   "cell_type": "code",
   "execution_count": null,
   "id": "contrary-reading",
   "metadata": {},
   "outputs": [],
   "source": []
  },
  {
   "cell_type": "code",
   "execution_count": null,
   "id": "covered-board",
   "metadata": {},
   "outputs": [],
   "source": []
  },
  {
   "cell_type": "markdown",
   "id": "similar-husband",
   "metadata": {},
   "source": [
    "5. How many three digit numbers are there that are strictly less than $600$?"
   ]
  },
  {
   "cell_type": "code",
   "execution_count": null,
   "id": "fitted-warrior",
   "metadata": {},
   "outputs": [],
   "source": []
  },
  {
   "cell_type": "code",
   "execution_count": null,
   "id": "engaging-license",
   "metadata": {},
   "outputs": [],
   "source": []
  },
  {
   "cell_type": "markdown",
   "id": "standard-triple",
   "metadata": {},
   "source": [
    "6. In Base 6, how many different (Base 10) three digit numbers are there?"
   ]
  },
  {
   "cell_type": "code",
   "execution_count": null,
   "id": "complex-serve",
   "metadata": {},
   "outputs": [],
   "source": []
  },
  {
   "cell_type": "code",
   "execution_count": null,
   "id": "understood-prescription",
   "metadata": {},
   "outputs": [],
   "source": []
  },
  {
   "cell_type": "markdown",
   "id": "behavioral-klein",
   "metadata": {},
   "source": [
    "7. How many license plats are possible if there are three letters followed by four numbers, and any letter or number can repeat?"
   ]
  },
  {
   "cell_type": "code",
   "execution_count": null,
   "id": "russian-leather",
   "metadata": {},
   "outputs": [],
   "source": []
  },
  {
   "cell_type": "code",
   "execution_count": null,
   "id": "changing-fancy",
   "metadata": {},
   "outputs": [],
   "source": []
  },
  {
   "cell_type": "markdown",
   "id": "elder-constitutional",
   "metadata": {},
   "source": [
    "8. If we draw two cards at random from a standard deck of cards, what is the probability that both are hearts?"
   ]
  },
  {
   "cell_type": "code",
   "execution_count": null,
   "id": "internal-explanation",
   "metadata": {},
   "outputs": [],
   "source": []
  },
  {
   "cell_type": "code",
   "execution_count": null,
   "id": "becoming-raleigh",
   "metadata": {},
   "outputs": [],
   "source": []
  },
  {
   "cell_type": "markdown",
   "id": "entertaining-survival",
   "metadata": {},
   "source": [
    "9. If we randomly select the elements of a $2\\times 2$ matrix from the set $\\{0, 1\\}$, what is the probability that we have a row or column of all zeros?"
   ]
  },
  {
   "cell_type": "code",
   "execution_count": null,
   "id": "buried-creator",
   "metadata": {},
   "outputs": [],
   "source": []
  },
  {
   "cell_type": "code",
   "execution_count": null,
   "id": "serial-selling",
   "metadata": {},
   "outputs": [],
   "source": []
  }
 ],
 "metadata": {
  "kernelspec": {
   "display_name": "R",
   "language": "R",
   "name": "ir"
  },
  "language_info": {
   "codemirror_mode": "r",
   "file_extension": ".r",
   "mimetype": "text/x-r-source",
   "name": "R",
   "pygments_lexer": "r",
   "version": "3.6.1"
  }
 },
 "nbformat": 4,
 "nbformat_minor": 5
}
