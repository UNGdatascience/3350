{
 "cells": [
  {
   "cell_type": "markdown",
   "id": "89ad6237-3a15-4dc8-8035-697839622ad5",
   "metadata": {},
   "source": [
    "# Discrete Probability Functions\n",
    "\n",
    "We have four scenarios which are quite common in probability problem-solving. \n",
    "1. Binomial\n",
    "2. Geometric\n",
    "3. Hypergeometric\n",
    "4. Negative Binomial\n",
    "\n",
    "These functions happend to be discrete rather than continuous functions. We need to be able to write functions for these distributions in closed form, e.g. in a way that they appear to be just like the functions we are used to seeing in algebra and calculus.\n",
    "\n",
    "We will give the definition version first, then work some examples."
   ]
  },
  {
   "cell_type": "markdown",
   "id": "2413d959-e516-431b-a7fb-b84de5d89a54",
   "metadata": {},
   "source": [
    "## Binomial Distribution\n",
    "\n",
    "Given the following values:\n",
    "- $n$ is the number of total trials,\n",
    "- $k$ is the number of successes,\n",
    "- $p$ is the probability of success, and\n",
    "- $q=1-p$ indicates the probability of failure.\n",
    "\n",
    "The probability of $k$ successes in $n$ trials is given by:\n",
    "\n",
    "$$P(k)=\\binom{n}{k}p^kq^{10-k}$$"
   ]
  },
  {
   "cell_type": "markdown",
   "id": "e7271702-f4f8-4aa6-9033-73aa08486d3f",
   "metadata": {},
   "source": [
    "## Geometric Distribution\n",
    "\n",
    "Given the following values:\n",
    "- $n$ is the index of the first success,\n",
    "- $p$ is the probability of success, and\n",
    "- $q=1-p$ indicates the probability of failure.\n",
    "\n",
    "The probability of the first success occuring on the $n^{th}$ trial is given by:\n",
    "\n",
    "$$P(n) = (q)^{n-1}p$$"
   ]
  },
  {
   "cell_type": "markdown",
   "id": "2dea19f2-c7a1-4dfa-bfe0-68aea09e317c",
   "metadata": {},
   "source": [
    "## Hypergeometric Distribution\n",
    "\n",
    "Given the following values:\n",
    "- $N$ total objects\n",
    "- $K$ objects which count as successes\n",
    "- $n$ total draws attempted\n",
    "- $k$ successful draws\n",
    "\n",
    "The probability that $k$ successful draws out of $n$ total draws:\n",
    "\n",
    "$$P(k) = \\frac{\\binom{K}{k}\\binom{N-K}{n-k}}{\\binom{N}{n}}$$"
   ]
  },
  {
   "cell_type": "markdown",
   "id": "f8435695-612f-4203-b6c3-f8b41818a381",
   "metadata": {},
   "source": [
    "## Negative Binomial Distribution \n",
    "\n",
    "Given the following values:\n",
    "- $n$ indicates the number of trials.\n",
    "- $k$ indicates the number of successes needed for overall success.\n",
    "- $p$ indicates the probability of success.\n",
    "- $q=1-p$ indicates the probability of failure.\n",
    "- $X$ represents the number of the last well drilled to achieve overall success.\n",
    "\n",
    "The probability of achieving overall success on trial number $x$ is as follows:\n",
    "\n",
    "$$P(X=x) = \\binom{n-1}{k-1}p^kq^{n-k}$$"
   ]
  },
  {
   "cell_type": "markdown",
   "id": "abb75808-bcbd-40a9-8fed-587b839ef5c6",
   "metadata": {},
   "source": [
    "## Examples\n",
    "\n",
    "We will need our permutations and combinations formulae:"
   ]
  },
  {
   "cell_type": "code",
   "execution_count": 7,
   "id": "ec2c2d1b-84bc-46cb-a17b-d6376b393c5e",
   "metadata": {},
   "outputs": [],
   "source": [
    "combin <- function(n, k) {\n",
    "    return(factorial(n) / ( factorial(k)*factorial(n-k) )) }\n",
    "perm <- function(n, k) {\n",
    "    return(combin(n,k) * factorial(k))}"
   ]
  },
  {
   "cell_type": "markdown",
   "id": "5e09a8bc-e417-42dd-b740-8d2060daaa35",
   "metadata": {},
   "source": [
    "\n",
    "\n",
    "### Example: Pocket Pairs in Texas Holdem\n",
    "\n",
    "In Texas Holdem, players are dealt 2 cards face down to begin. When those 2 cards have the same value as in JJ, the player is said to have a **pocket pair.** What is the probability that Hero sitting in at a new poker table sees his first pocket pair on the fifth hand dealt to him?"
   ]
  },
  {
   "cell_type": "code",
   "execution_count": null,
   "id": "50b581dd-d301-43ac-a266-5d20198af62e",
   "metadata": {},
   "outputs": [],
   "source": []
  },
  {
   "cell_type": "code",
   "execution_count": null,
   "id": "faa557ad-4b1a-4278-ae15-08b3b44543b2",
   "metadata": {},
   "outputs": [],
   "source": []
  },
  {
   "cell_type": "code",
   "execution_count": null,
   "id": "839c6054-3651-4994-94ac-17b96b6109d1",
   "metadata": {},
   "outputs": [],
   "source": []
  },
  {
   "cell_type": "code",
   "execution_count": null,
   "id": "ac5b475c-b56f-4341-a438-d6e7d5bc1734",
   "metadata": {},
   "outputs": [],
   "source": []
  },
  {
   "cell_type": "code",
   "execution_count": null,
   "id": "242e62f3-56ab-4ddf-b288-3d5685a0a05e",
   "metadata": {},
   "outputs": [],
   "source": []
  },
  {
   "cell_type": "markdown",
   "id": "91a084f5-ddba-4c3f-8422-f36a15451255",
   "metadata": {},
   "source": [
    "### Example: Oil Wells\n",
    "\n",
    "An energy company has leased an undeveloped oil field where they estimate a 35\\% chance of success for drilled wells striking oil. They have enough funds to drill 7 oil wells, but to turn a profit they need at least 3 of those wells to strike oil. What is the probability that their 3rd success occurs on their 7th drilled well?"
   ]
  },
  {
   "cell_type": "code",
   "execution_count": null,
   "id": "2787d420-2e09-4c6a-b7d3-696bed61939d",
   "metadata": {},
   "outputs": [],
   "source": []
  },
  {
   "cell_type": "code",
   "execution_count": null,
   "id": "b4e5533e-2e8b-400d-898e-e7189b25d457",
   "metadata": {},
   "outputs": [],
   "source": []
  },
  {
   "cell_type": "code",
   "execution_count": null,
   "id": "87aeaa06-8240-475e-9394-d5a795f7325e",
   "metadata": {},
   "outputs": [],
   "source": []
  },
  {
   "cell_type": "code",
   "execution_count": null,
   "id": "0b86cbc0-81cd-47f6-b04c-b799be2f079e",
   "metadata": {},
   "outputs": [],
   "source": []
  },
  {
   "cell_type": "code",
   "execution_count": null,
   "id": "f92958c5-e011-4cc3-8466-c0e8a85a81fd",
   "metadata": {},
   "outputs": [],
   "source": []
  },
  {
   "cell_type": "markdown",
   "id": "646873e7-8bb1-44b6-ad54-9a8cf8324c13",
   "metadata": {},
   "source": [
    "### Example 3: Card Game Spades\n",
    "\n",
    "Cards from the spade suit are valuable in the card game Spades. When played with 4 players, the entire deck is dealt out so that each player receives 13 cards. What is the probability that a player is dealt 7 spades?"
   ]
  },
  {
   "cell_type": "code",
   "execution_count": null,
   "id": "c4e01a9b-44a4-4301-86de-c50444ec15e5",
   "metadata": {},
   "outputs": [],
   "source": []
  },
  {
   "cell_type": "code",
   "execution_count": null,
   "id": "130efbed-cef4-4342-8fe2-0dee8302a0a8",
   "metadata": {},
   "outputs": [],
   "source": []
  },
  {
   "cell_type": "code",
   "execution_count": null,
   "id": "072070c8-ed0e-4a51-87c0-91b7941ca3ab",
   "metadata": {},
   "outputs": [],
   "source": []
  },
  {
   "cell_type": "code",
   "execution_count": null,
   "id": "0ce606b8-0747-4eeb-bc52-c4dc33ce1b33",
   "metadata": {},
   "outputs": [],
   "source": []
  },
  {
   "cell_type": "code",
   "execution_count": null,
   "id": "b6c428a3-74e1-4084-8158-b32b99089f9f",
   "metadata": {},
   "outputs": [],
   "source": []
  },
  {
   "cell_type": "markdown",
   "id": "e0672101-a8ac-48bd-ac41-ca15ca45d4dd",
   "metadata": {},
   "source": [
    "## Example 3b: Dealt 7 or More Spades\n",
    "\n",
    "Cards from the spade suit are valuable in the card game Spades. When played with 4 players, the entire deck is dealt out so that each player receives 13 cards. What is the probability that a player is dealt 7 or more spades?"
   ]
  },
  {
   "cell_type": "code",
   "execution_count": null,
   "id": "9ded1244-d515-45a6-9f52-b4bee68f88b3",
   "metadata": {},
   "outputs": [],
   "source": []
  },
  {
   "cell_type": "code",
   "execution_count": 8,
   "id": "23d9f1c6-e190-483d-aad8-3c193200beb1",
   "metadata": {},
   "outputs": [
    {
     "data": {
      "text/html": [
       "0.051644298374758"
      ],
      "text/latex": [
       "0.051644298374758"
      ],
      "text/markdown": [
       "0.051644298374758"
      ],
      "text/plain": [
       "[1] 0.0516443"
      ]
     },
     "metadata": {},
     "output_type": "display_data"
    }
   ],
   "source": [
    "tab <- c()            ## Empty vector to store all the terms \n",
    "lo = 6                ## LEAST Number of successes\n",
    "hi = 13               ## MOST Number of successes\n",
    "k = 1                 ## Indexing variable for tab vector\n",
    "\n",
    "for (t in lo:hi){\n",
    "    tab[k] <- combin(13,t) * combin(39,13-t) / combin(52,13)      # Calculate the term and save in the vector \"tab\"\n",
    "    k <- k + 1\n",
    "}\n",
    "sum(tab)"
   ]
  },
  {
   "cell_type": "code",
   "execution_count": null,
   "id": "6c32ead2-2ec0-427e-9ee1-f21d55c76f20",
   "metadata": {},
   "outputs": [],
   "source": []
  },
  {
   "cell_type": "code",
   "execution_count": null,
   "id": "8ae5c1cc-8d5e-407e-99dd-02d181c28fbd",
   "metadata": {},
   "outputs": [],
   "source": []
  },
  {
   "cell_type": "code",
   "execution_count": null,
   "id": "d3be22d3-b03e-4632-8850-5e2b4acdbea7",
   "metadata": {},
   "outputs": [],
   "source": []
  }
 ],
 "metadata": {
  "kernelspec": {
   "display_name": "R",
   "language": "R",
   "name": "ir"
  },
  "language_info": {
   "codemirror_mode": "r",
   "file_extension": ".r",
   "mimetype": "text/x-r-source",
   "name": "R",
   "pygments_lexer": "r",
   "version": "3.6.1"
  }
 },
 "nbformat": 4,
 "nbformat_minor": 5
}
