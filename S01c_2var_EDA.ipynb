{
 "cells": [
  {
   "cell_type": "markdown",
   "id": "4eac8046-766c-4a70-8663-15d6f552d5c9",
   "metadata": {},
   "source": [
    "# S01c: EDA with 2 Variables\n",
    "\n",
    "Not all data sets have a single numeric variable. We have threee possible configurations of the 2-variable setting:\n",
    "- 2 category variables\n",
    "- 2 numeric variables\n",
    "- 1 numeric variable with 1 category variable\n",
    "\n",
    "Below, we read in the **personality** dataframe and perform subsetting so that we have data to work out examples.\n",
    "\n",
    "Also, we need to use **statistical formulas**, so [here is a link](https://straightdraw.github.io/probstat/A1.html) to the page in the appendix which explains statistical formulas in detail."
   ]
  },
  {
   "cell_type": "code",
   "execution_count": 4,
   "id": "fce77fd3-97d1-4d3e-ac9d-7c4de282264b",
   "metadata": {},
   "outputs": [],
   "source": [
    "pers <- read.csv('https://faculty.ung.edu/rsinn/data/personality.csv')\n",
    "\n",
    "date <- pers[ , c('AccDate','Sex')]\n",
    "opt <- pers[ , c('Play', 'Opt')]\n",
    "perf <- pers[ , c('Perf','SitClass')]"
   ]
  },
  {
   "cell_type": "markdown",
   "id": "ffec2301-6dde-4ed3-b86f-6277f7688663",
   "metadata": {},
   "source": [
    "## Example 1: Two Category Variables\n",
    "\n",
    "The AccDate question is as follows: “At a time in your life when you are not romantically involved with anyone, a person asks you out. You believe this person has a wonderful personality, but you do not find this person physically attractive. Do you accept the date?” The responses are Yes/No.\n",
    "\n",
    "Research Question: Do Y/N responses to AccDate question vary based upon biological sex?\n",
    "\n",
    "</br><center><span style = \"color:blue; font-weight:bold\">With 2 category variables we wish to perform a cross-tabulation with xtabs, and we can visualize the scenario with a mosaic plot.</span></center>"
   ]
  },
  {
   "cell_type": "code",
   "execution_count": 5,
   "id": "58c605e5-f024-40cf-8879-936c8c7227d8",
   "metadata": {},
   "outputs": [],
   "source": [
    "## Perform a cross-tabulation."
   ]
  },
  {
   "cell_type": "code",
   "execution_count": null,
   "id": "576d6de1-46e2-4339-91be-8c2de9fa4934",
   "metadata": {},
   "outputs": [],
   "source": []
  },
  {
   "cell_type": "code",
   "execution_count": 6,
   "id": "8ad03347-3668-474a-a7cf-ce7e5d27dfae",
   "metadata": {},
   "outputs": [],
   "source": [
    "## Produce a mosaic plot."
   ]
  },
  {
   "cell_type": "code",
   "execution_count": null,
   "id": "6e4788c3-0812-46ae-aa0f-a82c46a56e74",
   "metadata": {},
   "outputs": [],
   "source": []
  },
  {
   "cell_type": "markdown",
   "id": "6affee07-0b20-40ef-9423-0397cafda63f",
   "metadata": {},
   "source": [
    "## Example 2: Two Numeric Variables\n",
    "\n",
    "The variable adult playfulness indicates adults who have child-like qualities and who often excel at relating to children. These individuals may enjoy splashing through puddles, whistling, dancing or dressing up (or dressing down) just for fun. You can read more about adult playfulness in Psychology Today.\n",
    "\n",
    "**Research Question.** Does the playfulness quality correspond to Optimism?\n",
    "\n",
    "We will use the **opt** subset from our personality data frame to construct a linear model to find out.\n",
    "\n",
    "</br><center><span style = \"color:blue; font-weight:bold\">With 2 numeric variables we wish to create a scatter and superimpose a line of best fit.</span></center>"
   ]
  },
  {
   "cell_type": "code",
   "execution_count": null,
   "id": "ff579cdc-80f4-4d7d-a5d5-8c1920d183bf",
   "metadata": {},
   "outputs": [],
   "source": []
  },
  {
   "cell_type": "code",
   "execution_count": null,
   "id": "bc61ba8d-f8dc-4f4f-9afd-63ea4caac308",
   "metadata": {},
   "outputs": [],
   "source": []
  },
  {
   "cell_type": "code",
   "execution_count": null,
   "id": "45cd24d6-ad8a-4c49-9c5b-4b4b4c24d683",
   "metadata": {},
   "outputs": [],
   "source": []
  },
  {
   "cell_type": "code",
   "execution_count": null,
   "id": "812e2c73-07cf-441a-bc6f-a55f2a6efd73",
   "metadata": {},
   "outputs": [],
   "source": []
  },
  {
   "cell_type": "code",
   "execution_count": null,
   "id": "009ca530-c66d-4427-bb94-3a0089a5b11b",
   "metadata": {},
   "outputs": [],
   "source": []
  },
  {
   "cell_type": "markdown",
   "id": "5aac3438-1fdd-4768-9b1f-1f149c2498a7",
   "metadata": {},
   "source": [
    "## Example 3: Perfectionism vs. Preferred Seat in Class\n",
    "\n",
    "The SitClass variable provides a response the question: “You arrive in your classroom when almost no one is present, so almost every seat in the class is open. Do you prefer to sit in front, middle or back? Since **perfectionism** is a numeric variable, we see that we now have 1 numeric and 1 category or grouping variable. Thus, we would like to group our visualization based upon the 3 levels of the **SitClass** variable.\n",
    "\n",
    "**Research Question.** Does class seating preference vary based upon a student’s level of perfectionism?\n",
    "\n",
    "</br><center><span style = \"color:blue; font-weight:bold\">With a numeric variable and a grouping variable, we wish to create side-by-side bloxplots to compare and contrast them.</span></center>"
   ]
  },
  {
   "cell_type": "code",
   "execution_count": null,
   "id": "4002d743-a1cd-4ce9-a3fa-a912c602919d",
   "metadata": {},
   "outputs": [],
   "source": []
  },
  {
   "cell_type": "code",
   "execution_count": null,
   "id": "ed099e01-87bf-4b88-83a9-4321d013c407",
   "metadata": {},
   "outputs": [],
   "source": []
  },
  {
   "cell_type": "code",
   "execution_count": null,
   "id": "a9081bc4-c6b0-4daf-b6f1-42e63a0ddaea",
   "metadata": {},
   "outputs": [],
   "source": []
  },
  {
   "cell_type": "code",
   "execution_count": null,
   "id": "6ca8ebb5-a0d9-4153-957f-9cdf6c92f185",
   "metadata": {},
   "outputs": [],
   "source": []
  },
  {
   "cell_type": "code",
   "execution_count": null,
   "id": "5de4600e-2898-4a0a-83fe-93e6d49c6e87",
   "metadata": {},
   "outputs": [],
   "source": []
  }
 ],
 "metadata": {
  "kernelspec": {
   "display_name": "R",
   "language": "R",
   "name": "ir"
  },
  "language_info": {
   "codemirror_mode": "r",
   "file_extension": ".r",
   "mimetype": "text/x-r-source",
   "name": "R",
   "pygments_lexer": "r",
   "version": "3.6.1"
  }
 },
 "nbformat": 4,
 "nbformat_minor": 5
}
