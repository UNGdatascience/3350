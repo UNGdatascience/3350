{
 "cells": [
  {
   "cell_type": "markdown",
   "id": "96f1694c-fa5a-45b5-ae19-cdd10432f13a",
   "metadata": {},
   "source": [
    "# P03: Independence and Inclusion-Exclusion, Part 1"
   ]
  },
  {
   "cell_type": "markdown",
   "id": "d0ca0485-85f8-4021-ab77-ad759db46923",
   "metadata": {},
   "source": [
    "## Compound Events: Unions and Intersections\n",
    "\n",
    "We begin with a deck of cards which has many subsets like suits or values and is perfect for demonstrating how we work with unions and intersections of event sets."
   ]
  },
  {
   "cell_type": "markdown",
   "id": "550eec4e-23de-446c-8160-e34e28ab72c9",
   "metadata": {},
   "source": [
    "### The Standard Deck of Cards\n",
    "Let the set $D$ be a standard deck of playing cards. Poker players use a $2$-character code to identify all the cards:\n",
    "- $7h$ indicates the seven of hearts\n",
    "- $Ks$] indicates the king of spades\n",
    "- $3c$] indicates the three of clubs\n",
    "- $Td$] indicates the ten$^*$ of diamonds\n",
    "\n",
    "$^*$\\textit{ We use $T$, not $10$, so that each card is uniquely identified by two characters.}\n",
    "    \\end{footnotesize}\n",
    "\n",
    "Here is the full deck of 52 cards in algebraic notation:\n",
    "$$\\begin{array}{ccccccccccccc}\n",
    "     As&Ks&Qs&Js&Ts&9s&8s&7s&6s&5s&4s&3s&2s  \\\\\n",
    "     \\textcolor{red}{Ah}&\\textcolor{red}{Kh}&\\textcolor{red}{Qh}&\\textcolor{red}{Jh}&\\textcolor{red}{Th}&\\textcolor{red}{9h}&\\textcolor{red}{8h}&\\textcolor{red}{7h}&\\textcolor{red}{6h}&\\textcolor{red}{5h}&\\textcolor{red}{4h}&\\textcolor{red}{3h}&\\textcolor{red}{2h}  \\\\\n",
    "     \\textcolor{red}{Ad}&\\textcolor{red}{Kd}&\\textcolor{red}{Qd}&\\textcolor{red}{Jd}&\\textcolor{red}{Td}&\\textcolor{red}{9d}&\\textcolor{red}{8d}&\\textcolor{red}{7d}&\\textcolor{red}{6d}&\\textcolor{red}{5d}&\\textcolor{red}{4d}&\\textcolor{red}{3d}&\\textcolor{red}{2d}  \\\\\n",
    "     Ac&Kc&Qc&Jc&Tc&9c&8c&7c&6c&5c&4c&3c&2c\n",
    "\\end{array}$$"
   ]
  },
  {
   "cell_type": "markdown",
   "id": "a7550a18-063c-4872-96ac-87e6c96dcd30",
   "metadata": {},
   "source": [
    "### Subsets of a Deck of Cards\n",
    "Some subsets we will use in this course:\n",
    "**Suits**\n",
    "- $S$ indicates the set of all spades ($\\spadesuit$)\n",
    "- $H$ indicates the set of all hearts ($\\textcolor{red}{\\heartsuit}$)\n",
    "- $D$ indicates the set of all diamonds ($\\textcolor{red}{\\diamondsuit}$)\n",
    "- $C$ indicates the set of all clubs ($\\clubsuit$)\n",
    "\n",
    "**Values**\n",
    "- $K$ indicates the set of all kings. Same for aces ($\\textcolor{blue}{A}$), queens ($\\textcolor{blue}{Q}$), jacks ($\\textcolor{blue}{J}$) and tens ($\\textcolor{blue}{T}$)\n",
    "- $2$ indicates the set of all $2$'s; same for all \\textbf{values}: $\\textcolor{blue}{3},\\textcolor{blue}{4},\\textcolor{blue}{5},\\cdots,\\textcolor{blue}{9}$\n",
    "\n",
    "**Other Sets**\n",
    "- $R$ indicates the set of all red cards, e.g.$$R=H\\cup D$$\n",
    "- indicates the s$B$] Set of all black cards, e.g.\\\\ $$B=S\\cup C$$\n",
    "- $E$ indicates the set of all evens, e.g. $$E=2\\cup 4\\cup 6\\cup 8\\cup T\\cup Q$$\n",
    "- $O$ indicates the set of all odds, e.g. $$O=3\\cup 5\\cup 7\\cup 9\\cup J\\cup K$$"
   ]
  },
  {
   "cell_type": "markdown",
   "id": "939347ea-a0df-4c90-9936-07064f78c1da",
   "metadata": {},
   "source": [
    "## Examples with Sets and Logic\n",
    "What is the probability of drawing a card at random from a standard deck of playing cards and...\n",
    "\n",
    "1. Not drawing a heart?$$P\\left(\\overline H\\right)=1-P(H)$$"
   ]
  },
  {
   "cell_type": "code",
   "execution_count": null,
   "id": "345c6f0d-9765-4292-afd8-dc8fbf07322b",
   "metadata": {},
   "outputs": [],
   "source": []
  },
  {
   "cell_type": "code",
   "execution_count": null,
   "id": "d9f778e0-3b5a-4e46-b3f3-35c32c19c77f",
   "metadata": {},
   "outputs": [],
   "source": []
  },
  {
   "cell_type": "markdown",
   "id": "8d18e37f-f378-4ae1-bbd4-ef1041b076ea",
   "metadata": {},
   "source": [
    "2. Drawing a non-king red card?$$P(R\\cap \\overline K)=P(R - K)$$"
   ]
  },
  {
   "cell_type": "code",
   "execution_count": null,
   "id": "a1c4204c-ac06-4cb4-a470-ce1afd617307",
   "metadata": {},
   "outputs": [],
   "source": []
  },
  {
   "cell_type": "code",
   "execution_count": null,
   "id": "c38548fa-ce33-4a74-b8b5-2fb7e32b119e",
   "metadata": {},
   "outputs": [],
   "source": []
  },
  {
   "cell_type": "markdown",
   "id": "e0a85dc7-c8f4-4cbc-bfb3-7e0bc1716f89",
   "metadata": {},
   "source": [
    "3. Drawing a red king?$$P(R\\cap K)$$"
   ]
  },
  {
   "cell_type": "code",
   "execution_count": null,
   "id": "51325b61-2ff1-425b-83af-9a27965b561b",
   "metadata": {},
   "outputs": [],
   "source": []
  },
  {
   "cell_type": "code",
   "execution_count": null,
   "id": "3bf67117-cc53-4ffd-9f21-e7fd15a3f939",
   "metadata": {},
   "outputs": [],
   "source": []
  },
  {
   "cell_type": "markdown",
   "id": "4f6c50cd-bc3c-4fbf-8772-6def615cc171",
   "metadata": {},
   "source": [
    "4. Not drawing an even or a diamond$$P(\\overline{E\\cup D})=1-P(E\\cup D)$$"
   ]
  },
  {
   "cell_type": "code",
   "execution_count": null,
   "id": "4e977c1b-f42b-4fa1-bbca-4fba20094dbe",
   "metadata": {},
   "outputs": [],
   "source": []
  },
  {
   "cell_type": "code",
   "execution_count": null,
   "id": "4c31ec02-ab5a-4e69-ada6-78a41d357882",
   "metadata": {},
   "outputs": [],
   "source": []
  },
  {
   "cell_type": "markdown",
   "id": "e83e7245-f126-4698-bad9-125905751799",
   "metadata": {},
   "source": [
    "## Principal of Inclusion-Exclusion\n",
    "\n",
    "While unions usually indicating adding elements from 2 sets together, we have to think carefully in probability problem-solving about the issue of double (or even triple) counting. The correct formula for 2 sets is as follows:\n",
    "$$P(A\\cup B) = P(A) + P(B) - P(A\\cap B)$$\n",
    "\n",
    "If we have 3 sets, the correct formula will be as follows:\n",
    "$$P(A\\cup B) =P(A)+P(B)+P(C)-P(A\\cup B)-P(B\\cup C)-P(A\\cup C)+ P(A\\cap B\\cap C)$$\n",
    "\n",
    "The pattern continues as we add sets."
   ]
  },
  {
   "cell_type": "markdown",
   "id": "90846639-bd4e-4963-8f8d-c98fbe06f455",
   "metadata": {},
   "source": [
    "5. Example 4 above leads to the question\n",
    "$$\\left|E\\cup D\\right|$$"
   ]
  },
  {
   "cell_type": "code",
   "execution_count": null,
   "id": "a7add68d-9ee2-4ddb-8d36-12ce8be4ec9a",
   "metadata": {},
   "outputs": [],
   "source": []
  },
  {
   "cell_type": "code",
   "execution_count": null,
   "id": "f52048b0-a9a1-4f38-ba45-53812e326394",
   "metadata": {},
   "outputs": [],
   "source": []
  },
  {
   "cell_type": "markdown",
   "id": "2d6e62ce-9c40-4bbf-8b74-7b264a6d9801",
   "metadata": {},
   "source": [
    "6. Suppose we have the consecutive integers starting at 1 and ending at 20:\n",
    "$$1,2,3,\\cdots,19,20$$\n",
    "Let the sets:\n",
    "- $W$ indicate all numbers divisible by 2.\n",
    "- $T$ indicate all numbers divisible by 3.\n",
    "- $F$ incidate all numbers divisible by 5.\n",
    "\n",
    "Find the cardinality of the set:\n",
    "$$W\\cup T\\cup F$$"
   ]
  },
  {
   "cell_type": "markdown",
   "id": "1ac16d7b-eb93-43f6-8f1f-f069ba697788",
   "metadata": {},
   "source": [
    "First, note that $|W| = \\left|\\{2,4,6,8,10,12,14,16,18,20\\}\\right|=10$ as half the integers are even.\n",
    "\n",
    "Next, note that $|T| = \\left|\\{3,6,9,12,15,18\\}\\right| = 6$.\n",
    "\n",
    "Finally, $|F| = \\left|\\{5,10,15,20\\}\\right|=4$.\n",
    "\n",
    "$$|W\\cup T\\cup F| = |W|+|T|+|F|-|W\\cap T|-|T\\cap F|-|W\\cap F|+|W\\cap T\\cap F|$$\n",
    "which becomes:"
   ]
  },
  {
   "cell_type": "code",
   "execution_count": 1,
   "id": "7bcb3676-d20d-4004-bca8-663ca236b174",
   "metadata": {},
   "outputs": [],
   "source": [
    "## |E union O union T|\n"
   ]
  },
  {
   "cell_type": "code",
   "execution_count": null,
   "id": "ee9396e9-632d-4e41-81c9-9d7b4992dd2c",
   "metadata": {},
   "outputs": [],
   "source": []
  }
 ],
 "metadata": {
  "kernelspec": {
   "display_name": "R",
   "language": "R",
   "name": "ir"
  },
  "language_info": {
   "codemirror_mode": "r",
   "file_extension": ".r",
   "mimetype": "text/x-r-source",
   "name": "R",
   "pygments_lexer": "r",
   "version": "3.6.1"
  }
 },
 "nbformat": 4,
 "nbformat_minor": 5
}
