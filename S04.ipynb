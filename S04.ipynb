{
 "cells": [
  {
   "cell_type": "markdown",
   "id": "looking-approach",
   "metadata": {},
   "source": [
    "# Hypothesis Testing with the $t$-test"
   ]
  },
  {
   "cell_type": "markdown",
   "id": "subtle-november",
   "metadata": {},
   "source": [
    "## The Lady Tasting Tea\n",
    "\n",
    "Our story of statistical hypothesis testing begins with Ron Fischer and Muriel Bristol who were colleagues at a British research station right after World War I. The story begins with a meeting where Ron offered Muriel a cup tea. The results were surprising and changed the course of scientific research forever.\n",
    "\n",
    "[The Wikipedia article has details.](https://en.wikipedia.org/wiki/Lady_tasting_tea)"
   ]
  },
  {
   "cell_type": "markdown",
   "id": "another-compilation",
   "metadata": {},
   "source": [
    "## Examples\n",
    "\n",
    "Let's first load some data which serve for examples of each type of $t$-test."
   ]
  },
  {
   "cell_type": "code",
   "execution_count": 1,
   "id": "opponent-collar",
   "metadata": {},
   "outputs": [],
   "source": [
    "p <-read.csv('https://faculty.ung.edu/rsinn/data/personality.csv')\n",
    "births <-read.csv('https://faculty.ung.edu/rsinn/data/baby.csv')"
   ]
  },
  {
   "cell_type": "code",
   "execution_count": 2,
   "id": "honest-ivory",
   "metadata": {},
   "outputs": [
    {
     "data": {
      "text/html": [
       "<table>\n",
       "<caption>A data.frame: 5 × 36</caption>\n",
       "<thead>\n",
       "\t<tr><th></th><th scope=col>Age</th><th scope=col>Yr</th><th scope=col>Sex</th><th scope=col>G21</th><th scope=col>Corps</th><th scope=col>Res</th><th scope=col>Greek</th><th scope=col>VarsAth</th><th scope=col>Honor</th><th scope=col>GPA</th><th scope=col>⋯</th><th scope=col>Perf</th><th scope=col>OCD</th><th scope=col>Play</th><th scope=col>Extro</th><th scope=col>Narc</th><th scope=col>HSAF</th><th scope=col>HSSE</th><th scope=col>HSAG</th><th scope=col>HSSD</th><th scope=col>PHS</th></tr>\n",
       "\t<tr><th></th><th scope=col>&lt;int&gt;</th><th scope=col>&lt;int&gt;</th><th scope=col>&lt;chr&gt;</th><th scope=col>&lt;chr&gt;</th><th scope=col>&lt;chr&gt;</th><th scope=col>&lt;int&gt;</th><th scope=col>&lt;chr&gt;</th><th scope=col>&lt;chr&gt;</th><th scope=col>&lt;chr&gt;</th><th scope=col>&lt;dbl&gt;</th><th scope=col>⋯</th><th scope=col>&lt;int&gt;</th><th scope=col>&lt;int&gt;</th><th scope=col>&lt;int&gt;</th><th scope=col>&lt;int&gt;</th><th scope=col>&lt;int&gt;</th><th scope=col>&lt;int&gt;</th><th scope=col>&lt;int&gt;</th><th scope=col>&lt;int&gt;</th><th scope=col>&lt;int&gt;</th><th scope=col>&lt;chr&gt;</th></tr>\n",
       "</thead>\n",
       "<tbody>\n",
       "\t<tr><th scope=row>1</th><td>21</td><td>2</td><td>M</td><td>Y</td><td>Y</td><td>1</td><td>N</td><td>N</td><td>N</td><td>3.23</td><td>⋯</td><td>105</td><td>10</td><td>142</td><td> 8</td><td>11</td><td>41</td><td>40</td><td>26</td><td>27</td><td>SE</td></tr>\n",
       "\t<tr><th scope=row>2</th><td>20</td><td>3</td><td>F</td><td>N</td><td>N</td><td>2</td><td>Y</td><td>N</td><td>Y</td><td>3.95</td><td>⋯</td><td>105</td><td> 3</td><td>172</td><td>16</td><td>11</td><td>46</td><td>52</td><td>26</td><td>33</td><td>SE</td></tr>\n",
       "\t<tr><th scope=row>3</th><td>22</td><td>3</td><td>M</td><td>Y</td><td>N</td><td>2</td><td>N</td><td>N</td><td>N</td><td>3.06</td><td>⋯</td><td> 73</td><td> 1</td><td>134</td><td>15</td><td>11</td><td>48</td><td>42</td><td>44</td><td>29</td><td>AG</td></tr>\n",
       "\t<tr><th scope=row>4</th><td>27</td><td>3</td><td>F</td><td>Y</td><td>N</td><td>3</td><td>N</td><td>N</td><td>N</td><td>2.84</td><td>⋯</td><td> 90</td><td> 9</td><td>160</td><td>16</td><td>10</td><td>51</td><td>51</td><td>23</td><td>19</td><td>SE</td></tr>\n",
       "\t<tr><th scope=row>5</th><td>24</td><td>3</td><td>M</td><td>Y</td><td>N</td><td>2</td><td>N</td><td>N</td><td>N</td><td>2.39</td><td>⋯</td><td> 95</td><td> 5</td><td>166</td><td>14</td><td>10</td><td>56</td><td>46</td><td>27</td><td>20</td><td>AF</td></tr>\n",
       "</tbody>\n",
       "</table>\n"
      ],
      "text/latex": [
       "A data.frame: 5 × 36\n",
       "\\begin{tabular}{r|lllllllllllllllllllll}\n",
       "  & Age & Yr & Sex & G21 & Corps & Res & Greek & VarsAth & Honor & GPA & ⋯ & Perf & OCD & Play & Extro & Narc & HSAF & HSSE & HSAG & HSSD & PHS\\\\\n",
       "  & <int> & <int> & <chr> & <chr> & <chr> & <int> & <chr> & <chr> & <chr> & <dbl> & ⋯ & <int> & <int> & <int> & <int> & <int> & <int> & <int> & <int> & <int> & <chr>\\\\\n",
       "\\hline\n",
       "\t1 & 21 & 2 & M & Y & Y & 1 & N & N & N & 3.23 & ⋯ & 105 & 10 & 142 &  8 & 11 & 41 & 40 & 26 & 27 & SE\\\\\n",
       "\t2 & 20 & 3 & F & N & N & 2 & Y & N & Y & 3.95 & ⋯ & 105 &  3 & 172 & 16 & 11 & 46 & 52 & 26 & 33 & SE\\\\\n",
       "\t3 & 22 & 3 & M & Y & N & 2 & N & N & N & 3.06 & ⋯ &  73 &  1 & 134 & 15 & 11 & 48 & 42 & 44 & 29 & AG\\\\\n",
       "\t4 & 27 & 3 & F & Y & N & 3 & N & N & N & 2.84 & ⋯ &  90 &  9 & 160 & 16 & 10 & 51 & 51 & 23 & 19 & SE\\\\\n",
       "\t5 & 24 & 3 & M & Y & N & 2 & N & N & N & 2.39 & ⋯ &  95 &  5 & 166 & 14 & 10 & 56 & 46 & 27 & 20 & AF\\\\\n",
       "\\end{tabular}\n"
      ],
      "text/markdown": [
       "\n",
       "A data.frame: 5 × 36\n",
       "\n",
       "| <!--/--> | Age &lt;int&gt; | Yr &lt;int&gt; | Sex &lt;chr&gt; | G21 &lt;chr&gt; | Corps &lt;chr&gt; | Res &lt;int&gt; | Greek &lt;chr&gt; | VarsAth &lt;chr&gt; | Honor &lt;chr&gt; | GPA &lt;dbl&gt; | ⋯ ⋯ | Perf &lt;int&gt; | OCD &lt;int&gt; | Play &lt;int&gt; | Extro &lt;int&gt; | Narc &lt;int&gt; | HSAF &lt;int&gt; | HSSE &lt;int&gt; | HSAG &lt;int&gt; | HSSD &lt;int&gt; | PHS &lt;chr&gt; |\n",
       "|---|---|---|---|---|---|---|---|---|---|---|---|---|---|---|---|---|---|---|---|---|---|\n",
       "| 1 | 21 | 2 | M | Y | Y | 1 | N | N | N | 3.23 | ⋯ | 105 | 10 | 142 |  8 | 11 | 41 | 40 | 26 | 27 | SE |\n",
       "| 2 | 20 | 3 | F | N | N | 2 | Y | N | Y | 3.95 | ⋯ | 105 |  3 | 172 | 16 | 11 | 46 | 52 | 26 | 33 | SE |\n",
       "| 3 | 22 | 3 | M | Y | N | 2 | N | N | N | 3.06 | ⋯ |  73 |  1 | 134 | 15 | 11 | 48 | 42 | 44 | 29 | AG |\n",
       "| 4 | 27 | 3 | F | Y | N | 3 | N | N | N | 2.84 | ⋯ |  90 |  9 | 160 | 16 | 10 | 51 | 51 | 23 | 19 | SE |\n",
       "| 5 | 24 | 3 | M | Y | N | 2 | N | N | N | 2.39 | ⋯ |  95 |  5 | 166 | 14 | 10 | 56 | 46 | 27 | 20 | AF |\n",
       "\n"
      ],
      "text/plain": [
       "  Age Yr Sex G21 Corps Res Greek VarsAth Honor GPA  ⋯ Perf OCD Play Extro Narc\n",
       "1 21  2  M   Y   Y     1   N     N       N     3.23 ⋯ 105  10  142   8    11  \n",
       "2 20  3  F   N   N     2   Y     N       Y     3.95 ⋯ 105   3  172  16    11  \n",
       "3 22  3  M   Y   N     2   N     N       N     3.06 ⋯  73   1  134  15    11  \n",
       "4 27  3  F   Y   N     3   N     N       N     2.84 ⋯  90   9  160  16    10  \n",
       "5 24  3  M   Y   N     2   N     N       N     2.39 ⋯  95   5  166  14    10  \n",
       "  HSAF HSSE HSAG HSSD PHS\n",
       "1 41   40   26   27   SE \n",
       "2 46   52   26   33   SE \n",
       "3 48   42   44   29   AG \n",
       "4 51   51   23   19   SE \n",
       "5 56   46   27   20   AF "
      ]
     },
     "metadata": {},
     "output_type": "display_data"
    },
    {
     "data": {
      "text/html": [
       "<table>\n",
       "<caption>A data.frame: 5 × 6</caption>\n",
       "<thead>\n",
       "\t<tr><th></th><th scope=col>Birth.Weight</th><th scope=col>Gestational.Days</th><th scope=col>Maternal.Age</th><th scope=col>Maternal.Height</th><th scope=col>Maternal.Pregnancy.Weight</th><th scope=col>Maternal.Smoker</th></tr>\n",
       "\t<tr><th></th><th scope=col>&lt;int&gt;</th><th scope=col>&lt;int&gt;</th><th scope=col>&lt;int&gt;</th><th scope=col>&lt;int&gt;</th><th scope=col>&lt;int&gt;</th><th scope=col>&lt;chr&gt;</th></tr>\n",
       "</thead>\n",
       "<tbody>\n",
       "\t<tr><th scope=row>1</th><td>120</td><td>284</td><td>27</td><td>62</td><td>100</td><td>False</td></tr>\n",
       "\t<tr><th scope=row>2</th><td>113</td><td>282</td><td>33</td><td>64</td><td>135</td><td>False</td></tr>\n",
       "\t<tr><th scope=row>3</th><td>128</td><td>279</td><td>28</td><td>64</td><td>115</td><td>True </td></tr>\n",
       "\t<tr><th scope=row>4</th><td>108</td><td>282</td><td>23</td><td>67</td><td>125</td><td>True </td></tr>\n",
       "\t<tr><th scope=row>5</th><td>136</td><td>286</td><td>25</td><td>62</td><td> 93</td><td>False</td></tr>\n",
       "</tbody>\n",
       "</table>\n"
      ],
      "text/latex": [
       "A data.frame: 5 × 6\n",
       "\\begin{tabular}{r|llllll}\n",
       "  & Birth.Weight & Gestational.Days & Maternal.Age & Maternal.Height & Maternal.Pregnancy.Weight & Maternal.Smoker\\\\\n",
       "  & <int> & <int> & <int> & <int> & <int> & <chr>\\\\\n",
       "\\hline\n",
       "\t1 & 120 & 284 & 27 & 62 & 100 & False\\\\\n",
       "\t2 & 113 & 282 & 33 & 64 & 135 & False\\\\\n",
       "\t3 & 128 & 279 & 28 & 64 & 115 & True \\\\\n",
       "\t4 & 108 & 282 & 23 & 67 & 125 & True \\\\\n",
       "\t5 & 136 & 286 & 25 & 62 &  93 & False\\\\\n",
       "\\end{tabular}\n"
      ],
      "text/markdown": [
       "\n",
       "A data.frame: 5 × 6\n",
       "\n",
       "| <!--/--> | Birth.Weight &lt;int&gt; | Gestational.Days &lt;int&gt; | Maternal.Age &lt;int&gt; | Maternal.Height &lt;int&gt; | Maternal.Pregnancy.Weight &lt;int&gt; | Maternal.Smoker &lt;chr&gt; |\n",
       "|---|---|---|---|---|---|---|\n",
       "| 1 | 120 | 284 | 27 | 62 | 100 | False |\n",
       "| 2 | 113 | 282 | 33 | 64 | 135 | False |\n",
       "| 3 | 128 | 279 | 28 | 64 | 115 | True  |\n",
       "| 4 | 108 | 282 | 23 | 67 | 125 | True  |\n",
       "| 5 | 136 | 286 | 25 | 62 |  93 | False |\n",
       "\n"
      ],
      "text/plain": [
       "  Birth.Weight Gestational.Days Maternal.Age Maternal.Height\n",
       "1 120          284              27           62             \n",
       "2 113          282              33           64             \n",
       "3 128          279              28           64             \n",
       "4 108          282              23           67             \n",
       "5 136          286              25           62             \n",
       "  Maternal.Pregnancy.Weight Maternal.Smoker\n",
       "1 100                       False          \n",
       "2 135                       False          \n",
       "3 115                       True           \n",
       "4 125                       True           \n",
       "5  93                       False          "
      ]
     },
     "metadata": {},
     "output_type": "display_data"
    }
   ],
   "source": [
    "head(p,5)\n",
    "head(births,5)"
   ]
  },
  {
   "cell_type": "markdown",
   "id": "european-context",
   "metadata": {},
   "source": [
    "### Example 1\n",
    "\n",
    "**Research Question.** Do UNG students, on average, get less than 7 hours of sleep per night?\n",
    "\n",
    "**Hypothesis.** With correct statistical notation, we have:\n",
    "\n",
    "$$\\begin{align*}H_0 &: \\mu = 7 \\\\ H_a &: \\mu < 7\\end{align*}$$"
   ]
  },
  {
   "cell_type": "code",
   "execution_count": null,
   "id": "tight-march",
   "metadata": {},
   "outputs": [],
   "source": []
  },
  {
   "cell_type": "code",
   "execution_count": null,
   "id": "industrial-custom",
   "metadata": {},
   "outputs": [],
   "source": []
  },
  {
   "cell_type": "code",
   "execution_count": null,
   "id": "italic-marker",
   "metadata": {},
   "outputs": [],
   "source": []
  },
  {
   "cell_type": "code",
   "execution_count": null,
   "id": "detailed-representation",
   "metadata": {},
   "outputs": [],
   "source": []
  },
  {
   "cell_type": "code",
   "execution_count": null,
   "id": "positive-restaurant",
   "metadata": {},
   "outputs": [],
   "source": []
  },
  {
   "cell_type": "markdown",
   "id": "excessive-proportion",
   "metadata": {},
   "source": [
    "## Example 2a\n",
    "\n",
    "**Research Question.** In the births table, do babies born to non-smoking moms weigh more than babies born to smoking moms?\n",
    "\n",
    "**Hypothesis.** The setup here is as follows:\n",
    "\n",
    "$$\\begin{align}H_0 : \\mu_\\text{smoke} &= \\mu_\\text{non} \\\\H_a :  \\mu_\\text{smoke} &> \\mu_\\text{non}\\end{align}$$"
   ]
  },
  {
   "cell_type": "code",
   "execution_count": null,
   "id": "floppy-charlotte",
   "metadata": {},
   "outputs": [],
   "source": []
  },
  {
   "cell_type": "code",
   "execution_count": null,
   "id": "quarterly-evidence",
   "metadata": {},
   "outputs": [],
   "source": []
  },
  {
   "cell_type": "code",
   "execution_count": null,
   "id": "nuclear-drove",
   "metadata": {},
   "outputs": [],
   "source": []
  },
  {
   "cell_type": "code",
   "execution_count": null,
   "id": "intensive-rates",
   "metadata": {},
   "outputs": [],
   "source": []
  },
  {
   "cell_type": "code",
   "execution_count": null,
   "id": "little-agency",
   "metadata": {},
   "outputs": [],
   "source": []
  },
  {
   "cell_type": "markdown",
   "id": "honest-polymer",
   "metadata": {},
   "source": [
    "### Example 2b\n",
    "\n",
    "**Research Question.** At UNG, do senior students drink more caffeine per day than freshmen?\n",
    "\n",
    "**Hypothesis.** The setup here is as follows:\n",
    "\n",
    "$$\\begin{align}H_0 : \\mu_{sr} &= \\mu_{fr} \\\\H_a :  \\mu_{sr} &> \\mu_{fr}\\end{align}$$"
   ]
  },
  {
   "cell_type": "code",
   "execution_count": null,
   "id": "focused-sending",
   "metadata": {},
   "outputs": [],
   "source": []
  },
  {
   "cell_type": "code",
   "execution_count": null,
   "id": "palestinian-surrey",
   "metadata": {},
   "outputs": [],
   "source": []
  },
  {
   "cell_type": "code",
   "execution_count": null,
   "id": "hawaiian-ordering",
   "metadata": {},
   "outputs": [],
   "source": []
  },
  {
   "cell_type": "code",
   "execution_count": null,
   "id": "lovely-advancement",
   "metadata": {},
   "outputs": [],
   "source": []
  },
  {
   "cell_type": "code",
   "execution_count": null,
   "id": "growing-pension",
   "metadata": {},
   "outputs": [],
   "source": []
  },
  {
   "cell_type": "markdown",
   "id": "confused-suffering",
   "metadata": {},
   "source": [
    "### Example 3\n",
    "\n",
    "**Research Question.** Are students' stress levels higher during midterm week than they are during the 2nd week of classes?\n",
    "\n",
    "**Hypothesis.** The setup here is as follows:\n",
    "\n",
    "$$\\begin{align*}H_0 &: \\mu_{g} = 0 \\\\H_a &: \\mu_{g} > 0\\end{align*}$$\n",
    "\n"
   ]
  },
  {
   "cell_type": "code",
   "execution_count": null,
   "id": "native-saver",
   "metadata": {},
   "outputs": [],
   "source": []
  },
  {
   "cell_type": "code",
   "execution_count": null,
   "id": "large-courtesy",
   "metadata": {},
   "outputs": [],
   "source": []
  },
  {
   "cell_type": "code",
   "execution_count": null,
   "id": "packed-scott",
   "metadata": {},
   "outputs": [],
   "source": []
  },
  {
   "cell_type": "code",
   "execution_count": null,
   "id": "dedicated-optics",
   "metadata": {},
   "outputs": [],
   "source": []
  },
  {
   "cell_type": "code",
   "execution_count": null,
   "id": "protecting-danish",
   "metadata": {},
   "outputs": [],
   "source": []
  }
 ],
 "metadata": {
  "kernelspec": {
   "display_name": "R",
   "language": "R",
   "name": "ir"
  },
  "language_info": {
   "codemirror_mode": "r",
   "file_extension": ".r",
   "mimetype": "text/x-r-source",
   "name": "R",
   "pygments_lexer": "r",
   "version": "3.6.1"
  }
 },
 "nbformat": 4,
 "nbformat_minor": 5
}
