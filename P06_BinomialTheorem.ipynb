{
 "cells": [
  {
   "cell_type": "markdown",
   "id": "5d81c61b-b01f-4574-92f3-46394f68a01d",
   "metadata": {},
   "source": [
    "# Binomial Theorem\n",
    "\n",
    "If we learned about Pascal's Triangle in high school, often we were exploring its classic use of expanding a binomial like:\n",
    "\n",
    "$$(x+y)^5$$"
   ]
  },
  {
   "cell_type": "markdown",
   "id": "91993af4-769b-4598-a1fe-c82734a206d3",
   "metadata": {},
   "source": [
    "## Pascal's Triangle and Algebra\n",
    "\n",
    "We were taught to sketch a few rows of Pascal's Triangle using that nifty pattern:\n",
    "$$\\begin{array}{ccccccccccccc}&&&&&&1&&&&&&\\\\&&&&&1&&1&&&&&\\\\&&&&1&&2&&1&&&&\\\\&&&1&&3&&3&&1&&&\\\\&&1&&4&&6&&4&&1&&\\\\&1&&5&&10&&10&&5&&1&\\\\1&&6&&15&&20&&15&&6&&1\n",
    "\\end{array}$$\n",
    "\n",
    "Knowing the pattern of the powers of $x$ and $y$ had to ascend or descend in a standard way, we could write:"
   ]
  },
  {
   "cell_type": "markdown",
   "id": "28c0e33b-1bec-494c-9025-96a68e0bf15e",
   "metadata": {},
   "source": [
    "$$(x+y)^5=x^5+5x^4 y+10x^3y^2+10x^2y^3+5xy^4+6y^5$$\n",
    "\n",
    "Pascal's Triangle gave us the coefficients we needed to know so that we could avoid doing all the multiplications and simplifications required."
   ]
  },
  {
   "cell_type": "markdown",
   "id": "c871e22f-f013-4483-88f9-aea6dbb7b68c",
   "metadata": {},
   "source": [
    "## Pascal's Triangle and Probability\n",
    "\n",
    "How do we handle repeated draws **with replacement**? The answer is connected to Pascal's Triangle and binomial expansions. Consider coin flips.\n",
    "\n",
    "### Example: 3 Coin Flips\n",
    "\n",
    "What is the probability of flipping a coin three times and getting exactly $2$ \"heads\"?\n",
    "\n",
    "For these coin flips, let $H$ be the event of heads with event $T$ being tails. Let's create an ordered list covering all possibilities where we place in **bold** the arrangements that include exactly 2 results of heads."
   ]
  },
  {
   "cell_type": "markdown",
   "id": "2fc7fe28-5ba3-4837-83f9-6a54bdb505eb",
   "metadata": {},
   "source": [
    "$$\\begin{array}{c}\n",
    "\\text{HHH}\\\\\\textbf{HHT}\\\\\\textbf{HTH}\\\\\\text{HTT}\\\\\n",
    "\\textbf{THH}\\\\\\text{THT}\\\\\\text{TTH}\\\\\\text{TTT}\\\\\n",
    "\\end{array}$$"
   ]
  },
  {
   "cell_type": "markdown",
   "id": "8c64faa3-0d50-4e77-a10e-1a0139a59666",
   "metadata": {},
   "source": [
    "We see from our ordered list that the probability of 2 heads in three fair coin flips is given by:\n",
    "$$P(HH)=\\frac{|HH|}{|S|}=\\frac{3}{8}$$\n",
    "\n",
    "Let's compare all the probabilities the third row of Pascal's Triangle: \n",
    "$$\\begin{align*}\n",
    "P(HHH)&=\\frac{1}{8}\\\\\n",
    "P(HH)&=\\frac{3}{8}\\\\\n",
    "P(H)&=\\frac{3}{8}\\\\\n",
    "P(\\text{0 }H)&=\\frac{1}{8}\\\\\n",
    "\\end{align*}$$"
   ]
  },
  {
   "cell_type": "markdown",
   "id": "bd2ac452-f676-4652-8563-028ac4a8ca11",
   "metadata": {},
   "source": [
    "Writing out the first 4 rows lf Pascal's Triangle, we see the following:"
   ]
  },
  {
   "cell_type": "markdown",
   "id": "e9acbb3c-b092-4aad-9ef3-52081202bc8b",
   "metadata": {},
   "source": [
    "$$\\begin{array}{ccccccccc}&&&&1&&&&\\\\&&&1&&1&&&\\\\&&1&&2&&1&&\\\\&1&&3&&3&&1&\\\\1&&4&&6&&4&&1\n",
    "\\end{array}$$"
   ]
  },
  {
   "cell_type": "markdown",
   "id": "29c294ac-8c09-4044-87fb-978008354e34",
   "metadata": {},
   "source": [
    "Comparing the third row of Pascal's Triangle to the probabilities we calculated above, we find the following intriguing patterns:\n",
    "- The third row entires are the numerators for the probabilities shown above.\n",
    "- The sum of the third row entries is 8, the denominator of those fractions.\n",
    "\n",
    "These observations turn out to be true for every row of Pascal's Triangle and for every probability question where Pascal's Triangle applies.\n",
    "\n",
    "### Pascal's Triangle and Binomial Coefficients\n",
    "\n",
    "Let's write out Pascal's Triangle in a way that lends itself to probability problem solving:"
   ]
  },
  {
   "cell_type": "markdown",
   "id": "0f35e4db-d904-4b4b-9c6b-9a486d0f0296",
   "metadata": {},
   "source": [
    "$$\\begin{array}{ccccccccc}&&&&1&&&&\\\\&&&\\binom{1}{0}&&\\binom{1}{1}&&&\\\\&&\\binom{2}{0}&&\\binom{2}{1}&&\\binom{2}{2}&&\\\\&\\binom{3}{0}&&\\binom{3}{1}&&\\binom{3}{2}&&\\binom{3}{3}&\\\\\\binom{4}{0}&&\\binom{4}{1}&&\\binom{4}{2}&&\\binom{4}{3}&&\\binom{4}{4}\n",
    "\\end{array}$$"
   ]
  },
  {
   "cell_type": "markdown",
   "id": "85d2c8e8-dccf-445c-b46c-3a1c797fd212",
   "metadata": {},
   "source": [
    "The rows now relate to Bournouli trials. The 4th rows corresponds to a trial repeated 4 times. The lower portion of the coefficient relates to the number of successes observed during those trials."
   ]
  },
  {
   "cell_type": "markdown",
   "id": "b7b266f0-46bb-4477-bbf9-f78a70c13343",
   "metadata": {},
   "source": [
    "## Bournouli Trials\n",
    "\n",
    "A Bournouli trial is a repeated probability experiment with a fixed chance of success (e.g. coin flips). We can use the **Binomial Theorem** as a problem-solving tool for Bournouli trials. Suppose we conduct $n$ trials with $0\\leq x\\leq 1$ the probability of success and $y=1-x$ the probability of failure:\n",
    "\n",
    "$$\\begin{align*}\n",
    "(x+y)^n&=\\binom{n}{0}x^0y^n+\\binom{n}{1}x^1y^{n-1}+\\cdots+\\binom{n}{n}x^ny^0\\\\&=\\sum_{k=0}^n \\binom{n}{k}x^k y^{n-k}\n",
    "\\end{align*}$$"
   ]
  },
  {
   "cell_type": "markdown",
   "id": "b55e667e-ee01-4a98-b4d7-716a22691866",
   "metadata": {},
   "source": [
    "Note the following:\n",
    "- The sum of the terms from $0$ to $n$ is equal to $1$ since $(x+y)^n=(x+1-x)^n=1^n=1$\n",
    "- We can set the probability of success $x$ as needed provided $0\\leq x\\leq 1$.\n",
    "- Both R and a TI-84 graphing calculator can evaluate and sum the terms."
   ]
  },
  {
   "cell_type": "markdown",
   "id": "8602922e-1d4c-406a-af98-e558ae755e15",
   "metadata": {},
   "source": [
    "### Example: 3 Coin Flips Again\n",
    "\n",
    "This time, let's use the Binomial Theorem to solve the question: Given 3 fair coin flips, what is the probability that 2 of them are heads?\n",
    "\n",
    "We have:\n",
    "\n",
    "$$\\begin{align}n&=3\\\\k&=2\\\\x&=\\frac{1}{2}\\end{align}$$\n",
    "\n",
    "where\n",
    "- $n$ is the number of trials,\n",
    "- $k$ is the number of successes, and\n",
    "- $x$ is the probability of success.\n",
    "\n",
    "Also note that we have $y$, the probability of failure, by $y=1-x$. Thus, we can solve the problem immediately:\n",
    "\n",
    "$$P(k=2)=\\binom{3}{2}\\left(\\frac{1}{2}\\right)^2\\left(\\frac{1}{2}\\right)$$"
   ]
  },
  {
   "cell_type": "markdown",
   "id": "b8a8c631-68a1-4ee6-b4bb-1442de034787",
   "metadata": {},
   "source": [
    "To calculate this, it would helpful to have the combinations and permutations formulae from our [course notes](file:///C:/Users/robbs/Documents/Conda/books/probstat/_build/html/P2a.html#wrapping-up)."
   ]
  },
  {
   "cell_type": "code",
   "execution_count": 1,
   "id": "4c91be58-2add-4ae6-8524-c62b2ceaf34b",
   "metadata": {},
   "outputs": [],
   "source": [
    "combin <- function(n, k) {\n",
    "    return(factorial(n) / ( factorial(k)*factorial(n-k) )) }\n",
    "perm <- function(n, k) {\n",
    "    return(combin(n,k) * factorial(k))}"
   ]
  },
  {
   "cell_type": "code",
   "execution_count": 2,
   "id": "e7b4360b-10b6-4c0f-8bbd-934da4b9fc30",
   "metadata": {},
   "outputs": [
    {
     "data": {
      "text/html": [
       "0.375"
      ],
      "text/latex": [
       "0.375"
      ],
      "text/markdown": [
       "0.375"
      ],
      "text/plain": [
       "[1] 0.375"
      ]
     },
     "metadata": {},
     "output_type": "display_data"
    }
   ],
   "source": [
    "combin(3,2) * 0.5^2 * 0.5"
   ]
  },
  {
   "cell_type": "markdown",
   "id": "2f5c986a-3e56-4c25-b853-87583eb76ed1",
   "metadata": {},
   "source": [
    "### Example: More Coin Flips\n",
    "\n",
    "What if we change the question as follows:\n",
    "\n",
    "**If a fair coin is flipped 10 times, what is the probability that we see 6 or more heads?**"
   ]
  },
  {
   "cell_type": "markdown",
   "id": "e0921c55-7ede-476a-88e7-8cef6ec4863f",
   "metadata": {},
   "source": [
    "The overall probability is the sum of several terms:\n",
    "- Probability of exactly 6 heads,\n",
    "- Probability of exactly 7 heads,\n",
    "- Probability of exactly 8 heads,\n",
    "- Probability of exactly 9 heads, and\n",
    "- Probability of exactly 10 heads."
   ]
  },
  {
   "cell_type": "markdown",
   "id": "0213b9ba-0889-4c9e-94ff-c0c3b44cfb14",
   "metadata": {},
   "source": [
    "Mathematically, it's quite easy to write down the solution:\n",
    "\n",
    "$$P(k\\geq 6)=\\sum_{k=6}^{10}\\binom{10}{k}\\left(\\frac{1}{2}\\right)^k\\left(\\frac{1}{2}\\right)^{10-k}$$"
   ]
  },
  {
   "cell_type": "markdown",
   "id": "6a32975f-9668-46d9-bf66-9133722fa2da",
   "metadata": {},
   "source": [
    "We are now ready to evaluate these probabilities quickly in R."
   ]
  },
  {
   "cell_type": "code",
   "execution_count": 8,
   "id": "9546eff3-6734-4ea3-80b0-73477e87ec5e",
   "metadata": {},
   "outputs": [
    {
     "data": {
      "text/html": [
       "0.376953125"
      ],
      "text/latex": [
       "0.376953125"
      ],
      "text/markdown": [
       "0.376953125"
      ],
      "text/plain": [
       "[1] 0.3769531"
      ]
     },
     "metadata": {},
     "output_type": "display_data"
    }
   ],
   "source": [
    "tab <- c()            ## Empty vector to store all the terms \n",
    "n = 10                ## Number of trials\n",
    "lo = 6                ## LEAST Number of successes\n",
    "hi = 10                ## MOST Number of successes\n",
    "x = 1/2               ## Probability of success\n",
    "y = 1-x               ## Probability of failure\n",
    "k = 1                 ## Indexing variable for tab vector\n",
    "\n",
    "for (t in lo:hi){\n",
    "    tab[k] <- combin(n,t) * x^t * y^(n-t)         # Calculate the term and save in the vector \"tab\"\n",
    "    k <- k + 1\n",
    "}\n",
    "sum(tab)"
   ]
  },
  {
   "cell_type": "markdown",
   "id": "c0845f70-5cbf-4176-9e14-4baf1da6c46a",
   "metadata": {},
   "source": [
    "### Example: Unfair Coin Flips\n",
    "\n",
    "We ask the same question as that directly above, but we assign the probability of success to $\\frac{2}{5}$ to represent an unfair coin. This coin is weighted toward tails outcomes. However, the challenge is negligible mathematically.\n",
    "\n",
    "$$P(k\\geq 6)=\\sum_{k=6}^{10}\\binom{10}{k}\\left(\\frac{2}{5}\\right)^k\\left(\\frac{3}{5}\\right)^{10-k}$$"
   ]
  },
  {
   "cell_type": "code",
   "execution_count": null,
   "id": "ce66ccd9-625a-4cee-afa9-617d1c69ca94",
   "metadata": {},
   "outputs": [],
   "source": []
  },
  {
   "cell_type": "code",
   "execution_count": null,
   "id": "09b4f8f3-96ef-41bc-8653-abe376a62472",
   "metadata": {},
   "outputs": [],
   "source": []
  },
  {
   "cell_type": "markdown",
   "id": "c8355375-2258-4666-897e-3ee7b3223847",
   "metadata": {},
   "source": [
    "## Example: Josh's Dates ($n=5$)\n",
    "\n",
    "Josh gets dared by a friend to ask 5 random women at his college for a date. To assist, their friend Caylee prescreens women who walk down the hallway in the main academic building. Caylee asks enough questions to find five women who are unattached, and Josh asks each of them out on a date. Let's suppose Josh has a 20\\% chance of success each time he asks for a date:\n",
    "\n",
    "$$x=P(\\text{success})=\\frac{1}{5}$$\n",
    "\n",
    "We'll let the index value $k$ indicate the number of successes out of the five trials. What is the probability that, out of five attempts, Josh gets exactly four dates?\n",
    "\n",
    "$$P(k=4)=\\binom{5}{4}\\left(\\frac{1}{5}\\right)^4\\left(\\frac{4}{5}\\right)^1$$"
   ]
  },
  {
   "cell_type": "code",
   "execution_count": null,
   "id": "97898752-5e6a-452c-bae0-f5da1108c845",
   "metadata": {},
   "outputs": [],
   "source": []
  },
  {
   "cell_type": "code",
   "execution_count": null,
   "id": "f09e0825-8bcc-4314-9269-2c9eab4c2966",
   "metadata": {},
   "outputs": [],
   "source": []
  },
  {
   "cell_type": "markdown",
   "id": "7f4afcf7-6546-4a59-a551-6c339cf63df5",
   "metadata": {},
   "source": [
    "### Example: Josh's Dates ($n=5$) with 1 or 2 successes\n",
    "\n",
    "With $n=5,x=\\frac{1}{5}$, what is the probability that Josh gets either one or two dates?\n",
    "\n",
    "$$\\begin{align*}\n",
    "P(k=1)&=\\binom{5}{1}\\left(\\frac{1}{5}\\right)\\left(\\frac{4}{5}\\right)^4=\\frac{256}{625}\\\\ \n",
    "P(k=2)&=\\binom{5}{2}\\left(\\frac{1}{5}\\right)^2\\left(\\frac{4}{5}\\right)^3=\\frac{128}{625}\\\\[1mm]\n",
    "P(k=1)+P(k=2)&=\\frac{256}{625}+\\frac{128}{625}=\\frac{384}{625}\n",
    "\\end{align*}$$"
   ]
  },
  {
   "cell_type": "code",
   "execution_count": null,
   "id": "d2305df5-6e1f-4990-a216-6ae1301e8d7d",
   "metadata": {},
   "outputs": [],
   "source": []
  },
  {
   "cell_type": "code",
   "execution_count": null,
   "id": "b7cdc89e-9e4b-4c3e-821c-f0f1b2a4926c",
   "metadata": {},
   "outputs": [],
   "source": []
  },
  {
   "cell_type": "markdown",
   "id": "4b4e1026-e346-48be-b3b6-bde5c522c810",
   "metadata": {},
   "source": [
    "### Example: Josh's Dates ($n=20$)\n",
    "\n",
    "Josh decides these chances of success are too meagre, and decides to try the whole thing again with $n=20$. So Caylee prescreens to find twenty unattached women, and Josh asks them out. What is the probability that, out of twenty attempts, Josh\n",
    "- gets exactly 4 dates?\n",
    "- gets no dates?\n",
    "- gets at least 2 dates?"
   ]
  },
  {
   "cell_type": "code",
   "execution_count": null,
   "id": "ce2732d5-4db2-448e-bdeb-5315223fbde8",
   "metadata": {},
   "outputs": [],
   "source": []
  },
  {
   "cell_type": "code",
   "execution_count": null,
   "id": "cbbf3aa6-4a0f-499a-8297-50de3ddea0c1",
   "metadata": {},
   "outputs": [],
   "source": []
  },
  {
   "cell_type": "code",
   "execution_count": null,
   "id": "d7f17fce-ac43-46f2-91a2-56bfc5a8a7b4",
   "metadata": {},
   "outputs": [],
   "source": []
  },
  {
   "cell_type": "code",
   "execution_count": null,
   "id": "19c10b7d-9d67-4ef7-acd0-d4cf3b785bbf",
   "metadata": {},
   "outputs": [],
   "source": []
  },
  {
   "cell_type": "code",
   "execution_count": null,
   "id": "6d535c3a-dd0a-45ae-a3dc-e59946442ab0",
   "metadata": {},
   "outputs": [],
   "source": []
  },
  {
   "cell_type": "markdown",
   "id": "8cd021db-b13a-4b47-8ed5-7569b6b0d1a4",
   "metadata": {},
   "source": [
    "### Example: Josh's Dates ($n=20$) with Summations\n",
    "\n",
    "Same setup, with the preset number of trials $n=20$. With \n",
    "\n",
    "$$x=P(\\text{success})=\\frac{1}{5}$$\n",
    "\n",
    "What is the probability that, out of twenty attempts, Josh\n",
    "- gets between 5 and 10 dates?\n",
    "- gets 12 or more dates?"
   ]
  },
  {
   "cell_type": "code",
   "execution_count": null,
   "id": "a94c7438-ff22-4efe-8bb7-8f56f0a0eca2",
   "metadata": {},
   "outputs": [],
   "source": []
  },
  {
   "cell_type": "code",
   "execution_count": null,
   "id": "0c02b985-a5a5-44fe-880f-6673914f98d5",
   "metadata": {},
   "outputs": [],
   "source": []
  }
 ],
 "metadata": {
  "kernelspec": {
   "display_name": "R",
   "language": "R",
   "name": "ir"
  },
  "language_info": {
   "codemirror_mode": "r",
   "file_extension": ".r",
   "mimetype": "text/x-r-source",
   "name": "R",
   "pygments_lexer": "r",
   "version": "3.6.1"
  }
 },
 "nbformat": 4,
 "nbformat_minor": 5
}
