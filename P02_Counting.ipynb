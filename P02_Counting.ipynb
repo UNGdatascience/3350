{
 "cells": [
  {
   "cell_type": "markdown",
   "id": "annoying-chrome",
   "metadata": {},
   "source": [
    "# P2: Counting\n",
    "\n",
    "With probability problem-solving often boiling down to efficient counting, we have several methods which we use over and over.\n",
    "\n",
    "**Types of Counting**\n",
    "- <span style='color: blue'>Permutations</span>: repeated draws **without replacement** where order drawn matters.\n",
    "- <span style='color: blue'>Combinations</span>: repeated draws **without replacement** where order drawn does not matter.\n",
    "- <span style='color: blue'>Exponentials</span>: repeated <span style='color: red'>independent</span> draws **with replacement**.\n",
    "- <span style='color: blue'>Summations</span>: handshake problem is quintessential idea here.\n",
    "- <span style='color: blue'>Permutations</span> on a Ring: arrangments of guests around a table.\n",
    "\n"
   ]
  },
  {
   "cell_type": "markdown",
   "id": "distributed-checklist",
   "metadata": {},
   "source": [
    "As a reminder, we have the following formulas for **permutations** and **combinations**.\n",
    "\n",
    "## Combinations\n",
    "\n",
    "$$\\binom{n}{k} = \\frac{n!}{k!(n-k)!}$$"
   ]
  },
  {
   "cell_type": "markdown",
   "id": "electoral-stable",
   "metadata": {},
   "source": [
    "## Permutations\n",
    "\n",
    "$$P(n,k) = \\frac{n!}{(n-k)!}$$"
   ]
  },
  {
   "cell_type": "markdown",
   "id": "organic-sigma",
   "metadata": {},
   "source": [
    "## Functions in R"
   ]
  },
  {
   "cell_type": "code",
   "execution_count": 8,
   "id": "acute-large",
   "metadata": {},
   "outputs": [],
   "source": [
    "combin <- function(n, k) {\n",
    "    return(factorial(n) / ( factorial(k)*factorial(n-k) )) }\n",
    "perm <- function(n, k) {\n",
    "    return(combin(n,k) * factorial(k))}"
   ]
  },
  {
   "cell_type": "markdown",
   "id": "sorted-feeling",
   "metadata": {},
   "source": [
    "## 50 Counting Questions\n",
    "\n",
    "The practice problems that follow are from the [50 Counting Questions](https://straightdraw.github.io/probstat/P0a.html) the full solutions to which are in D2L."
   ]
  },
  {
   "cell_type": "markdown",
   "id": "genuine-lebanon",
   "metadata": {},
   "source": [
    "- **50 Counting Questions \\#1.** There are 16 students in the Math club. How many different ways could they select a president, vice president and treasurer for the club?"
   ]
  },
  {
   "cell_type": "code",
   "execution_count": null,
   "id": "dependent-format",
   "metadata": {},
   "outputs": [],
   "source": []
  },
  {
   "cell_type": "code",
   "execution_count": null,
   "id": "italian-regression",
   "metadata": {},
   "outputs": [],
   "source": []
  },
  {
   "cell_type": "markdown",
   "id": "varied-nation",
   "metadata": {},
   "source": [
    "- **50 Counting Questions \\#3.** The name of 11 students are placed in a hat. A teacher will reach into the hat and select 3 names at one time. Each of those 3 students will win the same prize. How many different groups of 3 winners could be chosen?"
   ]
  },
  {
   "cell_type": "code",
   "execution_count": null,
   "id": "flexible-insider",
   "metadata": {},
   "outputs": [],
   "source": []
  },
  {
   "cell_type": "code",
   "execution_count": null,
   "id": "prescription-timber",
   "metadata": {},
   "outputs": [],
   "source": []
  },
  {
   "cell_type": "markdown",
   "id": "accepting-swaziland",
   "metadata": {},
   "source": [
    "- **50 Counting Questions \\#4.** In how many ways can a sorority of 20 members select a president, vice president and treasurer, assuming that the same person cannot hold more than one office?"
   ]
  },
  {
   "cell_type": "code",
   "execution_count": null,
   "id": "white-victory",
   "metadata": {},
   "outputs": [],
   "source": []
  },
  {
   "cell_type": "code",
   "execution_count": null,
   "id": "extra-equation",
   "metadata": {},
   "outputs": [],
   "source": []
  },
  {
   "cell_type": "markdown",
   "id": "gross-plenty",
   "metadata": {},
   "source": [
    "- **50 Counting Questions \\#8.** How many 10 digit numbers can be formed using 3 and 7 only?"
   ]
  },
  {
   "cell_type": "code",
   "execution_count": null,
   "id": "cardiovascular-folder",
   "metadata": {},
   "outputs": [],
   "source": []
  },
  {
   "cell_type": "code",
   "execution_count": null,
   "id": "spread-accessory",
   "metadata": {},
   "outputs": [],
   "source": []
  },
  {
   "cell_type": "markdown",
   "id": "curious-liver",
   "metadata": {},
   "source": [
    "- **50 Counting Questions \\#9.** Everyone shakes hands with everyone else in a room. Total number of handshakes is 66. What is the total number of people in the room?"
   ]
  },
  {
   "cell_type": "code",
   "execution_count": null,
   "id": "completed-theorem",
   "metadata": {},
   "outputs": [],
   "source": []
  },
  {
   "cell_type": "code",
   "execution_count": null,
   "id": "future-resident",
   "metadata": {},
   "outputs": [],
   "source": []
  },
  {
   "cell_type": "markdown",
   "id": "addressed-medicare",
   "metadata": {},
   "source": [
    "- **50 Counting Questions \\#10.** In a college football training session, the defensive coordinator needs to have 10 players standing in a row.  Among these 10 players, there are 1 freshmen, 2 sophomores, 4 juniors, and 3 seniors, respectively.  How many different ways can they be arranged in a row if only their class level will be distinguished?"
   ]
  },
  {
   "cell_type": "code",
   "execution_count": null,
   "id": "american-equation",
   "metadata": {},
   "outputs": [],
   "source": []
  },
  {
   "cell_type": "code",
   "execution_count": null,
   "id": "adjusted-workshop",
   "metadata": {},
   "outputs": [],
   "source": []
  },
  {
   "cell_type": "markdown",
   "id": "yellow-turner",
   "metadata": {},
   "source": [
    "- **50 Counting Questions \\#13.** A developer of a new subdivision offers a prospective home buyer a choice of 4 designs, 3 different heating systems, a garage or carport, and a patio or screened porch.  How many different plans are available to this buyer?"
   ]
  },
  {
   "cell_type": "code",
   "execution_count": null,
   "id": "featured-thirty",
   "metadata": {},
   "outputs": [],
   "source": []
  },
  {
   "cell_type": "code",
   "execution_count": null,
   "id": "deadly-pioneer",
   "metadata": {},
   "outputs": [],
   "source": []
  },
  {
   "cell_type": "markdown",
   "id": "invalid-conviction",
   "metadata": {},
   "source": [
    "- **50 Counting Questions \\#14.** In how many different ways can a true-false test consisting of 8 questions be answered?\n"
   ]
  },
  {
   "cell_type": "code",
   "execution_count": null,
   "id": "opening-funeral",
   "metadata": {},
   "outputs": [],
   "source": []
  },
  {
   "cell_type": "code",
   "execution_count": null,
   "id": "effective-compatibility",
   "metadata": {},
   "outputs": [],
   "source": []
  },
  {
   "cell_type": "markdown",
   "id": "hairy-mayor",
   "metadata": {},
   "source": [
    "- **50 Counting Questions \\#17.** How many ways are there to select a subcommittee of 7 members from among a committee of 17?"
   ]
  },
  {
   "cell_type": "code",
   "execution_count": null,
   "id": "detailed-alloy",
   "metadata": {},
   "outputs": [],
   "source": []
  },
  {
   "cell_type": "code",
   "execution_count": null,
   "id": "overall-shirt",
   "metadata": {},
   "outputs": [],
   "source": []
  },
  {
   "cell_type": "markdown",
   "id": "separated-halloween",
   "metadata": {},
   "source": [
    "- **50 Counting Questions \\#18.** How many 4-digit numbers are there where the digits appear in a strictly increasing sequence (example: 1348)?"
   ]
  },
  {
   "cell_type": "code",
   "execution_count": null,
   "id": "sonic-roads",
   "metadata": {},
   "outputs": [],
   "source": []
  },
  {
   "cell_type": "code",
   "execution_count": null,
   "id": "blond-addiction",
   "metadata": {},
   "outputs": [],
   "source": []
  },
  {
   "cell_type": "markdown",
   "id": "protecting-timeline",
   "metadata": {},
   "source": [
    "- **50 Counting Questions \\#21.** In how many different ways can the letters of the word LEADING be arranged in such a way that the vowels are together?"
   ]
  },
  {
   "cell_type": "code",
   "execution_count": null,
   "id": "owned-ozone",
   "metadata": {},
   "outputs": [],
   "source": []
  },
  {
   "cell_type": "code",
   "execution_count": null,
   "id": "fitting-burden",
   "metadata": {},
   "outputs": [],
   "source": []
  },
  {
   "cell_type": "markdown",
   "id": "transsexual-document",
   "metadata": {},
   "source": [
    "- **50 Counting Questions \\#22.** Ten people go to a party. How many different ways can they be seated at a round table?"
   ]
  },
  {
   "cell_type": "code",
   "execution_count": null,
   "id": "impaired-highland",
   "metadata": {},
   "outputs": [],
   "source": []
  },
  {
   "cell_type": "code",
   "execution_count": null,
   "id": "fundamental-evolution",
   "metadata": {},
   "outputs": [],
   "source": []
  },
  {
   "cell_type": "markdown",
   "id": "lasting-bahamas",
   "metadata": {},
   "source": [
    "- ***50 Counting Questions \\#27.** Jane and Thomas are among the 8 people from which a committee of 4 people is to be selected.  How many different possible committees of 4 people can be selected from these 8 people if at least one of either Jane or Thomas is to be selected?"
   ]
  },
  {
   "cell_type": "code",
   "execution_count": null,
   "id": "arbitrary-reader",
   "metadata": {},
   "outputs": [],
   "source": []
  },
  {
   "cell_type": "code",
   "execution_count": null,
   "id": "atlantic-kuwait",
   "metadata": {},
   "outputs": [],
   "source": []
  },
  {
   "cell_type": "markdown",
   "id": "resident-number",
   "metadata": {},
   "source": [
    "- **50 Counting Questions \\#30.** A keypad lock has 10 different digits, and a sequence of 5 different digits must be selected for the lock to open.  How many key pad combinations are possible?"
   ]
  },
  {
   "cell_type": "code",
   "execution_count": null,
   "id": "hired-cruise",
   "metadata": {},
   "outputs": [],
   "source": []
  },
  {
   "cell_type": "code",
   "execution_count": null,
   "id": "working-economics",
   "metadata": {},
   "outputs": [],
   "source": []
  },
  {
   "cell_type": "markdown",
   "id": "continuous-soviet",
   "metadata": {},
   "source": [
    "- **50 Counting Questions \\#20 or \\#35.** There are five women and six men in a group. From this group a committee of 4 is to be chosen. How many different ways can a committee be formed that contain three women and one man?"
   ]
  },
  {
   "cell_type": "code",
   "execution_count": null,
   "id": "tropical-syndrome",
   "metadata": {},
   "outputs": [],
   "source": []
  },
  {
   "cell_type": "code",
   "execution_count": null,
   "id": "invalid-celebration",
   "metadata": {},
   "outputs": [],
   "source": []
  },
  {
   "cell_type": "markdown",
   "id": "removable-grenada",
   "metadata": {},
   "source": [
    "- **50 Counting Questions \\#36.** Out of 7 consonants and 4 vowels, how many words of 3 consonants and 2 vowels can be formed?"
   ]
  },
  {
   "cell_type": "code",
   "execution_count": null,
   "id": "unique-probability",
   "metadata": {},
   "outputs": [],
   "source": []
  },
  {
   "cell_type": "code",
   "execution_count": null,
   "id": "alike-occurrence",
   "metadata": {},
   "outputs": [],
   "source": []
  },
  {
   "cell_type": "markdown",
   "id": "capital-catholic",
   "metadata": {},
   "source": [
    "- **50 Counting Questions \\#50.** At the pizza place, there are 8 toppings that you can put on your pizza. If you can order any number of those 8 toppings, then how many different toppings could you possibly order?"
   ]
  },
  {
   "cell_type": "code",
   "execution_count": null,
   "id": "monetary-drink",
   "metadata": {},
   "outputs": [],
   "source": []
  },
  {
   "cell_type": "code",
   "execution_count": null,
   "id": "proof-deviation",
   "metadata": {},
   "outputs": [],
   "source": []
  },
  {
   "cell_type": "markdown",
   "id": "wrong-wallace",
   "metadata": {},
   "source": [
    "- **50 Counting Questions \\#45.** Find the number of ways to take 20 objects and arrange them in groups of 5 at a time where order does not matter."
   ]
  },
  {
   "cell_type": "code",
   "execution_count": null,
   "id": "meaning-chess",
   "metadata": {},
   "outputs": [],
   "source": []
  },
  {
   "cell_type": "code",
   "execution_count": null,
   "id": "ahead-berlin",
   "metadata": {},
   "outputs": [],
   "source": []
  },
  {
   "cell_type": "markdown",
   "id": "amended-incentive",
   "metadata": {},
   "source": [
    "## Additional Practice Problems\n",
    "\n",
    "From the exercises section of the **Counting Problems** chapter in our [online course notes](https://straightdraw.github.io/probstat/P2b.html), solve the following counting problems.\n",
    "\n",
    "1. Professor Daniels has 7 books to place on a single shelf. How many different arrangements are possible?"
   ]
  },
  {
   "cell_type": "code",
   "execution_count": null,
   "id": "specialized-shelter",
   "metadata": {},
   "outputs": [],
   "source": []
  },
  {
   "cell_type": "code",
   "execution_count": null,
   "id": "lined-sending",
   "metadata": {},
   "outputs": [],
   "source": []
  },
  {
   "cell_type": "markdown",
   "id": "animal-chambers",
   "metadata": {},
   "source": [
    "2. We do not know precisely how many seats there were at the Round Table as traditions differ. Supposing there were 24 seats at the table and that King Authur always sat in a special seat, in how many ways could the 23 Knights of the Round Table be arranged?"
   ]
  },
  {
   "cell_type": "code",
   "execution_count": null,
   "id": "alone-wheel",
   "metadata": {},
   "outputs": [],
   "source": []
  },
  {
   "cell_type": "code",
   "execution_count": null,
   "id": "terminal-vietnam",
   "metadata": {},
   "outputs": [],
   "source": []
  },
  {
   "cell_type": "markdown",
   "id": "intermediate-memory",
   "metadata": {},
   "source": [
    "3. Poker Pro Daniel Negreanu is one of nine players being seated at random at the final table of a poker tournament. Another pro we will call Betty is often a problem for Negreanu, and two amateurs have had the amazing luck to battle their way through. Poker players do not like having a troublesome player to their left but prefer less experienced (and less aggressive players) to sit there.\n",
    "    - What is the probability Betty is seated to Negreanu’s left?\n",
    "    - What the probability that one of the amateurs is seated to Negreanu’s left?"
   ]
  },
  {
   "cell_type": "code",
   "execution_count": null,
   "id": "processed-chance",
   "metadata": {},
   "outputs": [],
   "source": []
  },
  {
   "cell_type": "code",
   "execution_count": null,
   "id": "center-helmet",
   "metadata": {},
   "outputs": [],
   "source": []
  },
  {
   "cell_type": "markdown",
   "id": "liked-january",
   "metadata": {},
   "source": [
    "4. Given that Georgia license plates are 3 letters followed 4 numbers, how many distinct GA license plates are possible?"
   ]
  },
  {
   "cell_type": "code",
   "execution_count": null,
   "id": "british-distance",
   "metadata": {},
   "outputs": [],
   "source": []
  },
  {
   "cell_type": "code",
   "execution_count": null,
   "id": "several-student",
   "metadata": {},
   "outputs": [],
   "source": []
  },
  {
   "cell_type": "markdown",
   "id": "neither-attendance",
   "metadata": {},
   "source": [
    "5. For a new lottery, the players picks 3 numbers between 11 and 55 and 3 numbers between 55 and 99. If no number can repeat, how many different picks are possible?"
   ]
  },
  {
   "cell_type": "code",
   "execution_count": null,
   "id": "trying-worry",
   "metadata": {},
   "outputs": [],
   "source": []
  },
  {
   "cell_type": "code",
   "execution_count": null,
   "id": "smoking-prime",
   "metadata": {},
   "outputs": [],
   "source": []
  },
  {
   "cell_type": "markdown",
   "id": "elementary-earth",
   "metadata": {},
   "source": [
    "6. Among the seven nominees for two vacancies on the city council are three men and four women. In how many ways may these vacancies be filled:\n",
    "    - with any two of the nominees?\n",
    "    - with any two of the women?\n",
    "    - with one of the men and one of the women?"
   ]
  },
  {
   "cell_type": "code",
   "execution_count": null,
   "id": "accompanied-testing",
   "metadata": {},
   "outputs": [],
   "source": []
  },
  {
   "cell_type": "code",
   "execution_count": null,
   "id": "explicit-place",
   "metadata": {},
   "outputs": [],
   "source": []
  },
  {
   "cell_type": "markdown",
   "id": "continuous-drama",
   "metadata": {},
   "source": [
    "7. Mr. Jones owns 4 pairs of pants, 7 shirts, and 3 sweaters. In how many ways may he choose 2 of the pairs of pants, 3 of the shirts, and 1 of the sweaters to pack for a trip?"
   ]
  },
  {
   "cell_type": "code",
   "execution_count": null,
   "id": "molecular-honor",
   "metadata": {},
   "outputs": [],
   "source": []
  },
  {
   "cell_type": "code",
   "execution_count": null,
   "id": "cleared-begin",
   "metadata": {},
   "outputs": [],
   "source": []
  },
  {
   "cell_type": "markdown",
   "id": "apparent-lodging",
   "metadata": {},
   "source": [
    "8. Suppose a True-False test has 20 questions.\n",
    "    - In how many ways may a student mark the test, if each question is answered?\n",
    "    - In how many ways may a student mark the test, if 10 questions are marked correctly and 10 incorrectly?"
   ]
  },
  {
   "cell_type": "code",
   "execution_count": null,
   "id": "dressed-abuse",
   "metadata": {},
   "outputs": [],
   "source": []
  },
  {
   "cell_type": "markdown",
   "id": "ruled-central",
   "metadata": {},
   "source": [
    "9. In how many ways may can five persons line up to get on a bus?\n",
    "10. In how many ways may these same five people line up if two of the people refuse to stand next to each other?"
   ]
  },
  {
   "cell_type": "code",
   "execution_count": null,
   "id": "threatened-latin",
   "metadata": {},
   "outputs": [],
   "source": []
  },
  {
   "cell_type": "code",
   "execution_count": null,
   "id": "subtle-alberta",
   "metadata": {},
   "outputs": [],
   "source": []
  },
  {
   "cell_type": "markdown",
   "id": "large-airport",
   "metadata": {},
   "source": [
    "11. In how many ways may 8 people form a circle for a folk dance?"
   ]
  },
  {
   "cell_type": "code",
   "execution_count": null,
   "id": "configured-webster",
   "metadata": {},
   "outputs": [],
   "source": []
  },
  {
   "cell_type": "code",
   "execution_count": null,
   "id": "intensive-hunter",
   "metadata": {},
   "outputs": [],
   "source": []
  },
  {
   "cell_type": "markdown",
   "id": "renewable-allowance",
   "metadata": {},
   "source": [
    "12. How many unique arrangments are there of the letters G R E A T ?\n",
    "13. How many unique arrangments are there of the letters G R E E T ?"
   ]
  },
  {
   "cell_type": "code",
   "execution_count": null,
   "id": "atlantic-latin",
   "metadata": {},
   "outputs": [],
   "source": []
  },
  {
   "cell_type": "code",
   "execution_count": null,
   "id": "retired-convenience",
   "metadata": {},
   "outputs": [],
   "source": []
  },
  {
   "cell_type": "markdown",
   "id": "cardiac-celebration",
   "metadata": {},
   "source": [
    "14. How many unique arrangments are there of the letters S T A T I S T I C S ?"
   ]
  },
  {
   "cell_type": "code",
   "execution_count": null,
   "id": "static-sullivan",
   "metadata": {},
   "outputs": [],
   "source": []
  },
  {
   "cell_type": "code",
   "execution_count": null,
   "id": "welcome-baseline",
   "metadata": {},
   "outputs": [],
   "source": []
  },
  {
   "cell_type": "markdown",
   "id": "funny-cursor",
   "metadata": {},
   "source": [
    "15. How many unique arrangments of the the letters S T A T I S T I C S begin and end with the letter “s”?"
   ]
  },
  {
   "cell_type": "code",
   "execution_count": null,
   "id": "decimal-trauma",
   "metadata": {},
   "outputs": [],
   "source": []
  },
  {
   "cell_type": "code",
   "execution_count": null,
   "id": "aware-locking",
   "metadata": {},
   "outputs": [],
   "source": []
  },
  {
   "cell_type": "markdown",
   "id": "excellent-indonesia",
   "metadata": {},
   "source": [
    "16. In a primary election, there are four candidates for mayor, five candidates for city treasurer, and two candidates for county attorney. In how many ways may voters mark their ballots:\n",
    "    - if they vote in all three of the races?\n",
    "    - if they exercise their right not to vote in any or all of the races?"
   ]
  },
  {
   "cell_type": "code",
   "execution_count": null,
   "id": "cognitive-effect",
   "metadata": {},
   "outputs": [],
   "source": []
  },
  {
   "cell_type": "code",
   "execution_count": null,
   "id": "therapeutic-breeding",
   "metadata": {},
   "outputs": [],
   "source": []
  },
  {
   "cell_type": "markdown",
   "id": "racial-steal",
   "metadata": {},
   "source": [
    "17. A multiple-choice test consists of 15 questions, each permitting a choice of 5 alternatives. In how many ways may a student fill in the answers if they answer each question?"
   ]
  },
  {
   "cell_type": "code",
   "execution_count": null,
   "id": "unnecessary-symphony",
   "metadata": {},
   "outputs": [],
   "source": []
  },
  {
   "cell_type": "code",
   "execution_count": null,
   "id": "threatened-testimony",
   "metadata": {},
   "outputs": [],
   "source": []
  },
  {
   "cell_type": "markdown",
   "id": "crucial-moldova",
   "metadata": {},
   "source": [
    "18. A team of 13 field hockey players needs to choose a captain and co-captain. How many different leadership pairs exist?"
   ]
  },
  {
   "cell_type": "code",
   "execution_count": null,
   "id": "fluid-designer",
   "metadata": {},
   "outputs": [],
   "source": []
  },
  {
   "cell_type": "code",
   "execution_count": null,
   "id": "underlying-thomas",
   "metadata": {},
   "outputs": [],
   "source": []
  },
  {
   "cell_type": "markdown",
   "id": "textile-spouse",
   "metadata": {},
   "source": [
    "19. You are setting the combination on a five-digit lock. You want to use the numbers 38175 but don’t care what order they are in. How many unique combinations are possible?"
   ]
  },
  {
   "cell_type": "code",
   "execution_count": null,
   "id": "designed-holmes",
   "metadata": {},
   "outputs": [],
   "source": []
  },
  {
   "cell_type": "code",
   "execution_count": null,
   "id": "equipped-admission",
   "metadata": {},
   "outputs": [],
   "source": []
  },
  {
   "cell_type": "markdown",
   "id": "athletic-hardwood",
   "metadata": {},
   "source": [
    "20. The student body of 50 students wants to elect four representatives. How many unique elections are possible?\n"
   ]
  },
  {
   "cell_type": "code",
   "execution_count": null,
   "id": "intended-strengthening",
   "metadata": {},
   "outputs": [],
   "source": []
  },
  {
   "cell_type": "code",
   "execution_count": null,
   "id": "perfect-court",
   "metadata": {},
   "outputs": [],
   "source": []
  },
  {
   "cell_type": "markdown",
   "id": "surface-supervision",
   "metadata": {},
   "source": [
    "21. A group of 17 horses start the race. How many unique finishing orders are possible if we only concern ourselves with the Top 3 Finishers (Win, Place, Show)?\n"
   ]
  },
  {
   "cell_type": "code",
   "execution_count": null,
   "id": "tracked-jesus",
   "metadata": {},
   "outputs": [],
   "source": []
  },
  {
   "cell_type": "code",
   "execution_count": null,
   "id": "recent-cookie",
   "metadata": {},
   "outputs": [],
   "source": []
  },
  {
   "cell_type": "markdown",
   "id": "sitting-reason",
   "metadata": {},
   "source": [
    "22. Twenty-three athletes at a meeting each shake hands with everyone else. How many handshakes occur?\n"
   ]
  },
  {
   "cell_type": "code",
   "execution_count": null,
   "id": "outer-bridge",
   "metadata": {},
   "outputs": [],
   "source": []
  },
  {
   "cell_type": "code",
   "execution_count": null,
   "id": "other-manhattan",
   "metadata": {},
   "outputs": [],
   "source": []
  },
  {
   "cell_type": "markdown",
   "id": "material-pregnancy",
   "metadata": {},
   "source": [
    "23. The game of euchre uses only 24 cards from a standard deck. How many unique 5-card euchre hands are possible?\n"
   ]
  },
  {
   "cell_type": "code",
   "execution_count": null,
   "id": "included-career",
   "metadata": {},
   "outputs": [],
   "source": []
  },
  {
   "cell_type": "code",
   "execution_count": null,
   "id": "minor-spouse",
   "metadata": {},
   "outputs": [],
   "source": []
  },
  {
   "cell_type": "markdown",
   "id": "ancient-chassis",
   "metadata": {},
   "source": [
    "24. For a segment of a radio show, a disc jockey (Dr. Jams) can play 4 songs. If there are 8 to select from, in how many ways can the program for this segment be arranged?"
   ]
  },
  {
   "cell_type": "code",
   "execution_count": null,
   "id": "affected-confidentiality",
   "metadata": {},
   "outputs": [],
   "source": []
  },
  {
   "cell_type": "code",
   "execution_count": null,
   "id": "novel-wallace",
   "metadata": {},
   "outputs": [],
   "source": []
  }
 ],
 "metadata": {
  "kernelspec": {
   "display_name": "R",
   "language": "R",
   "name": "ir"
  },
  "language_info": {
   "codemirror_mode": "r",
   "file_extension": ".r",
   "mimetype": "text/x-r-source",
   "name": "R",
   "pygments_lexer": "r",
   "version": "3.6.1"
  }
 },
 "nbformat": 4,
 "nbformat_minor": 5
}
