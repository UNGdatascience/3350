{
 "cells": [
  {
   "cell_type": "markdown",
   "id": "49ec7e61-a756-4fc1-bf75-d8063ddb5a5b",
   "metadata": {},
   "source": [
    "# P05: Conditional Probability\n",
    "\n",
    "The probability of $A$ occurring given that event $B$ has \\emph{already occurred} is the **conditional probability** of $A$ given $B$:\n",
    "\n",
    "$$P(A|B)=\\frac{P(A\\cap B)}{P(B)}$$\n",
    "\n",
    "We have seen this idea before when we looked at **independence** the definition of which relies upon it."
   ]
  },
  {
   "cell_type": "markdown",
   "id": "45f5fae7-2f7a-4dcf-ab0e-cb667e5e335a",
   "metadata": {},
   "source": [
    "## Example 1\n",
    "\n",
    "A card is drawn at random from a standard deck of playing cards. What is the probability of drawing a heart ($H$) given that a red card ($R$) is drawn?\n",
    "\n",
    "### Solution\n",
    "\n",
    "- The probability a $\\textcolor{red}{\\heartsuit}$ is drawn: $P(H) = \\frac{1}{4}$\n",
    "- The probability a \\textcolor{red}{red} is drawn: $P(R) = \\frac{1}{2}$\n",
    "\n",
    "Note that $P(H\\cap R) = \\frac{1}{4}$, so we have:\n",
    "\n",
    "$$P(H|R) = \\frac{P(H\\cap R)}{P(R)}=\\frac{1}{2}$$\n",
    "It can also be quickly verified that:\n",
    "$$P(R|H) = 1$$"
   ]
  },
  {
   "cell_type": "code",
   "execution_count": null,
   "id": "3e78dce8-7d91-41b5-82c9-ba39367c1d5c",
   "metadata": {},
   "outputs": [],
   "source": []
  },
  {
   "cell_type": "code",
   "execution_count": null,
   "id": "65b4acb7-2cfe-4b37-8050-8ba594175472",
   "metadata": {},
   "outputs": [],
   "source": []
  },
  {
   "cell_type": "markdown",
   "id": "1c4b3fd3-2e05-4422-852a-241cef658c64",
   "metadata": {},
   "source": [
    "## Examples 2\n",
    "\n",
    "The set of integers $S$ is the set of integers between 1 and 40 inclusive which can write as follows:\n",
    "\n",
    "$$S=\\{1, 2, 3, \\cdots, 39, 40\\}$$\n",
    "\n",
    "Naming the sets we need:\n",
    "\n",
    "- The set of all elements which are divisible by $5$.\n",
    "- The set of all elements which are divisible by $3$.\n",
    "- The set of all elements which are divisible by $2$.\n",
    "\n",
    "Gathering the probabilities for the intersections:\n",
    "\n",
    "- $P(F)=\\frac{1}{5}$\n",
    "- $P(R)=\\frac{13}{40}$\n",
    "- $P(T)=\\frac{1}{2}$\n",
    "- $P(F \\cap R)=\\frac{2}{13}$\n",
    "- $P(F \\cap T)=\\frac{1}{10}$\n",
    "- $P(T \\cap R)=\\frac{3}{20}$"
   ]
  },
  {
   "cell_type": "markdown",
   "id": "bae95446-55e6-44ed-8c1b-404aed28bcf3",
   "metadata": {},
   "source": [
    "Find the probabilities:\n",
    "\n",
    "(a) The probability of $F$ given $R$.\n",
    "\n",
    "(b) The probability of $T$ given $R$.\n",
    "\n",
    "(c) The probability of $F$ given $T$."
   ]
  },
  {
   "cell_type": "code",
   "execution_count": null,
   "id": "740d26a9-75fc-41a2-8b20-a247037e47d6",
   "metadata": {},
   "outputs": [],
   "source": []
  },
  {
   "cell_type": "code",
   "execution_count": null,
   "id": "85f5a572-0d32-4b32-8ef5-b2168ef2da73",
   "metadata": {},
   "outputs": [],
   "source": []
  },
  {
   "cell_type": "code",
   "execution_count": null,
   "id": "3fef8861-7238-4a0f-b794-2ef84cc1fbe4",
   "metadata": {},
   "outputs": [],
   "source": []
  },
  {
   "cell_type": "code",
   "execution_count": null,
   "id": "7810f2e6-d4bc-41f2-ba84-980768081b56",
   "metadata": {},
   "outputs": [],
   "source": []
  },
  {
   "cell_type": "code",
   "execution_count": null,
   "id": "7110128f-9d51-4b6f-a8a3-8d76e018ea5a",
   "metadata": {},
   "outputs": [],
   "source": []
  },
  {
   "cell_type": "markdown",
   "id": "b559acf5-0901-476b-baa1-590e4d6d9237",
   "metadata": {},
   "source": [
    "## Additional Practice Problems\n",
    "\n",
    "9. Suppose that in Lincoln county, 54\\% of households have a dog while 27\\% of households have a dog and a cat. If you randomly select a household that has a dog, what is the probability that it also has a cat?"
   ]
  },
  {
   "cell_type": "code",
   "execution_count": null,
   "id": "fe624226-2f2f-4097-ae66-26e1c84ccb74",
   "metadata": {},
   "outputs": [],
   "source": []
  },
  {
   "cell_type": "code",
   "execution_count": null,
   "id": "0f20bdb5-a318-4014-8d59-341c345718a2",
   "metadata": {},
   "outputs": [],
   "source": []
  },
  {
   "cell_type": "markdown",
   "id": "aab2995e-11ae-46ba-824e-20d5ee3ae8f8",
   "metadata": {},
   "source": [
    "10. Suppose that in Washington county, 51\\% of households have central air conditioning while 27\\% of households have central air conditioning and a furnace. If you randomly select a household that has central air conditioning, what is the probability that it also has a furnace?"
   ]
  },
  {
   "cell_type": "code",
   "execution_count": null,
   "id": "4126a34a-4fa4-4f55-9d0f-cf26efe9bcda",
   "metadata": {},
   "outputs": [],
   "source": []
  },
  {
   "cell_type": "code",
   "execution_count": null,
   "id": "9d3d6339-a4f2-467a-af51-5ce7e6ad8962",
   "metadata": {},
   "outputs": [],
   "source": []
  },
  {
   "cell_type": "markdown",
   "id": "15e62dff-4bcb-4620-98ec-172b3bfe0513",
   "metadata": {},
   "source": [
    "11.  Andrea is a very good student. The probability that she studies and  passes her mathematics test is $\\frac{17}{20}$. If the probability that Andrea studies is $\\frac{15}{16}$, find the probability that Andrea passes her mathematics test, given that she has studied. "
   ]
  },
  {
   "cell_type": "code",
   "execution_count": null,
   "id": "0c4a759b-f63d-4727-a732-93cab2ad5c60",
   "metadata": {},
   "outputs": [],
   "source": []
  },
  {
   "cell_type": "code",
   "execution_count": null,
   "id": "a252d0dd-02d1-4f64-8d09-52c067226d0e",
   "metadata": {},
   "outputs": [],
   "source": []
  }
 ],
 "metadata": {
  "kernelspec": {
   "display_name": "R",
   "language": "R",
   "name": "ir"
  },
  "language_info": {
   "codemirror_mode": "r",
   "file_extension": ".r",
   "mimetype": "text/x-r-source",
   "name": "R",
   "pygments_lexer": "r",
   "version": "3.6.1"
  }
 },
 "nbformat": 4,
 "nbformat_minor": 5
}
