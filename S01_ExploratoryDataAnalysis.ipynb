{
 "cells": [
  {
   "cell_type": "markdown",
   "id": "minus-michigan",
   "metadata": {},
   "source": [
    "# S1: Exploratory_Data_Analysis\n",
    "\n",
    "Before doing any data analysis, we need to load data to analyze. The code below loads the following data sets using the indicate variable names:\n",
    "\n",
    "- **perf** is our perfectionism data.\n",
    "- **anx** is our anxiety data.\n",
    "- **weight** is our birth weight data from the babies research data.\n",
    "- **el** is elevation data from US airports (feet above sea level)."
   ]
  },
  {
   "cell_type": "code",
   "execution_count": null,
   "id": "other-handy",
   "metadata": {},
   "outputs": [],
   "source": [
    "pers <- read.csv('https://faculty.ung.edu/rsinn/data/personality.csv')\n",
    "air <- read.csv('https://faculty.ung.edu/rsinn/data/airports.csv')\n",
    "baby <- read.csv('https://faculty.ung.edu/rsinn/data/baby.csv')\n",
    "perf <- pers$Perf\n",
    "anx <- pers$Anx\n",
    "weight <- baby$Birth.Weight\n",
    "air_us <- subset(air, country == 'US')\n",
    "el <- na.omit(air_us$elevation_ft)"
   ]
  },
  {
   "cell_type": "markdown",
   "id": "powered-judges",
   "metadata": {},
   "source": [
    "## Example 1: Descriptives\n",
    "\n",
    "Display the standard decriptives and 5-number summary for the data **perf** and the data **anx**. Do we expect skew or outliers in either data set?"
   ]
  },
  {
   "cell_type": "code",
   "execution_count": null,
   "id": "directed-shoulder",
   "metadata": {},
   "outputs": [],
   "source": []
  },
  {
   "cell_type": "code",
   "execution_count": null,
   "id": "accomplished-creation",
   "metadata": {},
   "outputs": [],
   "source": []
  },
  {
   "cell_type": "code",
   "execution_count": null,
   "id": "simple-plate",
   "metadata": {},
   "outputs": [],
   "source": []
  },
  {
   "cell_type": "markdown",
   "id": "altered-advertiser",
   "metadata": {},
   "source": [
    "## Example 2: Histograms and Density Plots\n",
    "\n",
    "Produce a histogram for the **anx** data set and a density plot for the **weight** data set. Work to get the *breaks* correct for the histogram."
   ]
  },
  {
   "cell_type": "code",
   "execution_count": null,
   "id": "attached-majority",
   "metadata": {},
   "outputs": [],
   "source": []
  },
  {
   "cell_type": "code",
   "execution_count": null,
   "id": "ordinary-preview",
   "metadata": {},
   "outputs": [],
   "source": []
  },
  {
   "cell_type": "code",
   "execution_count": null,
   "id": "consistent-mystery",
   "metadata": {},
   "outputs": [],
   "source": []
  },
  {
   "cell_type": "markdown",
   "id": "cultural-hawaii",
   "metadata": {},
   "source": [
    "## Example 3: Box Plots\n",
    "\n",
    "Produce a box plot for both **perf** and **anx**. Compare and contrast your estimate of skew and outliers from **Example 1** to what you see in these box plots."
   ]
  },
  {
   "cell_type": "code",
   "execution_count": null,
   "id": "curious-arthur",
   "metadata": {},
   "outputs": [],
   "source": []
  },
  {
   "cell_type": "code",
   "execution_count": null,
   "id": "educational-charlotte",
   "metadata": {},
   "outputs": [],
   "source": []
  },
  {
   "cell_type": "code",
   "execution_count": null,
   "id": "silver-request",
   "metadata": {},
   "outputs": [],
   "source": []
  },
  {
   "cell_type": "markdown",
   "id": "impossible-italian",
   "metadata": {},
   "source": [
    "## Example 4: Calculations for Outliers\n",
    "\n",
    "Identify outliers in the **perf** and **anx** data sets."
   ]
  },
  {
   "cell_type": "code",
   "execution_count": null,
   "id": "proper-factory",
   "metadata": {},
   "outputs": [],
   "source": []
  },
  {
   "cell_type": "code",
   "execution_count": null,
   "id": "necessary-thunder",
   "metadata": {},
   "outputs": [],
   "source": []
  },
  {
   "cell_type": "code",
   "execution_count": null,
   "id": "driving-intranet",
   "metadata": {},
   "outputs": [],
   "source": []
  },
  {
   "cell_type": "code",
   "execution_count": null,
   "id": "08092f66-857c-475c-b81d-88034e60806f",
   "metadata": {},
   "outputs": [],
   "source": []
  },
  {
   "cell_type": "code",
   "execution_count": null,
   "id": "together-tracker",
   "metadata": {},
   "outputs": [],
   "source": []
  },
  {
   "cell_type": "markdown",
   "id": "4e5ca20f-5b46-488c-a1c1-b040793ddde1",
   "metadata": {},
   "source": [
    "## Example 5: Conduct an Exploratory Data Analysis on the birth weight data **weight**."
   ]
  },
  {
   "cell_type": "code",
   "execution_count": null,
   "id": "92842d35-bd99-446e-a565-de6d60679427",
   "metadata": {},
   "outputs": [],
   "source": []
  },
  {
   "cell_type": "code",
   "execution_count": null,
   "id": "10a9e3d3-0b48-4cff-b1f0-7a7bd4f921e6",
   "metadata": {},
   "outputs": [],
   "source": []
  },
  {
   "cell_type": "code",
   "execution_count": null,
   "id": "d4833624-ec34-45a1-a3a6-14ed78d4ff78",
   "metadata": {},
   "outputs": [],
   "source": []
  },
  {
   "cell_type": "code",
   "execution_count": null,
   "id": "fb644a2a-2849-487f-9521-3bfec7e9e984",
   "metadata": {},
   "outputs": [],
   "source": []
  },
  {
   "cell_type": "code",
   "execution_count": null,
   "id": "46e997e7-ef48-43f7-9362-6ca5dcefb17c",
   "metadata": {},
   "outputs": [],
   "source": []
  },
  {
   "cell_type": "markdown",
   "id": "responsible-casting",
   "metadata": {},
   "source": [
    "## Example 6: Conduct an Exploratory Data Analysis on the airport elevation data **el**."
   ]
  },
  {
   "cell_type": "code",
   "execution_count": null,
   "id": "broken-arrest",
   "metadata": {},
   "outputs": [],
   "source": []
  },
  {
   "cell_type": "code",
   "execution_count": null,
   "id": "democratic-recycling",
   "metadata": {},
   "outputs": [],
   "source": []
  },
  {
   "cell_type": "code",
   "execution_count": null,
   "id": "small-groove",
   "metadata": {},
   "outputs": [],
   "source": []
  },
  {
   "cell_type": "code",
   "execution_count": null,
   "id": "decreased-beijing",
   "metadata": {},
   "outputs": [],
   "source": []
  },
  {
   "cell_type": "code",
   "execution_count": null,
   "id": "secure-thinking",
   "metadata": {},
   "outputs": [],
   "source": []
  },
  {
   "cell_type": "code",
   "execution_count": null,
   "id": "6bbdcc19-5c53-42fe-9070-fd43b48f9d3f",
   "metadata": {},
   "outputs": [],
   "source": []
  }
 ],
 "metadata": {
  "kernelspec": {
   "display_name": "R",
   "language": "R",
   "name": "ir"
  },
  "language_info": {
   "codemirror_mode": "r",
   "file_extension": ".r",
   "mimetype": "text/x-r-source",
   "name": "R",
   "pygments_lexer": "r",
   "version": "3.6.1"
  }
 },
 "nbformat": 4,
 "nbformat_minor": 5
}
