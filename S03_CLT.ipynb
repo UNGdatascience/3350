{
 "cells": [
  {
   "cell_type": "markdown",
   "id": "1ece6807-fde8-4656-b011-27cddd338a76",
   "metadata": {},
   "source": [
    "# Sampling Distributions and the Central Limit Theorem\n",
    "\n",
    "**Definition.** For a fixed population and fixed sample size $k\\in \\mathbb{N}$, a collection of values of the mean over $n$ samples of size $k$ forms what we call a <span style=\"color:green; font-weight:bold\">sampling distribution</span>.\n",
    "\n",
    "Suppose that we have a sampling distribution:\n",
    "\n",
    "$$X =\\left\\{X_1, X_2, \\cdots, X_n\\right\\}$$\n",
    "\n",
    "where $\\bar x_i$ is the mean of the sample $X_i$.\n",
    "\n",
    "For a sampling distribution, we know that:\n",
    "- The sample size is $k$ for all $X_i$.\n",
    "- The number of samples in our sampling distribution is $n$.\n",
    "\n",
    "We refer to the <span style=\"color:blue; font-weight:bold\">grand mean</span> $\\bar x$ as the mean of the $n$ sample means, e.g.\n",
    "\n",
    "$$\\bar x = \\sum_{i=1}^n\\frac{\\bar x_i}{n}$$"
   ]
  },
  {
   "cell_type": "markdown",
   "id": "d3936eeb-be5d-4c01-b165-434ca0b6731d",
   "metadata": {},
   "source": [
    "## Two Vital Theorems\n",
    "\n",
    "The <span style=\"color:blue; font-weight:bold\">Centrol Limit Theorem</span> (CLT) and <span style=\"color:blue; font-weight:bold\">Law of Large Numbers</span> govern how sampling distributions work:\n",
    "\n",
    "1. **Central Limit Theorem.** The means $\\bar x_i$ of a sampling distribution are approximately normal (bell-shaped) and centered upon $\\mu_0$, the population average. Additionally, as sample size $k$ increases, $\\bar x \\rightarrow \\mu_0$.\n",
    "2. **Law of Large Numbers.** As the number of samples $n$ in our sampling distribution increases, our estimates of the population mean $\\mu_0$ increase in accuracy.\n",
    "\n",
    "Thus, the CLT guarantees a bell-shaped distribution centered upon the population average, and the Law of Large Numbers works like a lever that allows us to control the accuracy. Increased sample size $k$ leads to increased accuracy by the CLT, and increased number of samples $n$ leads to increased accuracy by the Law of Large Numbers.\n",
    "\n",
    "The Law of Large Numbers is vital due to the fact that the sample size is often limited. For example, sample size should be kept to less than $10\\%$ of the population size. The population of all SAT scores for Forsyth County, GA, in 2025 may contain a few thousand items, while the population of SAT scores for the United States will contain millions of items. When the size of the population the sampling distribution is drawn from is limited, the Law of Large Numbers allows us to take many more samples to improve accuracy."
   ]
  },
  {
   "cell_type": "markdown",
   "id": "d34f3d1d-fcd5-4e47-ad44-6d99b468211e",
   "metadata": {},
   "source": [
    "## Law of Large Numbers\n",
    "\n",
    "If $\\bar x$ is the grand mean of $n$ many sample averages $\\bar x_i$ which are all have the same sample size $k$ and are drawn from the same population (or distribution) with mean $\\mu$, then\n",
    "\n",
    "$$n \\rightarrow \\infty \\implies \\bar{x} \\rightarrow \\mu$$\n",
    "\n",
    "## Central Limit Theorem\n",
    "\n",
    "Assume $\\bar x$ is the grand mean of $n$ many sample averages $\\bar x_i$ which all have the sample size $k$ and are drawn from the same population (or distribution) with mean $\\mu$ and population standard deviation $\\sigma$. For large values of $k$, this sampling distribution can be assumed approximately normal. Specifically, the sampling distribution can be assumed to be\n",
    "\n",
    "$$N\\left(\\mu, \\frac{\\sigma}{\\sqrt{k}} \\right)$$"
   ]
  },
  {
   "cell_type": "markdown",
   "id": "5e2ce9ea-87c3-4372-9b64-e34bfdd7abc5",
   "metadata": {},
   "source": [
    "## Getting Started\n",
    "\n",
    "To prepare for the examples and demonstrations, we two things. First, we need data to work with. Second, we need our main sampling function: **sample.data.frame**.\n",
    "\n",
    "**Run the cell below to load 4 data sets.**"
   ]
  },
  {
   "cell_type": "code",
   "execution_count": 1,
   "id": "971a4391-f09c-4337-9183-970d7a650518",
   "metadata": {
    "editable": true,
    "slideshow": {
     "slide_type": ""
    },
    "tags": [
     "hide-input"
    ]
   },
   "outputs": [],
   "source": [
    "united <- read.csv('http://faculty.ung.edu/rsinn/data/united.csv')\n",
    "pers <- read.csv('http://faculty.ung.edu/rsinn/data/personality.csv')\n",
    "airports <- read.csv('http://faculty.ung.edu/rsinn/data/airports.csv')\n",
    "births <-  read.csv('http://faculty.ung.edu/rsinn/data/baby.csv')"
   ]
  },
  {
   "cell_type": "markdown",
   "id": "cc0f0a24-96f2-4f05-b3bb-3d10a4a3b4d5",
   "metadata": {
    "editable": true,
    "slideshow": {
     "slide_type": ""
    },
    "tags": []
   },
   "source": [
    "We will use three functions to perform the sampling:\n",
    "\n",
    "1. **rflip** -- simulates a coin flip or binomial distribution.\n",
    "2. **rspin** -- simulates a spinner which allows for a couple different distributions.\n",
    "3. **sample.data.frame** -- draw a random sample of rows from a given data frame.\n",
    "\n",
    "The code for these functions has been adapted from the documentation of the classic *mosaic* package which is still available in R given that you have the correct versioning for R and all mosaic's required dependencies.\n",
    "\n",
    "**Run the cell below to activate the rflip() function:**\n",
    "\n",
    "<font color=\"green\"><center><b>rflip</b></center></font>"
   ]
  },
  {
   "cell_type": "code",
   "execution_count": 2,
   "id": "ef767abb-71ef-4cbd-a671-dce996dc6773",
   "metadata": {
    "editable": true,
    "slideshow": {
     "slide_type": ""
    },
    "tags": [
     "hide-input"
    ]
   },
   "outputs": [],
   "source": [
    "rflip <- function(n=1, prob=.5, quiet=FALSE, verbose = !quiet, summarize = FALSE, \n",
    "                  summarise = summarize) {\n",
    "\tif ( ( prob > 1 && is.integer(prob) ) ) {  \n",
    "\t\t# swap n and prob\n",
    "\t\ttemp <- prob\n",
    "\t\tprob <- n\n",
    "\t\tn <- temp\n",
    "\t}\n",
    "\tif (summarise) {\n",
    "\t  heads <- rbinom(1, n, prob)\n",
    "\t  return(data.frame(n = n, heads = heads, tails = n - heads, prob = prob))\n",
    "\t} else {\n",
    "\t  r <- rbinom(n,1,prob)\n",
    "\t  result <- c('T','H')[ 1 + r ]\n",
    "\t  heads <- sum(r)\n",
    "\t  attr(heads,\"n\") <- n\n",
    "\t  attr(heads,\"prob\") <- prob \n",
    "\t  attr(heads,\"sequence\") <- result\n",
    "\t  attr(heads,\"verbose\") <- verbose\n",
    "\t  class(heads) <- 'cointoss'\n",
    "\t  return(heads)\n",
    "\t}\n",
    "}"
   ]
  },
  {
   "cell_type": "markdown",
   "id": "4ef6f315-8584-4a97-a299-2ab0e3580668",
   "metadata": {
    "editable": true,
    "slideshow": {
     "slide_type": ""
    },
    "tags": []
   },
   "source": [
    "## Example 1: M&M's\n",
    "\n",
    "A collection vat in the manufacturing process at the M&M plant has millions of unsorted candies. There is 25\\% chance of drawing a red candy. What is the expected number of red candies that will be drawn if we draw a sample of size 50?\n",
    "\n",
    "The main <span style = 'color:blue;font-weight:bold'>for loop</span> is created below along with a display of middle 90\\% of the results distribution indicated by blue vertical lines."
   ]
  },
  {
   "cell_type": "code",
   "execution_count": null,
   "id": "58322106-0580-4a06-a4e5-b0a750e70c1f",
   "metadata": {
    "editable": true,
    "slideshow": {
     "slide_type": ""
    },
    "tags": []
   },
   "outputs": [],
   "source": [
    "     num_success <- c()     # create a vector to store the number of successes for each sample drawn\n",
    "num_samps = 1000       # set the number of samples to be drawn\n",
    "\n",
    "for (i in 1:num_samps){\n",
    "    temp <- rflip(50, prob = 1/4, summarize = TRUE)[1,2]     # draw 50 candies, count numer of red\n",
    "    num_success[i] <- temp     # count and store the number of red candies from this trial\n",
    "}\n",
    "\n",
    "lower <- quantile(num_success, prob = 0.05)     # Calcuate the 5th percentile.\n",
    "upper <- quantile(num_success, prob = 0.95)     # Calcuate the 95th percentile.\n",
    "cat('The mean of the simulated distribution is\\n   ',mean(num_success) )\n",
    "hist(num_success, breaks = 8, main = 'Histogram of Binomial: n = 50, p =0.25')\n",
    "abline( v = lower, col=\"blue\")     # Add vertical line at 5th percentile\n",
    "abline(v = upper, col=\"blue\")      # Add vertical line at 95th percentile      "
   ]
  },
  {
   "cell_type": "code",
   "execution_count": null,
   "id": "8aea3400-3e44-4ddf-a534-8840a7959904",
   "metadata": {},
   "outputs": [],
   "source": []
  },
  {
   "cell_type": "code",
   "execution_count": null,
   "id": "19c5e0ef-ec37-4ff4-88c1-089175649b4f",
   "metadata": {},
   "outputs": [],
   "source": []
  },
  {
   "cell_type": "code",
   "execution_count": null,
   "id": "7fa4fcb2-3ffd-4def-8f92-5644aa60e41a",
   "metadata": {},
   "outputs": [],
   "source": []
  },
  {
   "cell_type": "code",
   "execution_count": null,
   "id": "3c79a95f-8061-4227-b22b-f444cd865068",
   "metadata": {},
   "outputs": [],
   "source": []
  },
  {
   "cell_type": "code",
   "execution_count": null,
   "id": "7073397a-120d-4fa2-a2c7-782fcb58a274",
   "metadata": {},
   "outputs": [],
   "source": []
  },
  {
   "cell_type": "code",
   "execution_count": null,
   "id": "36f4bb05-54fe-449a-9bc9-00f7fc948189",
   "metadata": {},
   "outputs": [],
   "source": []
  },
  {
   "cell_type": "markdown",
   "id": "35395037-88c9-4c5b-bd8a-daea140700d1",
   "metadata": {},
   "source": [
    "## The sample.data.frame Function"
   ]
  },
  {
   "cell_type": "code",
   "execution_count": null,
   "id": "4a33f935-3e7d-4c2a-b4b3-01e9026eb7e6",
   "metadata": {
    "editable": true,
    "slideshow": {
     "slide_type": ""
    },
    "tags": []
   },
   "outputs": [],
   "source": [
    "sample.data.frame <- function(x, size, replace = FALSE, prob = NULL, groups=NULL, \n",
    "                              orig.ids = TRUE, fixed = names(x), shuffled = c(),\n",
    "                              invisibly.return = NULL, ...) {\n",
    "  if( missing(size) ) size = nrow(x)\n",
    "  if( is.null(invisibly.return) ) invisibly.return = size>50 \n",
    "  shuffled <- intersect(shuffled, names(x))\n",
    "  fixed <- setdiff(intersect(fixed, names(x)), shuffled)\n",
    "  n <- nrow(x)\n",
    "  ids <- 1:n\n",
    "  groups <- eval( substitute(groups), x )\n",
    "  newids <- sample(n, size, replace=replace, prob=prob, ...)\n",
    "  origids <- ids[newids]\n",
    "  result <- x[newids, , drop=FALSE]\n",
    "  \n",
    "  idsString <- as.character(origids)\n",
    "  \n",
    "  for (column in shuffled) {\n",
    "    cids <- sample(newids, groups=groups[newids])\n",
    "    result[,column] <- x[cids,column]\n",
    "    idsString <- paste(idsString, \".\", cids, sep=\"\")\n",
    "  }\n",
    "  \n",
    "  result <-  result[ , union(fixed,shuffled), drop=FALSE]\n",
    "  if (orig.ids) result$orig.id <- idsString\n",
    "    \n",
    "  if (invisibly.return) { return(invisible(result)) } else {return(result)}\n",
    "}"
   ]
  },
  {
   "cell_type": "code",
   "execution_count": null,
   "id": "d137205c-80f0-4904-9529-579095f9e25d",
   "metadata": {
    "editable": true,
    "slideshow": {
     "slide_type": ""
    },
    "tags": []
   },
   "outputs": [],
   "source": []
  },
  {
   "cell_type": "markdown",
   "id": "90eb592f-dbcc-4f02-86a8-a6a155e0c3b4",
   "metadata": {},
   "source": [
    "## Example 2: Narcissism"
   ]
  },
  {
   "cell_type": "code",
   "execution_count": null,
   "id": "8e821ffd-dce9-44e1-8bb7-057523f3f5ee",
   "metadata": {},
   "outputs": [],
   "source": []
  },
  {
   "cell_type": "code",
   "execution_count": null,
   "id": "6bd60935-9ff6-4cd0-9042-1d65817a5044",
   "metadata": {},
   "outputs": [],
   "source": []
  },
  {
   "cell_type": "code",
   "execution_count": null,
   "id": "96a1ad15-edaf-4f68-8799-4100c586bc77",
   "metadata": {},
   "outputs": [],
   "source": []
  },
  {
   "cell_type": "code",
   "execution_count": null,
   "id": "c5bc704a-9972-483c-a216-33047923a524",
   "metadata": {},
   "outputs": [],
   "source": []
  },
  {
   "cell_type": "code",
   "execution_count": null,
   "id": "5416474d-072f-40bc-bd38-7081f9be5dfd",
   "metadata": {},
   "outputs": [],
   "source": []
  },
  {
   "cell_type": "code",
   "execution_count": 4,
   "id": "80736117-bd92-410e-a4df-405239545c98",
   "metadata": {},
   "outputs": [],
   "source": [
    "## Example 3: United Flight Delays"
   ]
  },
  {
   "cell_type": "code",
   "execution_count": null,
   "id": "aba3b9da-7d50-43d5-8f8d-f4b811bb6736",
   "metadata": {},
   "outputs": [],
   "source": []
  }
 ],
 "metadata": {
  "kernelspec": {
   "display_name": "R",
   "language": "R",
   "name": "ir"
  },
  "language_info": {
   "codemirror_mode": "r",
   "file_extension": ".r",
   "mimetype": "text/x-r-source",
   "name": "R",
   "pygments_lexer": "r",
   "version": "3.6.1"
  }
 },
 "nbformat": 4,
 "nbformat_minor": 5
}
